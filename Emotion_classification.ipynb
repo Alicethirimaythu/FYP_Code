{
  "cells": [
    {
      "cell_type": "code",
      "execution_count": 1,
      "metadata": {
        "id": "eVYcsjWrJCUz"
      },
      "outputs": [
        {
          "name": "stdout",
          "output_type": "stream",
          "text": [
            "Looking in indexes: https://download.pytorch.org/whl/cu118\n",
            "Requirement already satisfied: torch in c:\\users\\alice\\documents\\final year project\\fyp_code\\.venv\\lib\\site-packages (2.2.1)\n",
            "Collecting torchvision\n",
            "  Using cached https://download.pytorch.org/whl/cu118/torchvision-0.17.2%2Bcu118-cp312-cp312-win_amd64.whl (4.9 MB)\n",
            "Collecting torchaudio\n",
            "  Using cached https://download.pytorch.org/whl/cu118/torchaudio-2.2.2%2Bcu118-cp312-cp312-win_amd64.whl (3.9 MB)\n",
            "Requirement already satisfied: filelock in c:\\users\\alice\\documents\\final year project\\fyp_code\\.venv\\lib\\site-packages (from torch) (3.13.3)\n",
            "Requirement already satisfied: typing-extensions>=4.8.0 in c:\\users\\alice\\documents\\final year project\\fyp_code\\.venv\\lib\\site-packages (from torch) (4.11.0)\n",
            "Requirement already satisfied: sympy in c:\\users\\alice\\documents\\final year project\\fyp_code\\.venv\\lib\\site-packages (from torch) (1.12)\n",
            "Requirement already satisfied: networkx in c:\\users\\alice\\documents\\final year project\\fyp_code\\.venv\\lib\\site-packages (from torch) (3.2.1)\n",
            "Requirement already satisfied: jinja2 in c:\\users\\alice\\documents\\final year project\\fyp_code\\.venv\\lib\\site-packages (from torch) (3.1.3)\n",
            "Requirement already satisfied: fsspec in c:\\users\\alice\\documents\\final year project\\fyp_code\\.venv\\lib\\site-packages (from torch) (2024.2.0)\n",
            "Requirement already satisfied: numpy in c:\\users\\alice\\documents\\final year project\\fyp_code\\.venv\\lib\\site-packages (from torchvision) (1.26.4)\n",
            "Collecting torch\n",
            "  Using cached https://download.pytorch.org/whl/cu118/torch-2.2.2%2Bcu118-cp312-cp312-win_amd64.whl (2704.2 MB)\n",
            "Requirement already satisfied: pillow!=8.3.*,>=5.3.0 in c:\\users\\alice\\documents\\final year project\\fyp_code\\.venv\\lib\\site-packages (from torchvision) (10.3.0)\n",
            "Requirement already satisfied: MarkupSafe>=2.0 in c:\\users\\alice\\documents\\final year project\\fyp_code\\.venv\\lib\\site-packages (from jinja2->torch) (2.1.5)\n",
            "Requirement already satisfied: mpmath>=0.19 in c:\\users\\alice\\documents\\final year project\\fyp_code\\.venv\\lib\\site-packages (from sympy->torch) (1.3.0)\n",
            "Installing collected packages: torch, torchvision, torchaudio\n",
            "  Attempting uninstall: torch\n",
            "    Found existing installation: torch 2.2.1\n",
            "    Uninstalling torch-2.2.1:\n",
            "      Successfully uninstalled torch-2.2.1\n",
            "Successfully installed torch-2.2.2+cu118 torchaudio-2.2.2+cu118 torchvision-0.17.2+cu118\n",
            "Note: you may need to restart the kernel to use updated packages.\n"
          ]
        }
      ],
      "source": [
        "%pip install torch torchvision torchaudio --index-url https://download.pytorch.org/whl/cu118"
      ]
    },
    {
      "cell_type": "code",
      "execution_count": 2,
      "metadata": {
        "id": "NkEB-CODY9gI"
      },
      "outputs": [
        {
          "name": "stdout",
          "output_type": "stream",
          "text": [
            "^C\n",
            "Note: you may need to restart the kernel to use updated packages.\n",
            "Requirement already satisfied: transformers in c:\\users\\alice\\documents\\final year project\\fyp_code\\.venv\\lib\\site-packages (4.38.1)\n",
            "Requirement already satisfied: datasets in c:\\users\\alice\\documents\\final year project\\fyp_code\\.venv\\lib\\site-packages (2.18.0)\n",
            "Requirement already satisfied: filelock in c:\\users\\alice\\documents\\final year project\\fyp_code\\.venv\\lib\\site-packages (from transformers) (3.13.3)\n",
            "Requirement already satisfied: huggingface-hub<1.0,>=0.19.3 in c:\\users\\alice\\documents\\final year project\\fyp_code\\.venv\\lib\\site-packages (from transformers) (0.22.2)\n",
            "Requirement already satisfied: numpy>=1.17 in c:\\users\\alice\\documents\\final year project\\fyp_code\\.venv\\lib\\site-packages (from transformers) (1.26.4)\n",
            "Requirement already satisfied: packaging>=20.0 in c:\\users\\alice\\documents\\final year project\\fyp_code\\.venv\\lib\\site-packages (from transformers) (24.0)\n",
            "Requirement already satisfied: pyyaml>=5.1 in c:\\users\\alice\\documents\\final year project\\fyp_code\\.venv\\lib\\site-packages (from transformers) (6.0.1)\n",
            "Requirement already satisfied: regex!=2019.12.17 in c:\\users\\alice\\documents\\final year project\\fyp_code\\.venv\\lib\\site-packages (from transformers) (2023.12.25)\n",
            "Requirement already satisfied: requests in c:\\users\\alice\\documents\\final year project\\fyp_code\\.venv\\lib\\site-packages (from transformers) (2.31.0)\n",
            "Requirement already satisfied: tokenizers<0.19,>=0.14 in c:\\users\\alice\\documents\\final year project\\fyp_code\\.venv\\lib\\site-packages (from transformers) (0.15.2)\n",
            "Requirement already satisfied: safetensors>=0.4.1 in c:\\users\\alice\\documents\\final year project\\fyp_code\\.venv\\lib\\site-packages (from transformers) (0.4.2)\n",
            "Requirement already satisfied: tqdm>=4.27 in c:\\users\\alice\\documents\\final year project\\fyp_code\\.venv\\lib\\site-packages (from transformers) (4.66.2)\n",
            "Requirement already satisfied: pyarrow>=12.0.0 in c:\\users\\alice\\documents\\final year project\\fyp_code\\.venv\\lib\\site-packages (from datasets) (15.0.2)\n",
            "Requirement already satisfied: pyarrow-hotfix in c:\\users\\alice\\documents\\final year project\\fyp_code\\.venv\\lib\\site-packages (from datasets) (0.6)\n",
            "Requirement already satisfied: dill<0.3.9,>=0.3.0 in c:\\users\\alice\\documents\\final year project\\fyp_code\\.venv\\lib\\site-packages (from datasets) (0.3.8)\n",
            "Requirement already satisfied: pandas in c:\\users\\alice\\documents\\final year project\\fyp_code\\.venv\\lib\\site-packages (from datasets) (2.2.1)\n",
            "Requirement already satisfied: xxhash in c:\\users\\alice\\documents\\final year project\\fyp_code\\.venv\\lib\\site-packages (from datasets) (3.4.1)\n",
            "Requirement already satisfied: multiprocess in c:\\users\\alice\\documents\\final year project\\fyp_code\\.venv\\lib\\site-packages (from datasets) (0.70.16)\n",
            "Requirement already satisfied: fsspec<=2024.2.0,>=2023.1.0 in c:\\users\\alice\\documents\\final year project\\fyp_code\\.venv\\lib\\site-packages (from fsspec[http]<=2024.2.0,>=2023.1.0->datasets) (2024.2.0)\n",
            "Requirement already satisfied: aiohttp in c:\\users\\alice\\documents\\final year project\\fyp_code\\.venv\\lib\\site-packages (from datasets) (3.9.3)\n",
            "Requirement already satisfied: aiosignal>=1.1.2 in c:\\users\\alice\\documents\\final year project\\fyp_code\\.venv\\lib\\site-packages (from aiohttp->datasets) (1.3.1)\n",
            "Requirement already satisfied: attrs>=17.3.0 in c:\\users\\alice\\documents\\final year project\\fyp_code\\.venv\\lib\\site-packages (from aiohttp->datasets) (23.2.0)\n",
            "Requirement already satisfied: frozenlist>=1.1.1 in c:\\users\\alice\\documents\\final year project\\fyp_code\\.venv\\lib\\site-packages (from aiohttp->datasets) (1.4.1)\n",
            "Requirement already satisfied: multidict<7.0,>=4.5 in c:\\users\\alice\\documents\\final year project\\fyp_code\\.venv\\lib\\site-packages (from aiohttp->datasets) (6.0.5)\n",
            "Requirement already satisfied: yarl<2.0,>=1.0 in c:\\users\\alice\\documents\\final year project\\fyp_code\\.venv\\lib\\site-packages (from aiohttp->datasets) (1.9.4)\n",
            "Requirement already satisfied: typing-extensions>=3.7.4.3 in c:\\users\\alice\\documents\\final year project\\fyp_code\\.venv\\lib\\site-packages (from huggingface-hub<1.0,>=0.19.3->transformers) (4.11.0)\n",
            "Requirement already satisfied: charset-normalizer<4,>=2 in c:\\users\\alice\\documents\\final year project\\fyp_code\\.venv\\lib\\site-packages (from requests->transformers) (3.3.2)\n",
            "Requirement already satisfied: idna<4,>=2.5 in c:\\users\\alice\\documents\\final year project\\fyp_code\\.venv\\lib\\site-packages (from requests->transformers) (3.6)\n",
            "Requirement already satisfied: urllib3<3,>=1.21.1 in c:\\users\\alice\\documents\\final year project\\fyp_code\\.venv\\lib\\site-packages (from requests->transformers) (2.2.1)\n",
            "Requirement already satisfied: certifi>=2017.4.17 in c:\\users\\alice\\documents\\final year project\\fyp_code\\.venv\\lib\\site-packages (from requests->transformers) (2024.2.2)\n",
            "Requirement already satisfied: colorama in c:\\users\\alice\\documents\\final year project\\fyp_code\\.venv\\lib\\site-packages (from tqdm>=4.27->transformers) (0.4.6)\n",
            "Requirement already satisfied: python-dateutil>=2.8.2 in c:\\users\\alice\\documents\\final year project\\fyp_code\\.venv\\lib\\site-packages (from pandas->datasets) (2.9.0.post0)\n",
            "Requirement already satisfied: pytz>=2020.1 in c:\\users\\alice\\documents\\final year project\\fyp_code\\.venv\\lib\\site-packages (from pandas->datasets) (2024.1)\n",
            "Requirement already satisfied: tzdata>=2022.7 in c:\\users\\alice\\documents\\final year project\\fyp_code\\.venv\\lib\\site-packages (from pandas->datasets) (2024.1)\n",
            "Requirement already satisfied: six>=1.5 in c:\\users\\alice\\documents\\final year project\\fyp_code\\.venv\\lib\\site-packages (from python-dateutil>=2.8.2->pandas->datasets) (1.16.0)\n",
            "Note: you may need to restart the kernel to use updated packages.\n"
          ]
        },
        {
          "name": "stderr",
          "output_type": "stream",
          "text": [
            "ERROR: Could not find a version that satisfies the requirement torch==2.2.1+cu121 (from versions: 2.2.0, 2.2.1, 2.2.2)\n",
            "ERROR: No matching distribution found for torch==2.2.1+cu121\n"
          ]
        },
        {
          "ename": "",
          "evalue": "",
          "output_type": "error",
          "traceback": [
            "\u001b[1;31mCannot execute code, session has been disposed. Please try restarting the Kernel."
          ]
        },
        {
          "ename": "",
          "evalue": "",
          "output_type": "error",
          "traceback": [
            "\u001b[1;31mCannot execute code, session has been disposed. Please try restarting the Kernel. \n",
            "\u001b[1;31mView Jupyter <a href='command:jupyter.viewOutput'>log</a> for further details."
          ]
        }
      ],
      "source": [
        "%pip install transformers datasets\n",
        "%pip install torch==2.2.1+cu121\n",
        "%pip install tensorflow\n",
        "\n",
        "# from google.colab import drive\n",
        "# drive.mount('/content/drive')\n",
        "\n",
        "# %pip install kaggle\n",
        "# import os\n",
        "# os.environ['KAGGLE_CONFIG_DIR'] = '/content/drive/MyDrive/kaggle'\n"
      ]
    },
    {
      "cell_type": "code",
      "execution_count": 1,
      "metadata": {},
      "outputs": [
        {
          "data": {
            "text/plain": [
              "'cuda: 0'"
            ]
          },
          "execution_count": 1,
          "metadata": {},
          "output_type": "execute_result"
        }
      ],
      "source": [
        "import torch\n",
        "\n",
        "DEVICE =  \"cuda: 0\" if torch.cuda.is_available() else \"cpu\"\n",
        "DEVICE"
      ]
    },
    {
      "cell_type": "code",
      "execution_count": 2,
      "metadata": {
        "colab": {
          "base_uri": "https://localhost:8080/"
        },
        "id": "tNdK9DyljgDe",
        "outputId": "4f0c61f3-42b0-4307-a9f4-ba32d3bbc4de"
      },
      "outputs": [
        {
          "data": {
            "text/plain": [
              "DatasetDict({\n",
              "    train: Dataset({\n",
              "        features: ['text', 'label'],\n",
              "        num_rows: 16000\n",
              "    })\n",
              "    validation: Dataset({\n",
              "        features: ['text', 'label'],\n",
              "        num_rows: 2000\n",
              "    })\n",
              "    test: Dataset({\n",
              "        features: ['text', 'label'],\n",
              "        num_rows: 2000\n",
              "    })\n",
              "})"
            ]
          },
          "execution_count": 2,
          "metadata": {},
          "output_type": "execute_result"
        }
      ],
      "source": [
        "from datasets import load_dataset, Dataset, Value, ClassLabel, Features\n",
        "\n",
        "my_dataset = load_dataset(\"./Emotion_Dataset\", sep=\",\")\n",
        "# Creating a ClassLabel Object\n",
        "df = my_dataset[\"train\"].to_pandas()\n",
        "labels = ['sadness','joy','love','anger', 'fear', 'surprise']\n",
        "ClassLabels = ClassLabel(num_classes=len(labels), names=labels)\n",
        "\n",
        "# Mapping Labels to IDs\n",
        "def map_label2id(example):\n",
        "    example['label'] = ClassLabels.str2int(example['label'])\n",
        "    return example\n",
        "\n",
        "my_dataset= my_dataset.map(map_label2id, batched=True)\n",
        "\n",
        "# Casting label column to ClassLabel Object\n",
        "my_dataset = my_dataset.cast_column('label', ClassLabels)\n",
        "\n",
        "my_dataset\n"
      ]
    },
    {
      "cell_type": "code",
      "execution_count": 6,
      "metadata": {
        "colab": {
          "base_uri": "https://localhost:8080/"
        },
        "id": "J5e0rYcCHEwY",
        "outputId": "55d859de-0d94-47d8-d4fe-f8806f6b2832"
      },
      "outputs": [
        {
          "data": {
            "text/plain": [
              "0       0\n",
              "1       0\n",
              "2       0\n",
              "3       1\n",
              "4       0\n",
              "       ..\n",
              "1995    3\n",
              "1996    3\n",
              "1997    1\n",
              "1998    1\n",
              "1999    4\n",
              "Name: label, Length: 2000, dtype: int64"
            ]
          },
          "execution_count": 6,
          "metadata": {},
          "output_type": "execute_result"
        }
      ],
      "source": [
        "X_train = my_dataset[\"train\"].to_pandas()\n",
        "X_val = my_dataset[\"validation\"].to_pandas()\n",
        "X_test = my_dataset[\"test\"].to_pandas()\n",
        "y_true = X_test.label\n",
        "y_true"
      ]
    },
    {
      "cell_type": "code",
      "execution_count": 7,
      "metadata": {
        "colab": {
          "base_uri": "https://localhost:8080/"
        },
        "id": "kdd5ixJCnASn",
        "outputId": "85fe9aa2-7571-4662-fd46-8bb05a7d894e"
      },
      "outputs": [
        {
          "data": {
            "text/plain": [
              "{'text': Value(dtype='string', id=None),\n",
              " 'label': ClassLabel(names=['sadness', 'joy', 'love', 'anger', 'fear', 'surprise'], id=None)}"
            ]
          },
          "execution_count": 7,
          "metadata": {},
          "output_type": "execute_result"
        }
      ],
      "source": [
        "features = my_dataset[\"train\"].features\n",
        "features"
      ]
    },
    {
      "cell_type": "code",
      "execution_count": 8,
      "metadata": {
        "colab": {
          "base_uri": "https://localhost:8080/",
          "height": 35
        },
        "id": "vB5xPUb0HuBc",
        "outputId": "c52d2b28-9b8f-4b8b-bec7-f985aefcf585"
      },
      "outputs": [
        {
          "data": {
            "text/plain": [
              "'sadness'"
            ]
          },
          "execution_count": 8,
          "metadata": {},
          "output_type": "execute_result"
        }
      ],
      "source": [
        "features[\"label\"].int2str(0)"
      ]
    },
    {
      "cell_type": "code",
      "execution_count": 9,
      "metadata": {
        "colab": {
          "base_uri": "https://localhost:8080/"
        },
        "id": "IRVa-aidIN2_",
        "outputId": "cf4534a8-90f7-434f-afc5-e608b6ddde09"
      },
      "outputs": [
        {
          "data": {
            "text/plain": [
              "{0: 'sadness', 1: 'joy', 2: 'love', 3: 'anger', 4: 'fear', 5: 'surprise'}"
            ]
          },
          "execution_count": 9,
          "metadata": {},
          "output_type": "execute_result"
        }
      ],
      "source": [
        "id2label = {idx:features[\"label\"].int2str(idx) for idx in range(6)}\n",
        "id2label"
      ]
    },
    {
      "cell_type": "code",
      "execution_count": 10,
      "metadata": {
        "colab": {
          "base_uri": "https://localhost:8080/"
        },
        "id": "2G-XEN0KIacR",
        "outputId": "7d5cfe35-a7d0-4ef0-f301-db575ab551c7"
      },
      "outputs": [
        {
          "data": {
            "text/plain": [
              "{'sadness': 0, 'joy': 1, 'love': 2, 'anger': 3, 'fear': 4, 'surprise': 5}"
            ]
          },
          "execution_count": 10,
          "metadata": {},
          "output_type": "execute_result"
        }
      ],
      "source": [
        "label2id = {v:k for k,v in id2label.items()}\n",
        "label2id"
      ]
    },
    {
      "cell_type": "code",
      "execution_count": 11,
      "metadata": {
        "colab": {
          "base_uri": "https://localhost:8080/"
        },
        "id": "XB_j7rLEuMVX",
        "outputId": "86035880-e687-42d2-80d7-197ce416a4d0"
      },
      "outputs": [
        {
          "data": {
            "text/plain": [
              "label\n",
              "0    0.291625\n",
              "1    0.335125\n",
              "2    0.081500\n",
              "3    0.134937\n",
              "4    0.121063\n",
              "5    0.035750\n",
              "Name: proportion, dtype: float64"
            ]
          },
          "execution_count": 11,
          "metadata": {},
          "output_type": "execute_result"
        }
      ],
      "source": [
        "X_train[\"label\"].value_counts(normalize=True).sort_index()"
      ]
    },
    {
      "cell_type": "code",
      "execution_count": 12,
      "metadata": {
        "colab": {
          "base_uri": "https://localhost:8080/"
        },
        "id": "kvrIgv0BykSm",
        "outputId": "2d4d95be-2a57-4600-e117-3bba05bbc0c7"
      },
      "outputs": [],
      "source": [
        "from transformers import AutoTokenizer\n",
        "\n",
        "model_ckpt = \"microsoft/MiniLM-L12-H384-uncased\"\n",
        "tokenizer = AutoTokenizer.from_pretrained(model_ckpt)"
      ]
    },
    {
      "cell_type": "code",
      "execution_count": 13,
      "metadata": {
        "colab": {
          "base_uri": "https://localhost:8080/"
        },
        "id": "RTvzPTLN0crO",
        "outputId": "dc868e5a-ef0b-4824-b302-f6c05f659b3a"
      },
      "outputs": [
        {
          "data": {
            "text/plain": [
              "{'input_ids': [[101, 1045, 2134, 2102, 2514, 26608, 102]], 'token_type_ids': [[0, 0, 0, 0, 0, 0, 0]], 'attention_mask': [[1, 1, 1, 1, 1, 1, 1]]}"
            ]
          },
          "execution_count": 13,
          "metadata": {},
          "output_type": "execute_result"
        }
      ],
      "source": [
        "tokenizer(my_dataset[\"train\"][\"text\"][:1])"
      ]
    },
    {
      "cell_type": "code",
      "execution_count": 14,
      "metadata": {
        "id": "-ehXaGas0fPE"
      },
      "outputs": [],
      "source": [
        "def tokenize_text(examples):\n",
        "  return tokenizer(examples[\"text\"], truncation=True, max_length=512)\n"
      ]
    },
    {
      "cell_type": "code",
      "execution_count": 15,
      "metadata": {
        "colab": {
          "base_uri": "https://localhost:8080/",
          "height": 299,
          "referenced_widgets": [
            "418fb606e1a84f0bacd9c24320be196d",
            "dfbe510d962a43689278c12576134e69",
            "1e26414c0f3249f7af566e035033fa68",
            "379506db19e84b68879264442b1c8c79",
            "786ffbd96dfe4901ac68b428d6c5a58d",
            "754328c8c0554506b2acde76139b6c5f",
            "611c3b676e884a39a897f1ff964b31fb",
            "73e859bbacde43299893f937015f2df4",
            "b2aa939ac10d439cbaaf9d267d9dd8d2",
            "f164a344f6f242b9bdf2f748aa724145",
            "5a329f563a7a44bcb6f63983d39c89f8"
          ]
        },
        "id": "gpwSk1Ud02o0",
        "outputId": "b27f4253-110c-44ae-a963-3291c2ce842b"
      },
      "outputs": [
        {
          "data": {
            "application/vnd.jupyter.widget-view+json": {
              "model_id": "e0fbd6f51c224e04bea54833ca4ed12b",
              "version_major": 2,
              "version_minor": 0
            },
            "text/plain": [
              "Map:   0%|          | 0/2000 [00:00<?, ? examples/s]"
            ]
          },
          "metadata": {},
          "output_type": "display_data"
        },
        {
          "data": {
            "text/plain": [
              "DatasetDict({\n",
              "    train: Dataset({\n",
              "        features: ['text', 'label', 'input_ids', 'token_type_ids', 'attention_mask'],\n",
              "        num_rows: 16000\n",
              "    })\n",
              "    validation: Dataset({\n",
              "        features: ['text', 'label', 'input_ids', 'token_type_ids', 'attention_mask'],\n",
              "        num_rows: 2000\n",
              "    })\n",
              "    test: Dataset({\n",
              "        features: ['text', 'label', 'input_ids', 'token_type_ids', 'attention_mask'],\n",
              "        num_rows: 2000\n",
              "    })\n",
              "})"
            ]
          },
          "execution_count": 15,
          "metadata": {},
          "output_type": "execute_result"
        }
      ],
      "source": [
        "my_dataset = my_dataset.map(tokenize_text, batched=True)\n",
        "my_dataset"
      ]
    },
    {
      "cell_type": "code",
      "execution_count": 16,
      "metadata": {
        "colab": {
          "base_uri": "https://localhost:8080/"
        },
        "id": "vuWH9HdN1ZbH",
        "outputId": "2e3650cc-3eaa-4c1f-d270-764b5b3dcf0b"
      },
      "outputs": [
        {
          "data": {
            "text/plain": [
              "tensor([0.7084, 0.6649, 0.9185, 0.8651, 0.8789, 0.9643], device='cuda:0')"
            ]
          },
          "execution_count": 16,
          "metadata": {},
          "output_type": "execute_result"
        }
      ],
      "source": [
        "class_weights = (1 - (X_train[\"label\"].value_counts().sort_index() / len(X_train))).values #assigning high weight to the rare classes and low weight to the common classes to balance it out as there is an imbalance in the dataset\n",
        "class_weights\n",
        "\n",
        "import torch\n",
        "\n",
        "class_weights = torch.from_numpy(class_weights).float()\n",
        "class_weights = class_weights.to(\"cuda\")\n",
        "class_weights"
      ]
    },
    {
      "cell_type": "code",
      "execution_count": 17,
      "metadata": {
        "id": "e7zC9h8t2fMg"
      },
      "outputs": [],
      "source": [
        "my_dataset = my_dataset.rename_column(\"label\", \"labels\")"
      ]
    },
    {
      "cell_type": "code",
      "execution_count": 18,
      "metadata": {
        "id": "VE6OjIXX8nj-"
      },
      "outputs": [],
      "source": [
        "from torch import nn\n",
        "import torch\n",
        "from transformers import Trainer\n",
        "\n",
        "class WeightedLossTrainer(Trainer):\n",
        "  def compute_loss(self, model, inputs, return_outputs=False):\n",
        "    # Feed inputs to model and extract logits\n",
        "    outputs = model(**inputs)\n",
        "    logits = outputs.get(\"logits\")\n",
        "    # Extract labels\n",
        "    labels = inputs.get(\"labels\")\n",
        "    #Define loss function with class weights\n",
        "    loss_func=nn.CrossEntropyLoss(weight=class_weights)\n",
        "    # Compute loss\n",
        "    loss = loss_func(logits, labels)\n",
        "    return (loss, outputs) if return_outputs else loss"
      ]
    },
    {
      "cell_type": "code",
      "execution_count": 25,
      "metadata": {
        "colab": {
          "base_uri": "https://localhost:8080/"
        },
        "id": "EFMPmiZj9zhP",
        "outputId": "1b1d2ea0-2e19-401c-c61d-fd12f70a2b68"
      },
      "outputs": [
        {
          "name": "stderr",
          "output_type": "stream",
          "text": [
            "Some weights of BertForSequenceClassification were not initialized from the model checkpoint at microsoft/MiniLM-L12-H384-uncased and are newly initialized: ['classifier.bias', 'classifier.weight']\n",
            "You should probably TRAIN this model on a down-stream task to be able to use it for predictions and inference.\n"
          ]
        }
      ],
      "source": [
        "from transformers import AutoModelForSequenceClassification, BertConfig, TextClassificationPipeline\n",
        "\n",
        "model = AutoModelForSequenceClassification.from_pretrained(model_ckpt,\n",
        "                                                          num_labels=6,\n",
        "                                                          id2label=id2label,\n",
        "                                                          label2id=label2id)\n",
        "# config = BertConfig.from_pretrained('sentence-transformers/all-MiniLM-L12-v2')\n",
        "\n",
        "# model = AutoModelForSequenceClassification.from_pretrained(config)"
      ]
    },
    {
      "cell_type": "code",
      "execution_count": 26,
      "metadata": {
        "id": "60FjripfI3as"
      },
      "outputs": [],
      "source": [
        "from sklearn.metrics import f1_score, accuracy_score, confusion_matrix\n",
        "\n",
        "def compute_metrics(pred):\n",
        "  labels = pred.label_ids\n",
        "  preds = pred.predictions.argmax(-1)\n",
        "  accuracy= accuracy_score(labels, preds)\n",
        "  f1 = f1_score(labels, preds, average=\"weighted\")\n",
        "  return {\"f1\": f1, \"accuracy\" : accuracy}\n"
      ]
    },
    {
      "cell_type": "code",
      "execution_count": 41,
      "metadata": {
        "colab": {
          "base_uri": "https://localhost:8080/",
          "height": 1000
        },
        "id": "RMLJKfqIJhdC",
        "outputId": "d5f87512-7328-4e00-e193-8dfd4b804ac0"
      },
      "outputs": [
        {
          "name": "stdout",
          "output_type": "stream",
          "text": [
            "Requirement already satisfied: transformers[torch] in c:\\users\\alice\\documents\\final year project\\fyp_code\\.venv\\lib\\site-packages (4.38.1)\n",
            "Requirement already satisfied: filelock in c:\\users\\alice\\documents\\final year project\\fyp_code\\.venv\\lib\\site-packages (from transformers[torch]) (3.13.3)\n",
            "Requirement already satisfied: huggingface-hub<1.0,>=0.19.3 in c:\\users\\alice\\documents\\final year project\\fyp_code\\.venv\\lib\\site-packages (from transformers[torch]) (0.22.2)\n",
            "Requirement already satisfied: numpy>=1.17 in c:\\users\\alice\\documents\\final year project\\fyp_code\\.venv\\lib\\site-packages (from transformers[torch]) (1.26.4)\n",
            "Requirement already satisfied: packaging>=20.0 in c:\\users\\alice\\documents\\final year project\\fyp_code\\.venv\\lib\\site-packages (from transformers[torch]) (24.0)\n",
            "Requirement already satisfied: pyyaml>=5.1 in c:\\users\\alice\\documents\\final year project\\fyp_code\\.venv\\lib\\site-packages (from transformers[torch]) (6.0.1)\n",
            "Requirement already satisfied: regex!=2019.12.17 in c:\\users\\alice\\documents\\final year project\\fyp_code\\.venv\\lib\\site-packages (from transformers[torch]) (2023.12.25)\n",
            "Requirement already satisfied: requests in c:\\users\\alice\\documents\\final year project\\fyp_code\\.venv\\lib\\site-packages (from transformers[torch]) (2.31.0)\n",
            "Requirement already satisfied: tokenizers<0.19,>=0.14 in c:\\users\\alice\\documents\\final year project\\fyp_code\\.venv\\lib\\site-packages (from transformers[torch]) (0.15.2)\n",
            "Requirement already satisfied: safetensors>=0.4.1 in c:\\users\\alice\\documents\\final year project\\fyp_code\\.venv\\lib\\site-packages (from transformers[torch]) (0.4.2)\n",
            "Requirement already satisfied: tqdm>=4.27 in c:\\users\\alice\\documents\\final year project\\fyp_code\\.venv\\lib\\site-packages (from transformers[torch]) (4.66.2)\n",
            "Requirement already satisfied: torch in c:\\users\\alice\\documents\\final year project\\fyp_code\\.venv\\lib\\site-packages (from transformers[torch]) (2.2.2+cu118)\n",
            "Requirement already satisfied: accelerate>=0.21.0 in c:\\users\\alice\\documents\\final year project\\fyp_code\\.venv\\lib\\site-packages (from transformers[torch]) (0.29.1)\n",
            "Requirement already satisfied: psutil in c:\\users\\alice\\documents\\final year project\\fyp_code\\.venv\\lib\\site-packages (from accelerate>=0.21.0->transformers[torch]) (5.9.8)\n",
            "Requirement already satisfied: fsspec>=2023.5.0 in c:\\users\\alice\\documents\\final year project\\fyp_code\\.venv\\lib\\site-packages (from huggingface-hub<1.0,>=0.19.3->transformers[torch]) (2024.2.0)\n",
            "Requirement already satisfied: typing-extensions>=3.7.4.3 in c:\\users\\alice\\documents\\final year project\\fyp_code\\.venv\\lib\\site-packages (from huggingface-hub<1.0,>=0.19.3->transformers[torch]) (4.11.0)\n",
            "Requirement already satisfied: sympy in c:\\users\\alice\\documents\\final year project\\fyp_code\\.venv\\lib\\site-packages (from torch->transformers[torch]) (1.12)\n",
            "Requirement already satisfied: networkx in c:\\users\\alice\\documents\\final year project\\fyp_code\\.venv\\lib\\site-packages (from torch->transformers[torch]) (3.2.1)\n",
            "Requirement already satisfied: jinja2 in c:\\users\\alice\\documents\\final year project\\fyp_code\\.venv\\lib\\site-packages (from torch->transformers[torch]) (3.1.3)\n",
            "Requirement already satisfied: colorama in c:\\users\\alice\\documents\\final year project\\fyp_code\\.venv\\lib\\site-packages (from tqdm>=4.27->transformers[torch]) (0.4.6)\n",
            "Requirement already satisfied: charset-normalizer<4,>=2 in c:\\users\\alice\\documents\\final year project\\fyp_code\\.venv\\lib\\site-packages (from requests->transformers[torch]) (3.3.2)\n",
            "Requirement already satisfied: idna<4,>=2.5 in c:\\users\\alice\\documents\\final year project\\fyp_code\\.venv\\lib\\site-packages (from requests->transformers[torch]) (3.6)\n",
            "Requirement already satisfied: urllib3<3,>=1.21.1 in c:\\users\\alice\\documents\\final year project\\fyp_code\\.venv\\lib\\site-packages (from requests->transformers[torch]) (2.2.1)\n",
            "Requirement already satisfied: certifi>=2017.4.17 in c:\\users\\alice\\documents\\final year project\\fyp_code\\.venv\\lib\\site-packages (from requests->transformers[torch]) (2024.2.2)\n",
            "Requirement already satisfied: MarkupSafe>=2.0 in c:\\users\\alice\\documents\\final year project\\fyp_code\\.venv\\lib\\site-packages (from jinja2->torch->transformers[torch]) (2.1.5)\n",
            "Requirement already satisfied: mpmath>=0.19 in c:\\users\\alice\\documents\\final year project\\fyp_code\\.venv\\lib\\site-packages (from sympy->torch->transformers[torch]) (1.3.0)\n",
            "Note: you may need to restart the kernel to use updated packages.\n",
            "Requirement already satisfied: accelerate in c:\\users\\alice\\documents\\final year project\\fyp_code\\.venv\\lib\\site-packages (0.29.1)\n",
            "Requirement already satisfied: numpy>=1.17 in c:\\users\\alice\\documents\\final year project\\fyp_code\\.venv\\lib\\site-packages (from accelerate) (1.26.4)\n",
            "Requirement already satisfied: packaging>=20.0 in c:\\users\\alice\\documents\\final year project\\fyp_code\\.venv\\lib\\site-packages (from accelerate) (24.0)\n",
            "Requirement already satisfied: psutil in c:\\users\\alice\\documents\\final year project\\fyp_code\\.venv\\lib\\site-packages (from accelerate) (5.9.8)\n",
            "Requirement already satisfied: pyyaml in c:\\users\\alice\\documents\\final year project\\fyp_code\\.venv\\lib\\site-packages (from accelerate) (6.0.1)\n",
            "Requirement already satisfied: torch>=1.10.0 in c:\\users\\alice\\documents\\final year project\\fyp_code\\.venv\\lib\\site-packages (from accelerate) (2.2.2+cu118)\n",
            "Requirement already satisfied: huggingface-hub in c:\\users\\alice\\documents\\final year project\\fyp_code\\.venv\\lib\\site-packages (from accelerate) (0.22.2)\n",
            "Requirement already satisfied: safetensors>=0.3.1 in c:\\users\\alice\\documents\\final year project\\fyp_code\\.venv\\lib\\site-packages (from accelerate) (0.4.2)\n",
            "Requirement already satisfied: filelock in c:\\users\\alice\\documents\\final year project\\fyp_code\\.venv\\lib\\site-packages (from torch>=1.10.0->accelerate) (3.13.3)\n",
            "Requirement already satisfied: typing-extensions>=4.8.0 in c:\\users\\alice\\documents\\final year project\\fyp_code\\.venv\\lib\\site-packages (from torch>=1.10.0->accelerate) (4.11.0)\n",
            "Requirement already satisfied: sympy in c:\\users\\alice\\documents\\final year project\\fyp_code\\.venv\\lib\\site-packages (from torch>=1.10.0->accelerate) (1.12)\n",
            "Requirement already satisfied: networkx in c:\\users\\alice\\documents\\final year project\\fyp_code\\.venv\\lib\\site-packages (from torch>=1.10.0->accelerate) (3.2.1)\n",
            "Requirement already satisfied: jinja2 in c:\\users\\alice\\documents\\final year project\\fyp_code\\.venv\\lib\\site-packages (from torch>=1.10.0->accelerate) (3.1.3)\n",
            "Requirement already satisfied: fsspec in c:\\users\\alice\\documents\\final year project\\fyp_code\\.venv\\lib\\site-packages (from torch>=1.10.0->accelerate) (2024.2.0)\n",
            "Requirement already satisfied: requests in c:\\users\\alice\\documents\\final year project\\fyp_code\\.venv\\lib\\site-packages (from huggingface-hub->accelerate) (2.31.0)\n",
            "Requirement already satisfied: tqdm>=4.42.1 in c:\\users\\alice\\documents\\final year project\\fyp_code\\.venv\\lib\\site-packages (from huggingface-hub->accelerate) (4.66.2)\n",
            "Requirement already satisfied: colorama in c:\\users\\alice\\documents\\final year project\\fyp_code\\.venv\\lib\\site-packages (from tqdm>=4.42.1->huggingface-hub->accelerate) (0.4.6)\n",
            "Requirement already satisfied: MarkupSafe>=2.0 in c:\\users\\alice\\documents\\final year project\\fyp_code\\.venv\\lib\\site-packages (from jinja2->torch>=1.10.0->accelerate) (2.1.5)\n",
            "Requirement already satisfied: charset-normalizer<4,>=2 in c:\\users\\alice\\documents\\final year project\\fyp_code\\.venv\\lib\\site-packages (from requests->huggingface-hub->accelerate) (3.3.2)\n",
            "Requirement already satisfied: idna<4,>=2.5 in c:\\users\\alice\\documents\\final year project\\fyp_code\\.venv\\lib\\site-packages (from requests->huggingface-hub->accelerate) (3.6)\n",
            "Requirement already satisfied: urllib3<3,>=1.21.1 in c:\\users\\alice\\documents\\final year project\\fyp_code\\.venv\\lib\\site-packages (from requests->huggingface-hub->accelerate) (2.2.1)\n",
            "Requirement already satisfied: certifi>=2017.4.17 in c:\\users\\alice\\documents\\final year project\\fyp_code\\.venv\\lib\\site-packages (from requests->huggingface-hub->accelerate) (2024.2.2)\n",
            "Requirement already satisfied: mpmath>=0.19 in c:\\users\\alice\\documents\\final year project\\fyp_code\\.venv\\lib\\site-packages (from sympy->torch>=1.10.0->accelerate) (1.3.0)\n",
            "Note: you may need to restart the kernel to use updated packages.\n"
          ]
        }
      ],
      "source": [
        "%pip install transformers[torch]\n",
        "%pip install accelerate -U\n",
        "from transformers import TrainingArguments\n",
        "\n",
        "batch_size = 64\n",
        "\n",
        "logging_steps = len(my_dataset[\"train\"])\n",
        "output_dir = \"./best_model_miniLM\"\n",
        "training_args = TrainingArguments(output_dir=output_dir,\n",
        "                                  num_train_epochs=5,\n",
        "                                  learning_rate=2e-5,\n",
        "                                  per_device_train_batch_size=batch_size,\n",
        "                                  per_device_eval_batch_size=batch_size,\n",
        "                                  weight_decay=0.01,\n",
        "                                  evaluation_strategy=\"epoch\",\n",
        "                                  logging_steps=logging_steps,\n",
        "                                  fp16=True,\n",
        "                                  )\n"
      ]
    },
    {
      "cell_type": "code",
      "execution_count": 42,
      "metadata": {
        "id": "bRwJUAXnNPY3"
      },
      "outputs": [
        {
          "name": "stderr",
          "output_type": "stream",
          "text": [
            "c:\\Users\\alice\\Documents\\Final year project\\Fyp_code\\.venv\\Lib\\site-packages\\accelerate\\accelerator.py:436: FutureWarning: Passing the following arguments to `Accelerator` is deprecated and will be removed in version 1.0 of Accelerate: dict_keys(['dispatch_batches', 'split_batches', 'even_batches', 'use_seedable_sampler']). Please pass an `accelerate.DataLoaderConfiguration` instead: \n",
            "dataloader_config = DataLoaderConfiguration(dispatch_batches=None, split_batches=False, even_batches=True, use_seedable_sampler=True)\n",
            "  warnings.warn(\n"
          ]
        }
      ],
      "source": [
        "trainer = WeightedLossTrainer(model=model,\n",
        "                              args=training_args,\n",
        "                              compute_metrics=compute_metrics,\n",
        "                              train_dataset=my_dataset[\"train\"],\n",
        "                              eval_dataset=my_dataset[\"validation\"],\n",
        "                              tokenizer=tokenizer)"
      ]
    },
    {
      "cell_type": "code",
      "execution_count": 43,
      "metadata": {},
      "outputs": [],
      "source": [
        "from transformers import pipeline\n",
        "from tqdm import tqdm\n",
        "from sklearn.metrics import (accuracy_score,\n",
        "                             classification_report,\n",
        "                             confusion_matrix)"
      ]
    },
    {
      "cell_type": "code",
      "execution_count": 44,
      "metadata": {},
      "outputs": [],
      "source": [
        "def predict(model, tokenizer):\n",
        "    y_pred = []\n",
        "    none_pred = []\n",
        "    for i in tqdm(range(len(X_test))):\n",
        "        # prompt = X_test.iloc[i][\"text\"].to(DEVICE)\n",
        "        prompt = X_test.iloc[i][\"text\"]\n",
        "        pipe = pipeline(task=\"text-classification\",\n",
        "                        model=model,\n",
        "                        tokenizer=tokenizer,\n",
        "                       )\n",
        "        result = pipe(prompt)\n",
        "        answer = result[0]['label'].split(\"=\")[-1]\n",
        "        #print(result)\n",
        "        #print(answer)\n",
        "        if \"sadness\" in answer:\n",
        "            y_pred.append(0)\n",
        "        elif \"joy\" in answer:\n",
        "            y_pred.append(1)\n",
        "        elif \"love\" in answer:\n",
        "            y_pred.append(2)\n",
        "        elif \"anger\" in answer:\n",
        "            y_pred.append(3)\n",
        "        elif \"fear\" in answer:\n",
        "            y_pred.append(4)\n",
        "        elif \"surprise\" in answer:\n",
        "            y_pred.append(5)\n",
        "        else:\n",
        "            y_pred.append(6)\n",
        "            none_pred.append(answer)\n",
        "        # print(none_pred)\n",
        "    return y_pred, none_pred"
      ]
    },
    {
      "cell_type": "code",
      "execution_count": 45,
      "metadata": {},
      "outputs": [],
      "source": [
        "def evaluate(y_true, y_pred):\n",
        "\n",
        "    # Calculate accuracy\n",
        "    accuracy = accuracy_score(y_true=y_true, y_pred=y_pred)\n",
        "    print(f'Accuracy: {accuracy:.3f}')\n",
        "\n",
        "    # Generate accuracy report\n",
        "    unique_labels = set(y_true)  # Get unique labels output: {0,1,2,3,4,5}\n",
        "\n",
        "    # nested for loops\n",
        "    for label in unique_labels:\n",
        "        # will output a list of the index of one emotion at a time\n",
        "        label_indices = [i for i in range(len(y_true))\n",
        "                         if y_true[i] == label]\n",
        "        # will output the list of one emotion\n",
        "        label_y_true = [y_true[i] for i in label_indices]\n",
        "        # label_y_true = [label for i in range(len(y_true))]\n",
        "        # will output list of the predicted emotion in the same order as label_y_true\n",
        "        label_y_pred = [y_pred[i] for i in label_indices]\n",
        "        accuracy = accuracy_score(label_y_true, label_y_pred)\n",
        "        print(f'Accuracy for label {label}: {accuracy:.3f}')\n",
        "\n",
        "    # Generate classification report\n",
        "    class_report = classification_report(y_true=y_true, y_pred=y_pred)\n",
        "    print('\\nClassification Report:')\n",
        "    print(class_report)\n",
        "\n",
        "    # Generate confusion matrix\n",
        "    conf_matrix = confusion_matrix(y_true=y_true, y_pred=y_pred, labels=[0, 1, 2, 3, 4, 5, 6])\n",
        "    print('\\nConfusion Matrix:')\n",
        "    print(conf_matrix)"
      ]
    },
    {
      "cell_type": "code",
      "execution_count": 48,
      "metadata": {},
      "outputs": [
        {
          "name": "stderr",
          "output_type": "stream",
          "text": [
            "100%|██████████| 2000/2000 [00:45<00:00, 43.65it/s]"
          ]
        },
        {
          "name": "stdout",
          "output_type": "stream",
          "text": [
            "Accuracy: 0.379\n",
            "Accuracy for label 0: 0.293\n",
            "Accuracy for label 1: 0.845\n",
            "Accuracy for label 2: 0.000\n",
            "Accuracy for label 3: 0.000\n",
            "Accuracy for label 4: 0.000\n",
            "Accuracy for label 5: 0.000\n",
            "\n",
            "Classification Report:\n",
            "              precision    recall  f1-score   support\n",
            "\n",
            "           0       0.35      0.29      0.32       581\n",
            "           1       0.39      0.84      0.53       695\n",
            "           2       0.00      0.00      0.00       159\n",
            "           3       0.00      0.00      0.00       275\n",
            "           4       0.00      0.00      0.00       224\n",
            "           5       0.00      0.00      0.00        66\n",
            "\n",
            "    accuracy                           0.38      2000\n",
            "   macro avg       0.12      0.19      0.14      2000\n",
            "weighted avg       0.24      0.38      0.28      2000\n",
            "\n",
            "\n",
            "Confusion Matrix:\n",
            "[[170 411   0   0   0   0   0]\n",
            " [108 587   0   0   0   0   0]\n",
            " [ 35 124   0   0   0   0   0]\n",
            " [ 81 194   0   0   0   0   0]\n",
            " [ 64 160   0   0   0   0   0]\n",
            " [ 24  42   0   0   0   0   0]\n",
            " [  0   0   0   0   0   0   0]]\n"
          ]
        },
        {
          "name": "stderr",
          "output_type": "stream",
          "text": [
            "\n",
            "c:\\Users\\alice\\Documents\\Final year project\\Fyp_code\\.venv\\Lib\\site-packages\\sklearn\\metrics\\_classification.py:1497: UndefinedMetricWarning: Precision is ill-defined and being set to 0.0 in labels with no predicted samples. Use `zero_division` parameter to control this behavior.\n",
            "  _warn_prf(average, modifier, f\"{metric.capitalize()} is\", len(result))\n",
            "c:\\Users\\alice\\Documents\\Final year project\\Fyp_code\\.venv\\Lib\\site-packages\\sklearn\\metrics\\_classification.py:1497: UndefinedMetricWarning: Precision is ill-defined and being set to 0.0 in labels with no predicted samples. Use `zero_division` parameter to control this behavior.\n",
            "  _warn_prf(average, modifier, f\"{metric.capitalize()} is\", len(result))\n",
            "c:\\Users\\alice\\Documents\\Final year project\\Fyp_code\\.venv\\Lib\\site-packages\\sklearn\\metrics\\_classification.py:1497: UndefinedMetricWarning: Precision is ill-defined and being set to 0.0 in labels with no predicted samples. Use `zero_division` parameter to control this behavior.\n",
            "  _warn_prf(average, modifier, f\"{metric.capitalize()} is\", len(result))\n"
          ]
        }
      ],
      "source": [
        "y_pred, none_pred = predict(model, tokenizer)\n",
        "evaluate(y_true, y_pred)"
      ]
    },
    {
      "cell_type": "code",
      "execution_count": 49,
      "metadata": {
        "id": "WO-Ki2s3PTfi"
      },
      "outputs": [
        {
          "data": {
            "application/vnd.jupyter.widget-view+json": {
              "model_id": "4273abffe1804fd7a25f36bea8349f80",
              "version_major": 2,
              "version_minor": 0
            },
            "text/plain": [
              "  0%|          | 0/1250 [00:00<?, ?it/s]"
            ]
          },
          "metadata": {},
          "output_type": "display_data"
        },
        {
          "data": {
            "application/vnd.jupyter.widget-view+json": {
              "model_id": "3384f59b118d4a159472d32593b4ab42",
              "version_major": 2,
              "version_minor": 0
            },
            "text/plain": [
              "  0%|          | 0/32 [00:00<?, ?it/s]"
            ]
          },
          "metadata": {},
          "output_type": "display_data"
        },
        {
          "name": "stdout",
          "output_type": "stream",
          "text": [
            "{'eval_loss': 0.9352469444274902, 'eval_f1': 0.6381954854137055, 'eval_accuracy': 0.712, 'eval_runtime': 23.5391, 'eval_samples_per_second': 84.965, 'eval_steps_per_second': 1.359, 'epoch': 1.0}\n"
          ]
        },
        {
          "data": {
            "application/vnd.jupyter.widget-view+json": {
              "model_id": "2e15e77fa09b4d5eb9a63517c945ae80",
              "version_major": 2,
              "version_minor": 0
            },
            "text/plain": [
              "  0%|          | 0/32 [00:00<?, ?it/s]"
            ]
          },
          "metadata": {},
          "output_type": "display_data"
        },
        {
          "name": "stdout",
          "output_type": "stream",
          "text": [
            "{'eval_loss': 0.583864688873291, 'eval_f1': 0.8724194317417845, 'eval_accuracy': 0.8795, 'eval_runtime': 23.4405, 'eval_samples_per_second': 85.322, 'eval_steps_per_second': 1.365, 'epoch': 2.0}\n"
          ]
        },
        {
          "data": {
            "application/vnd.jupyter.widget-view+json": {
              "model_id": "5fd3aea0769e4a2f936d0ea8cba5b604",
              "version_major": 2,
              "version_minor": 0
            },
            "text/plain": [
              "  0%|          | 0/32 [00:00<?, ?it/s]"
            ]
          },
          "metadata": {},
          "output_type": "display_data"
        },
        {
          "name": "stdout",
          "output_type": "stream",
          "text": [
            "{'eval_loss': 0.4398213028907776, 'eval_f1': 0.9096946795661796, 'eval_accuracy': 0.909, 'eval_runtime': 23.4175, 'eval_samples_per_second': 85.406, 'eval_steps_per_second': 1.367, 'epoch': 3.0}\n"
          ]
        },
        {
          "data": {
            "application/vnd.jupyter.widget-view+json": {
              "model_id": "80b804ff513d4e70ab94d68cd974c20b",
              "version_major": 2,
              "version_minor": 0
            },
            "text/plain": [
              "  0%|          | 0/32 [00:00<?, ?it/s]"
            ]
          },
          "metadata": {},
          "output_type": "display_data"
        },
        {
          "name": "stdout",
          "output_type": "stream",
          "text": [
            "{'eval_loss': 0.3566077947616577, 'eval_f1': 0.920261606090851, 'eval_accuracy': 0.9195, 'eval_runtime': 23.3771, 'eval_samples_per_second': 85.554, 'eval_steps_per_second': 1.369, 'epoch': 4.0}\n"
          ]
        },
        {
          "data": {
            "application/vnd.jupyter.widget-view+json": {
              "model_id": "a758060bbe34473991535ac74b8e92b3",
              "version_major": 2,
              "version_minor": 0
            },
            "text/plain": [
              "  0%|          | 0/32 [00:00<?, ?it/s]"
            ]
          },
          "metadata": {},
          "output_type": "display_data"
        },
        {
          "name": "stdout",
          "output_type": "stream",
          "text": [
            "{'eval_loss': 0.33707958459854126, 'eval_f1': 0.919458250538702, 'eval_accuracy': 0.9185, 'eval_runtime': 23.2541, 'eval_samples_per_second': 86.006, 'eval_steps_per_second': 1.376, 'epoch': 5.0}\n",
            "{'train_runtime': 1408.8044, 'train_samples_per_second': 56.786, 'train_steps_per_second': 0.887, 'train_loss': 0.6625689453125, 'epoch': 5.0}\n"
          ]
        },
        {
          "data": {
            "text/plain": [
              "TrainOutput(global_step=1250, training_loss=0.6625689453125, metrics={'train_runtime': 1408.8044, 'train_samples_per_second': 56.786, 'train_steps_per_second': 0.887, 'train_loss': 0.6625689453125, 'epoch': 5.0})"
            ]
          },
          "execution_count": 49,
          "metadata": {},
          "output_type": "execute_result"
        }
      ],
      "source": [
        "model.train() #changing the setting for training\n",
        "trainer.train()"
      ]
    },
    {
      "cell_type": "code",
      "execution_count": null,
      "metadata": {
        "colab": {
          "base_uri": "https://localhost:8080/",
          "height": 267
        },
        "id": "3PJs2JlTenSJ",
        "outputId": "659997dc-fd5f-41ce-a649-03f4ad8936b4"
      },
      "outputs": [
        {
          "data": {
            "application/vnd.jupyter.widget-view+json": {
              "model_id": "d9ce31e23add41cd82a8e6a3f9906a71",
              "version_major": 2,
              "version_minor": 0
            },
            "text/plain": [
              "  0%|          | 0/32 [00:00<?, ?it/s]"
            ]
          },
          "metadata": {},
          "output_type": "display_data"
        },
        {
          "data": {
            "text/plain": [
              "PredictionOutput(predictions=array([[ 3.5019531 , -0.6020508 , -1.1777344 ,  0.1829834 , -0.9506836 ,\n",
              "        -1.0439453 ],\n",
              "       [ 3.5039062 , -0.6230469 , -1.1826172 ,  0.18188477, -0.94140625,\n",
              "        -1.0253906 ],\n",
              "       [ 3.4921875 , -0.69091797, -1.1669922 ,  0.15014648, -0.8881836 ,\n",
              "        -0.9707031 ],\n",
              "       ...,\n",
              "       [-0.57910156,  3.6835938 ,  0.5600586 , -1.3583984 , -1.5244141 ,\n",
              "        -0.86376953],\n",
              "       [-0.6220703 ,  3.6679688 ,  0.5229492 , -1.3925781 , -1.4189453 ,\n",
              "        -0.8286133 ],\n",
              "       [-1.1816406 , -1.4697266 , -0.24572754, -0.70214844,  2.1386719 ,\n",
              "         1.8916016 ]], dtype=float32), label_ids=array([0, 0, 0, ..., 1, 1, 4], dtype=int64), metrics={'test_loss': 0.3069058954715729, 'test_f1': 0.9194852777281491, 'test_accuracy': 0.9175, 'test_runtime': 10.224, 'test_samples_per_second': 195.618, 'test_steps_per_second': 3.13})"
            ]
          },
          "execution_count": 42,
          "metadata": {},
          "output_type": "execute_result"
        }
      ],
      "source": [
        "model.eval() #changing the setting for testing\n",
        "pred = trainer.predict(my_dataset[\"test\"])\n",
        "pred"
      ]
    },
    {
      "cell_type": "code",
      "execution_count": null,
      "metadata": {
        "colab": {
          "base_uri": "https://localhost:8080/",
          "height": 162
        },
        "id": "FgINrKWVHM6K",
        "outputId": "626b7ab1-1edb-4d31-ddb3-58a0294ed775"
      },
      "outputs": [
        {
          "data": {
            "application/vnd.jupyter.widget-view+json": {
              "model_id": "55ec95ee450b4e88aaf9d74d343ca76d",
              "version_major": 2,
              "version_minor": 0
            },
            "text/plain": [
              "  0%|          | 0/32 [00:00<?, ?it/s]"
            ]
          },
          "metadata": {},
          "output_type": "display_data"
        },
        {
          "data": {
            "text/plain": [
              "{'eval_loss': 0.3069058954715729,\n",
              " 'eval_f1': 0.9194852777281491,\n",
              " 'eval_accuracy': 0.9175,\n",
              " 'eval_runtime': 10.4452,\n",
              " 'eval_samples_per_second': 191.476,\n",
              " 'eval_steps_per_second': 3.064,\n",
              " 'epoch': 6.0}"
            ]
          },
          "execution_count": 43,
          "metadata": {},
          "output_type": "execute_result"
        }
      ],
      "source": [
        "trainer.evaluate(my_dataset[\"test\"])"
      ]
    },
    {
      "cell_type": "code",
      "execution_count": 60,
      "metadata": {
        "id": "SAurw-YmAWDx"
      },
      "outputs": [
        {
          "name": "stderr",
          "output_type": "stream",
          "text": [
            "100%|██████████| 2000/2000 [00:43<00:00, 46.35it/s]"
          ]
        },
        {
          "name": "stdout",
          "output_type": "stream",
          "text": [
            "Accuracy: 0.914\n",
            "Accuracy for label 0: 0.947\n",
            "Accuracy for label 1: 0.909\n",
            "Accuracy for label 2: 0.969\n",
            "Accuracy for label 3: 0.905\n",
            "Accuracy for label 4: 0.902\n",
            "Accuracy for label 5: 0.621\n",
            "\n",
            "Classification Report:\n",
            "              precision    recall  f1-score   support\n",
            "\n",
            "           0       0.96      0.95      0.95       581\n",
            "           1       0.97      0.91      0.94       695\n",
            "           2       0.71      0.97      0.82       159\n",
            "           3       0.92      0.91      0.91       275\n",
            "           4       0.87      0.90      0.88       224\n",
            "           5       0.77      0.62      0.69        66\n",
            "\n",
            "    accuracy                           0.91      2000\n",
            "   macro avg       0.87      0.88      0.87      2000\n",
            "weighted avg       0.92      0.91      0.92      2000\n",
            "\n",
            "\n",
            "Confusion Matrix:\n",
            "[[550   9   0  14   8   0   0]\n",
            " [  4 632  54   5   0   0   0]\n",
            " [  0   5 154   0   0   0   0]\n",
            " [ 11   4   0 249  11   0   0]\n",
            " [  6   0   0   4 202  12   0]\n",
            " [  3   0  10   0  12  41   0]\n",
            " [  0   0   0   0   0   0   0]]\n"
          ]
        },
        {
          "name": "stderr",
          "output_type": "stream",
          "text": [
            "\n"
          ]
        }
      ],
      "source": [
        "y_pred, none_pred = predict(model, tokenizer)\n",
        "evaluate(y_true, y_pred)"
      ]
    },
    {
      "cell_type": "code",
      "execution_count": 117,
      "metadata": {},
      "outputs": [
        {
          "data": {
            "text/plain": [
              "[[{'label': 'sadness', 'score': 0.2602122724056244},\n",
              "  {'label': 'joy', 'score': 0.19430160522460938},\n",
              "  {'label': 'love', 'score': 0.020780444145202637},\n",
              "  {'label': 'anger', 'score': 0.35773766040802},\n",
              "  {'label': 'fear', 'score': 0.14316889643669128},\n",
              "  {'label': 'surprise', 'score': 0.023799188435077667}]]"
            ]
          },
          "execution_count": 117,
          "metadata": {},
          "output_type": "execute_result"
        }
      ],
      "source": [
        "prompt = \"I cannot wait to go home.\"\n",
        "pipe = pipeline(task=\"text-classification\",\n",
        "        model=model,\n",
        "        tokenizer=tokenizer,\n",
        "        return_all_scores=True,\n",
        "        )\n",
        "a_result = pipe(prompt)\n",
        "a_result"
      ]
    },
    {
      "cell_type": "code",
      "execution_count": 77,
      "metadata": {},
      "outputs": [
        {
          "name": "stdout",
          "output_type": "stream",
          "text": [
            "0.02344273030757904\n",
            "0.9093142151832581\n",
            "0.03853796049952507\n",
            "0.016722165048122406\n",
            "0.003947991877794266\n",
            "0.008035006932914257\n"
          ]
        }
      ],
      "source": [
        "for i in a_result[0]:\n",
        "    print(i[\"score\"])"
      ]
    },
    {
      "cell_type": "code",
      "execution_count": 115,
      "metadata": {},
      "outputs": [
        {
          "data": {
            "image/png": "[encoded data removed]",
            "text/plain": [
              "<Figure size 640x480 with 1 Axes>"
            ]
          },
          "metadata": {},
          "output_type": "display_data"
        }
      ],
      "source": [
        "import matplotlib.pyplot as plt\n",
        "\n",
        "fig, ax = plt.subplots()\n",
        "\n",
        "emotions = [i[\"label\"] for i in a_result[0]]\n",
        "scores = [i[\"score\"] for i in a_result[0]]\n",
        "bar_colors = ['tab:blue']\n",
        "\n",
        "# ax.bar(emotions, scores, color=bar_colors)\n",
        "wedges, texts, autotexts = ax.pie(scores,\n",
        "                               autopct=\"%1.2f%%\",\n",
        "                               textprops={'fontsize':8},)\n",
        "\n",
        "#for autotext in autotexts:\n",
        "    #autotext.set_family('cursive')\n",
        "    #autotext.set_rotation(180)\n",
        "\n",
        "ax.legend(wedges, emotions,\n",
        "          title=\"Emotions\",\n",
        "          loc=\"center left\",\n",
        "          bbox_to_anchor=(1, 0, 0.5, 1))\n",
        "\n",
        "ax.set_title('The ranking of scores for each labels')\n",
        "\n",
        "plt.savefig('I_am_happy.png')\n",
        "plt.show()"
      ]
    },
    {
      "cell_type": "code",
      "execution_count": null,
      "metadata": {},
      "outputs": [],
      "source": []
    }
  ],
  "metadata": {
    "accelerator": "GPU",
    "colab": {
      "gpuType": "T4",
      "provenance": []
    },
    "kernelspec": {
      "display_name": "Python 3",
      "name": "python3"
    },
    "language_info": {
      "codemirror_mode": {
        "name": "ipython",
        "version": 3
      },
      "file_extension": ".py",
      "mimetype": "text/x-python",
      "name": "python",
      "nbconvert_exporter": "python",
      "pygments_lexer": "ipython3",
      "version": "3.12.2"
    },
    "widgets": {
      "application/vnd.jupyter.widget-state+json": {
        "1e26414c0f3249f7af566e035033fa68": {
          "model_module": "@jupyter-widgets/controls",
          "model_module_version": "1.5.0",
          "model_name": "FloatProgressModel",
          "state": {
            "_dom_classes": [],
            "_model_module": "@jupyter-widgets/controls",
            "_model_module_version": "1.5.0",
            "_model_name": "FloatProgressModel",
            "_view_count": null,
            "_view_module": "@jupyter-widgets/controls",
            "_view_module_version": "1.5.0",
            "_view_name": "ProgressView",
            "bar_style": "success",
            "description": "",
            "description_tooltip": null,
            "layout": "IPY_MODEL_73e859bbacde43299893f937015f2df4",
            "max": 2000,
            "min": 0,
            "orientation": "horizontal",
            "style": "IPY_MODEL_b2aa939ac10d439cbaaf9d267d9dd8d2",
            "value": 2000
          }
        },
        "379506db19e84b68879264442b1c8c79": {
          "model_module": "@jupyter-widgets/controls",
          "model_module_version": "1.5.0",
          "model_name": "HTMLModel",
          "state": {
            "_dom_classes": [],
            "_model_module": "@jupyter-widgets/controls",
            "_model_module_version": "1.5.0",
            "_model_name": "HTMLModel",
            "_view_count": null,
            "_view_module": "@jupyter-widgets/controls",
            "_view_module_version": "1.5.0",
            "_view_name": "HTMLView",
            "description": "",
            "description_tooltip": null,
            "layout": "IPY_MODEL_f164a344f6f242b9bdf2f748aa724145",
            "placeholder": "​",
            "style": "IPY_MODEL_5a329f563a7a44bcb6f63983d39c89f8",
            "value": " 2000/2000 [00:00&lt;00:00, 7094.12 examples/s]"
          }
        },
        "418fb606e1a84f0bacd9c24320be196d": {
          "model_module": "@jupyter-widgets/controls",
          "model_module_version": "1.5.0",
          "model_name": "HBoxModel",
          "state": {
            "_dom_classes": [],
            "_model_module": "@jupyter-widgets/controls",
            "_model_module_version": "1.5.0",
            "_model_name": "HBoxModel",
            "_view_count": null,
            "_view_module": "@jupyter-widgets/controls",
            "_view_module_version": "1.5.0",
            "_view_name": "HBoxView",
            "box_style": "",
            "children": [
              "IPY_MODEL_dfbe510d962a43689278c12576134e69",
              "IPY_MODEL_1e26414c0f3249f7af566e035033fa68",
              "IPY_MODEL_379506db19e84b68879264442b1c8c79"
            ],
            "layout": "IPY_MODEL_786ffbd96dfe4901ac68b428d6c5a58d"
          }
        },
        "5a329f563a7a44bcb6f63983d39c89f8": {
          "model_module": "@jupyter-widgets/controls",
          "model_module_version": "1.5.0",
          "model_name": "DescriptionStyleModel",
          "state": {
            "_model_module": "@jupyter-widgets/controls",
            "_model_module_version": "1.5.0",
            "_model_name": "DescriptionStyleModel",
            "_view_count": null,
            "_view_module": "@jupyter-widgets/base",
            "_view_module_version": "1.2.0",
            "_view_name": "StyleView",
            "description_width": ""
          }
        },
        "611c3b676e884a39a897f1ff964b31fb": {
          "model_module": "@jupyter-widgets/controls",
          "model_module_version": "1.5.0",
          "model_name": "DescriptionStyleModel",
          "state": {
            "_model_module": "@jupyter-widgets/controls",
            "_model_module_version": "1.5.0",
            "_model_name": "DescriptionStyleModel",
            "_view_count": null,
            "_view_module": "@jupyter-widgets/base",
            "_view_module_version": "1.2.0",
            "_view_name": "StyleView",
            "description_width": ""
          }
        },
        "73e859bbacde43299893f937015f2df4": {
          "model_module": "@jupyter-widgets/base",
          "model_module_version": "1.2.0",
          "model_name": "LayoutModel",
          "state": {
            "_model_module": "@jupyter-widgets/base",
            "_model_module_version": "1.2.0",
            "_model_name": "LayoutModel",
            "_view_count": null,
            "_view_module": "@jupyter-widgets/base",
            "_view_module_version": "1.2.0",
            "_view_name": "LayoutView",
            "align_content": null,
            "align_items": null,
            "align_self": null,
            "border": null,
            "bottom": null,
            "display": null,
            "flex": null,
            "flex_flow": null,
            "grid_area": null,
            "grid_auto_columns": null,
            "grid_auto_flow": null,
            "grid_auto_rows": null,
            "grid_column": null,
            "grid_gap": null,
            "grid_row": null,
            "grid_template_areas": null,
            "grid_template_columns": null,
            "grid_template_rows": null,
            "height": null,
            "justify_content": null,
            "justify_items": null,
            "left": null,
            "margin": null,
            "max_height": null,
            "max_width": null,
            "min_height": null,
            "min_width": null,
            "object_fit": null,
            "object_position": null,
            "order": null,
            "overflow": null,
            "overflow_x": null,
            "overflow_y": null,
            "padding": null,
            "right": null,
            "top": null,
            "visibility": null,
            "width": null
          }
        },
        "754328c8c0554506b2acde76139b6c5f": {
          "model_module": "@jupyter-widgets/base",
          "model_module_version": "1.2.0",
          "model_name": "LayoutModel",
          "state": {
            "_model_module": "@jupyter-widgets/base",
            "_model_module_version": "1.2.0",
            "_model_name": "LayoutModel",
            "_view_count": null,
            "_view_module": "@jupyter-widgets/base",
            "_view_module_version": "1.2.0",
            "_view_name": "LayoutView",
            "align_content": null,
            "align_items": null,
            "align_self": null,
            "border": null,
            "bottom": null,
            "display": null,
            "flex": null,
            "flex_flow": null,
            "grid_area": null,
            "grid_auto_columns": null,
            "grid_auto_flow": null,
            "grid_auto_rows": null,
            "grid_column": null,
            "grid_gap": null,
            "grid_row": null,
            "grid_template_areas": null,
            "grid_template_columns": null,
            "grid_template_rows": null,
            "height": null,
            "justify_content": null,
            "justify_items": null,
            "left": null,
            "margin": null,
            "max_height": null,
            "max_width": null,
            "min_height": null,
            "min_width": null,
            "object_fit": null,
            "object_position": null,
            "order": null,
            "overflow": null,
            "overflow_x": null,
            "overflow_y": null,
            "padding": null,
            "right": null,
            "top": null,
            "visibility": null,
            "width": null
          }
        },
        "786ffbd96dfe4901ac68b428d6c5a58d": {
          "model_module": "@jupyter-widgets/base",
          "model_module_version": "1.2.0",
          "model_name": "LayoutModel",
          "state": {
            "_model_module": "@jupyter-widgets/base",
            "_model_module_version": "1.2.0",
            "_model_name": "LayoutModel",
            "_view_count": null,
            "_view_module": "@jupyter-widgets/base",
            "_view_module_version": "1.2.0",
            "_view_name": "LayoutView",
            "align_content": null,
            "align_items": null,
            "align_self": null,
            "border": null,
            "bottom": null,
            "display": null,
            "flex": null,
            "flex_flow": null,
            "grid_area": null,
            "grid_auto_columns": null,
            "grid_auto_flow": null,
            "grid_auto_rows": null,
            "grid_column": null,
            "grid_gap": null,
            "grid_row": null,
            "grid_template_areas": null,
            "grid_template_columns": null,
            "grid_template_rows": null,
            "height": null,
            "justify_content": null,
            "justify_items": null,
            "left": null,
            "margin": null,
            "max_height": null,
            "max_width": null,
            "min_height": null,
            "min_width": null,
            "object_fit": null,
            "object_position": null,
            "order": null,
            "overflow": null,
            "overflow_x": null,
            "overflow_y": null,
            "padding": null,
            "right": null,
            "top": null,
            "visibility": null,
            "width": null
          }
        },
        "b2aa939ac10d439cbaaf9d267d9dd8d2": {
          "model_module": "@jupyter-widgets/controls",
          "model_module_version": "1.5.0",
          "model_name": "ProgressStyleModel",
          "state": {
            "_model_module": "@jupyter-widgets/controls",
            "_model_module_version": "1.5.0",
            "_model_name": "ProgressStyleModel",
            "_view_count": null,
            "_view_module": "@jupyter-widgets/base",
            "_view_module_version": "1.2.0",
            "_view_name": "StyleView",
            "bar_color": null,
            "description_width": ""
          }
        },
        "dfbe510d962a43689278c12576134e69": {
          "model_module": "@jupyter-widgets/controls",
          "model_module_version": "1.5.0",
          "model_name": "HTMLModel",
          "state": {
            "_dom_classes": [],
            "_model_module": "@jupyter-widgets/controls",
            "_model_module_version": "1.5.0",
            "_model_name": "HTMLModel",
            "_view_count": null,
            "_view_module": "@jupyter-widgets/controls",
            "_view_module_version": "1.5.0",
            "_view_name": "HTMLView",
            "description": "",
            "description_tooltip": null,
            "layout": "IPY_MODEL_754328c8c0554506b2acde76139b6c5f",
            "placeholder": "​",
            "style": "IPY_MODEL_611c3b676e884a39a897f1ff964b31fb",
            "value": "Map: 100%"
          }
        },
        "f164a344f6f242b9bdf2f748aa724145": {
          "model_module": "@jupyter-widgets/base",
          "model_module_version": "1.2.0",
          "model_name": "LayoutModel",
          "state": {
            "_model_module": "@jupyter-widgets/base",
            "_model_module_version": "1.2.0",
            "_model_name": "LayoutModel",
            "_view_count": null,
            "_view_module": "@jupyter-widgets/base",
            "_view_module_version": "1.2.0",
            "_view_name": "LayoutView",
            "align_content": null,
            "align_items": null,
            "align_self": null,
            "border": null,
            "bottom": null,
            "display": null,
            "flex": null,
            "flex_flow": null,
            "grid_area": null,
            "grid_auto_columns": null,
            "grid_auto_flow": null,
            "grid_auto_rows": null,
            "grid_column": null,
            "grid_gap": null,
            "grid_row": null,
            "grid_template_areas": null,
            "grid_template_columns": null,
            "grid_template_rows": null,
            "height": null,
            "justify_content": null,
            "justify_items": null,
            "left": null,
            "margin": null,
            "max_height": null,
            "max_width": null,
            "min_height": null,
            "min_width": null,
            "object_fit": null,
            "object_position": null,
            "order": null,
            "overflow": null,
            "overflow_x": null,
            "overflow_y": null,
            "padding": null,
            "right": null,
            "top": null,
            "visibility": null,
            "width": null
          }
        }
      }
    }
  },
  "nbformat": 4,
  "nbformat_minor": 0
}
