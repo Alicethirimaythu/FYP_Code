{
  "cells": [
    {
      "cell_type": "markdown",
      "metadata": {
        "id": "U1Kr48JWinNX"
      },
      "source": [
        "In report:<br>\n",
        "- Talk about why none label is necessary with LLM (might not predict one of the given emotions)<br>\n",
        "- How problem can be alleviated / solved (checking for synonyms, disincentivise model to pick none with very low accuracy etc)"
      ]
    },
    {
      "cell_type": "code",
      "execution_count": 1,
      "metadata": {},
      "outputs": [],
      "source": [
        "#%pip uninstall torch torchvision torchaudio\n",
        "# %pip install torch torchvision torchaudio --index-url https://download.pytorch.org/whl/cu121\n"
      ]
    },
    {
      "cell_type": "code",
      "execution_count": 1,
      "metadata": {
        "colab": {
          "base_uri": "https://localhost:8080/"
        },
        "id": "mhmt304LYe-A",
        "outputId": "782dd5e0-401f-493a-fffe-2fedd66327f1"
      },
      "outputs": [
        {
          "name": "stdout",
          "output_type": "stream",
          "text": [
            "Wed Mar 13 20:33:06 2024       \n",
            "+-----------------------------------------------------------------------------------------+\n",
            "| NVIDIA-SMI 551.52                 Driver Version: 551.52         CUDA Version: 12.4     |\n",
            "|-----------------------------------------+------------------------+----------------------+\n",
            "| GPU  Name                     TCC/WDDM  | Bus-Id          Disp.A | Volatile Uncorr. ECC |\n",
            "| Fan  Temp   Perf          Pwr:Usage/Cap |           Memory-Usage | GPU-Util  Compute M. |\n",
            "|                                         |                        |               MIG M. |\n",
            "|=========================================+========================+======================|\n",
            "|   0  NVIDIA GeForce GTX 1660 ...  WDDM  |   00000000:01:00.0  On |                  N/A |\n",
            "| 44%   29C    P8             13W /  125W |    3109MiB /   6144MiB |     12%      Default |\n",
            "|                                         |                        |                  N/A |\n",
            "+-----------------------------------------+------------------------+----------------------+\n",
            "                                                                                         \n",
            "+-----------------------------------------------------------------------------------------+\n",
            "| Processes:                                                                              |\n",
            "|  GPU   GI   CI        PID   Type   Process name                              GPU Memory |\n",
            "|        ID   ID                                                               Usage      |\n",
            "|=========================================================================================|\n",
            "|    0   N/A  N/A      4020    C+G   ...546_x64__8wekyb3d8bbwe\\ms-teams.exe      N/A      |\n",
            "|    0   N/A  N/A      5884    C+G   ...t.LockApp_cw5n1h2txyewy\\LockApp.exe      N/A      |\n",
            "|    0   N/A  N/A      6016    C+G   ...CBS_cw5n1h2txyewy\\TextInputHost.exe      N/A      |\n",
            "|    0   N/A  N/A      7996    C+G   ...5n1h2txyewy\\ShellExperienceHost.exe      N/A      |\n",
            "|    0   N/A  N/A      8236    C+G   ...on\\122.0.2365.80\\msedgewebview2.exe      N/A      |\n",
            "|    0   N/A  N/A     10812    C+G   ...97.0_x64__zpdnekdrzrea0\\Spotify.exe      N/A      |\n",
            "|    0   N/A  N/A     11712    C+G   ...on\\122.0.2365.80\\msedgewebview2.exe      N/A      |\n",
            "|    0   N/A  N/A     17624    C+G   ...2txyewy\\StartMenuExperienceHost.exe      N/A      |\n",
            "|    0   N/A  N/A     17916    C+G   ...on\\122.0.2365.80\\msedgewebview2.exe      N/A      |\n",
            "|    0   N/A  N/A     18644    C+G   C:\\Windows\\explorer.exe                     N/A      |\n",
            "|    0   N/A  N/A     19776    C+G   ...GeForce Experience\\NVIDIA Share.exe      N/A      |\n",
            "|    0   N/A  N/A     20796    C+G   ...Programs\\Microsoft VS Code\\Code.exe      N/A      |\n",
            "|    0   N/A  N/A     25192    C+G   ...rwolf\\0.242.1.6\\OverwolfBrowser.exe      N/A      |\n",
            "|    0   N/A  N/A     25692      C   ...0_x64__qbz5n2kfra8p0\\python3.12.exe      N/A      |\n",
            "|    0   N/A  N/A     25828    C+G   ...nt.CBS_cw5n1h2txyewy\\SearchHost.exe      N/A      |\n",
            "|    0   N/A  N/A     26532    C+G   ...crosoft\\Edge\\Application\\msedge.exe      N/A      |\n",
            "|    0   N/A  N/A     29564    C+G   ...m Files (x86)\\Overwolf\\Overwolf.exe      N/A      |\n",
            "+-----------------------------------------------------------------------------------------+\n"
          ]
        }
      ],
      "source": [
        "!nvidia-smi"
      ]
    },
    {
      "cell_type": "code",
      "execution_count": 4,
      "metadata": {
        "colab": {
          "base_uri": "https://localhost:8080/"
        },
        "id": "Gz71OfkHa-Gb",
        "outputId": "8eaff9b4-1474-4af4-b954-f2e81c5f7d8c"
      },
      "outputs": [
        {
          "name": "stdout",
          "output_type": "stream",
          "text": [
            "Note: you may need to restart the kernel to use updated packages.\n",
            "Note: you may need to restart the kernel to use updated packages.\n",
            "Note: you may need to restart the kernel to use updated packages.\n",
            "Note: you may need to restart the kernel to use updated packages.\n",
            "Note: you may need to restart the kernel to use updated packages.\n",
            "Note: you may need to restart the kernel to use updated packages.\n",
            "Note: you may need to restart the kernel to use updated packages.\n"
          ]
        },
        {
          "name": "stderr",
          "output_type": "stream",
          "text": [
            "ERROR: Invalid requirement: '#'\n"
          ]
        },
        {
          "name": "stdout",
          "output_type": "stream",
          "text": [
            "Note: you may need to restart the kernel to use updated packages.\n"
          ]
        }
      ],
      "source": [
        "%pip install -Uqqq pip --progress-bar off\n",
        "%pip install -qqq torch --progress-bar off\n",
        "%pip install -qqq transformers --progress-bar off\n",
        "%pip install -qqq datasets --progress-bar off\n",
        "%pip install -qqq peft==0.5.0 --progress-bar off\n",
        "%pip install -qqq bitsandbytes==0.43.0 --progress-bar off\n",
        "%pip install -qqq trl==0.7.11 --progress-bar off # trl - Training Reinforcement Learning (FOR THE TRAINER)\n",
        "%pip install -qqq -U scikit-learn --progress-bar off\n",
        "# %pip install --extra-index-url=https://pypi.nvidia.com cudf-cu12"
      ]
    },
    {
      "cell_type": "code",
      "execution_count": 2,
      "metadata": {},
      "outputs": [
        {
          "name": "stdout",
          "output_type": "stream",
          "text": [
            "Collecting torch==2.2.1 (from -r requirements.txt (line 1))\n",
            "  Using cached torch-2.2.1-cp312-cp312-win_amd64.whl.metadata (26 kB)\n",
            "Collecting transformers==4.38.1 (from -r requirements.txt (line 2))\n",
            "  Using cached transformers-4.38.1-py3-none-any.whl.metadata (131 kB)\n",
            "Collecting matplotlib==3.8.3 (from -r requirements.txt (line 3))\n",
            "  Using cached matplotlib-3.8.3-cp312-cp312-win_amd64.whl.metadata (5.9 kB)\n",
            "Collecting datasets (from -r requirements.txt (line 4))\n",
            "  Using cached datasets-2.18.0-py3-none-any.whl.metadata (20 kB)\n",
            "Collecting peft==0.5.0 (from -r requirements.txt (line 5))\n",
            "  Using cached peft-0.5.0-py3-none-any.whl.metadata (22 kB)\n",
            "Collecting trl==0.7.11 (from -r requirements.txt (line 6))\n",
            "  Using cached trl-0.7.11-py3-none-any.whl.metadata (10 kB)\n",
            "Note: you may need to restart the kernel to use updated packages.\n"
          ]
        },
        {
          "name": "stderr",
          "output_type": "stream",
          "text": [
            "ERROR: Could not find a version that satisfies the requirement scikit-learn==1.4.1 (from versions: 0.9, 0.10, 0.11, 0.12, 0.12.1, 0.13, 0.13.1, 0.14, 0.14.1, 0.15.0, 0.15.1, 0.15.2, 0.16.0, 0.16.1, 0.17, 0.17.1, 0.18, 0.18.1, 0.18.2, 0.19.0, 0.19.1, 0.19.2, 0.20.0, 0.20.1, 0.20.2, 0.20.3, 0.20.4, 0.21.1, 0.21.2, 0.21.3, 0.22, 0.22.1, 0.22.2.post1, 0.23.0, 0.23.1, 0.23.2, 0.24.0, 0.24.1, 0.24.2, 1.0, 1.0.1, 1.0.2, 1.1.0, 1.1.1, 1.1.2, 1.1.3, 1.2.0rc1, 1.2.0, 1.2.1, 1.2.2, 1.3.0rc1, 1.3.0, 1.3.1, 1.3.2, 1.4.0rc1, 1.4.0, 1.4.1.post1)\n",
            "ERROR: No matching distribution found for scikit-learn==1.4.1\n"
          ]
        }
      ],
      "source": [
        "%pip install -r requirements.txt"
      ]
    },
    {
      "cell_type": "code",
      "execution_count": 5,
      "metadata": {},
      "outputs": [],
      "source": [
        "# %pip install torch torchvision torchaudio --index-url https://download.pytorch.org/whl/cu118\n",
        "# torch.__version__"
      ]
    },
    {
      "cell_type": "code",
      "execution_count": 6,
      "metadata": {
        "colab": {
          "base_uri": "https://localhost:8080/"
        },
        "id": "Z3dd1cFvb3D8",
        "outputId": "c91542e3-d8e1-4c06-87cd-24927eea1ae5"
      },
      "outputs": [],
      "source": [
        "# from google.colab import drive\n",
        "# drive.mount('/content/drive')\n",
        "\n",
        "# %pip install kaggle\n",
        "# import os\n",
        "# os.environ[\"CUDA_VISIBLE_DEVICES\"] = \"0\"\n",
        "# os.environ[\"TOKENIZERS_PARALLELISM\"] = \"false\"\n",
        "# os.environ['KAGGLE_CONFIG_DIR'] = '/content/drive/MyDrive/kaggle'"
      ]
    },
    {
      "cell_type": "code",
      "execution_count": 7,
      "metadata": {},
      "outputs": [],
      "source": [
        "#%pip install bitsandbytes --prefer-binary --extra-index-url=https://jllllll.github.io/bitsandbytes-windows-webui"
      ]
    },
    {
      "cell_type": "code",
      "execution_count": 15,
      "metadata": {},
      "outputs": [
        {
          "name": "stdout",
          "output_type": "stream",
          "text": [
            "Note: you may need to restart the kernel to use updated packages.\n"
          ]
        }
      ],
      "source": [
        "%pip install -qqq ipywidgets==8.1.2"
      ]
    },
    {
      "cell_type": "code",
      "execution_count": 2,
      "metadata": {
        "id": "PAIs66qkc18z"
      },
      "outputs": [
        {
          "data": {
            "text/plain": [
              "'cuda: 0'"
            ]
          },
          "execution_count": 2,
          "metadata": {},
          "output_type": "execute_result"
        }
      ],
      "source": [
        "import json\n",
        "import re\n",
        "from pprint import pprint\n",
        "import numpy as np\n",
        "import pandas as pd\n",
        "#import bitsandbytes\n",
        "\n",
        "# %load_ext cudf.pandas  # pandas operations now use the GPU!\n",
        "import torch\n",
        "from peft import LoraConfig, PeftModel\n",
        "from huggingface_hub import notebook_login\n",
        "from transformers import(\n",
        "    AutoModelForCausalLM,\n",
        "    AutoTokenizer,\n",
        "    BitsAndBytesConfig,\n",
        "    TrainingArguments,\n",
        "    pipeline,\n",
        "    logging\n",
        ")\n",
        "from trl import SFTTrainer\n",
        "from trl import setup_chat_format\n",
        "from tqdm import tqdm\n",
        "from sklearn.metrics import (accuracy_score,\n",
        "                             classification_report,\n",
        "                             confusion_matrix)\n",
        "from sklearn.model_selection import train_test_split\n",
        "\n",
        "DEVICE =  \"cuda: 0\" if torch.cuda.is_available() else \"cpu\"\n",
        "MODEL_NAME = \"meta-llama/Llama-2-7b-hf\"\n",
        "DEVICE\n",
        "\n",
        "#LD_LIBRARY_PATH = "
      ]
    },
    {
      "cell_type": "markdown",
      "metadata": {
        "id": "ueo00Dsje7SQ"
      },
      "source": [
        "# **Dataset**"
      ]
    },
    {
      "cell_type": "code",
      "execution_count": 3,
      "metadata": {
        "colab": {
          "base_uri": "https://localhost:8080/"
        },
        "id": "ikllwqb2ct_8",
        "outputId": "8c86e25e-a88e-44ee-8326-7a944e218200"
      },
      "outputs": [
        {
          "data": {
            "text/plain": [
              "DatasetDict({\n",
              "    train: Dataset({\n",
              "        features: ['text', 'label'],\n",
              "        num_rows: 16000\n",
              "    })\n",
              "    validation: Dataset({\n",
              "        features: ['text', 'label'],\n",
              "        num_rows: 2000\n",
              "    })\n",
              "    test: Dataset({\n",
              "        features: ['text', 'label'],\n",
              "        num_rows: 2000\n",
              "    })\n",
              "})"
            ]
          },
          "execution_count": 3,
          "metadata": {},
          "output_type": "execute_result"
        }
      ],
      "source": [
        "from datasets import load_dataset, Dataset, Value, ClassLabel, Features\n",
        "\n",
        "my_dataset = load_dataset(\"./Emotion_Dataset\", sep=\",\")\n",
        "# Creating a ClassLabel Object\n",
        "df = my_dataset[\"train\"].to_pandas()\n",
        "labels = ['sadness','joy','love','anger', 'fear', 'surprise']\n",
        "ClassLabels = ClassLabel(num_classes=len(labels), names=labels)\n",
        "\n",
        "# Mapping Labels to IDs\n",
        "def map_label2id(example):\n",
        "    example['label'] = ClassLabels.str2int(example['label'])\n",
        "    return example\n",
        "\n",
        "my_dataset= my_dataset.map(map_label2id, batched=True)\n",
        "\n",
        "# Casting label column to ClassLabel Object\n",
        "my_dataset = my_dataset.cast_column('label', ClassLabels)\n",
        "\n",
        "my_dataset"
      ]
    },
    {
      "cell_type": "code",
      "execution_count": 4,
      "metadata": {
        "colab": {
          "base_uri": "https://localhost:8080/",
          "height": 424
        },
        "id": "MLttWUvpgDjN",
        "outputId": "1748af31-240c-477a-f770-c2263e8ebd0e"
      },
      "outputs": [
        {
          "data": {
            "text/html": [
              "<div>\n",
              "<style scoped>\n",
              "    .dataframe tbody tr th:only-of-type {\n",
              "        vertical-align: middle;\n",
              "    }\n",
              "\n",
              "    .dataframe tbody tr th {\n",
              "        vertical-align: top;\n",
              "    }\n",
              "\n",
              "    .dataframe thead th {\n",
              "        text-align: right;\n",
              "    }\n",
              "</style>\n",
              "<table border=\"1\" class=\"dataframe\">\n",
              "  <thead>\n",
              "    <tr style=\"text-align: right;\">\n",
              "      <th></th>\n",
              "      <th>text</th>\n",
              "      <th>label</th>\n",
              "    </tr>\n",
              "  </thead>\n",
              "  <tbody>\n",
              "    <tr>\n",
              "      <th>0</th>\n",
              "      <td>i didnt feel humiliated</td>\n",
              "      <td>0</td>\n",
              "    </tr>\n",
              "    <tr>\n",
              "      <th>1</th>\n",
              "      <td>i can go from feeling so hopeless to so damned...</td>\n",
              "      <td>0</td>\n",
              "    </tr>\n",
              "    <tr>\n",
              "      <th>2</th>\n",
              "      <td>im grabbing a minute to post i feel greedy wrong</td>\n",
              "      <td>3</td>\n",
              "    </tr>\n",
              "    <tr>\n",
              "      <th>3</th>\n",
              "      <td>i am ever feeling nostalgic about the fireplac...</td>\n",
              "      <td>2</td>\n",
              "    </tr>\n",
              "    <tr>\n",
              "      <th>4</th>\n",
              "      <td>i am feeling grouchy</td>\n",
              "      <td>3</td>\n",
              "    </tr>\n",
              "    <tr>\n",
              "      <th>...</th>\n",
              "      <td>...</td>\n",
              "      <td>...</td>\n",
              "    </tr>\n",
              "    <tr>\n",
              "      <th>15995</th>\n",
              "      <td>i just had a very brief time in the beanbag an...</td>\n",
              "      <td>0</td>\n",
              "    </tr>\n",
              "    <tr>\n",
              "      <th>15996</th>\n",
              "      <td>i am now turning and i feel pathetic that i am...</td>\n",
              "      <td>0</td>\n",
              "    </tr>\n",
              "    <tr>\n",
              "      <th>15997</th>\n",
              "      <td>i feel strong and good overall</td>\n",
              "      <td>1</td>\n",
              "    </tr>\n",
              "    <tr>\n",
              "      <th>15998</th>\n",
              "      <td>i feel like this was such a rude comment and i...</td>\n",
              "      <td>3</td>\n",
              "    </tr>\n",
              "    <tr>\n",
              "      <th>15999</th>\n",
              "      <td>i know a lot but i feel so stupid because i ca...</td>\n",
              "      <td>0</td>\n",
              "    </tr>\n",
              "  </tbody>\n",
              "</table>\n",
              "<p>16000 rows × 2 columns</p>\n",
              "</div>"
            ],
            "text/plain": [
              "                                                    text  label\n",
              "0                                i didnt feel humiliated      0\n",
              "1      i can go from feeling so hopeless to so damned...      0\n",
              "2       im grabbing a minute to post i feel greedy wrong      3\n",
              "3      i am ever feeling nostalgic about the fireplac...      2\n",
              "4                                   i am feeling grouchy      3\n",
              "...                                                  ...    ...\n",
              "15995  i just had a very brief time in the beanbag an...      0\n",
              "15996  i am now turning and i feel pathetic that i am...      0\n",
              "15997                     i feel strong and good overall      1\n",
              "15998  i feel like this was such a rude comment and i...      3\n",
              "15999  i know a lot but i feel so stupid because i ca...      0\n",
              "\n",
              "[16000 rows x 2 columns]"
            ]
          },
          "execution_count": 4,
          "metadata": {},
          "output_type": "execute_result"
        }
      ],
      "source": [
        "dataset_df = my_dataset[\"train\"].to_pandas()\n",
        "dataset_df"
      ]
    },
    {
      "cell_type": "code",
      "execution_count": 5,
      "metadata": {
        "colab": {
          "base_uri": "https://localhost:8080/"
        },
        "id": "d8daX16fX79f",
        "outputId": "9a3054ec-d83f-43ce-f4e6-400845eb5a19"
      },
      "outputs": [
        {
          "data": {
            "text/plain": [
              "{'text': Value(dtype='string', id=None),\n",
              " 'label': ClassLabel(names=['sadness', 'joy', 'love', 'anger', 'fear', 'surprise'], id=None)}"
            ]
          },
          "execution_count": 5,
          "metadata": {},
          "output_type": "execute_result"
        }
      ],
      "source": [
        "features = my_dataset[\"train\"].features\n",
        "features"
      ]
    },
    {
      "cell_type": "code",
      "execution_count": 6,
      "metadata": {
        "colab": {
          "base_uri": "https://localhost:8080/"
        },
        "id": "FwtgRc-xgGWm",
        "outputId": "e35c9e91-8794-4116-8d20-58052f49c77a"
      },
      "outputs": [
        {
          "data": {
            "text/plain": [
              "{0: 'sadness', 1: 'joy', 2: 'love', 3: 'anger', 4: 'fear', 5: 'surprise'}"
            ]
          },
          "execution_count": 6,
          "metadata": {},
          "output_type": "execute_result"
        }
      ],
      "source": [
        "id2label = {idx:features[\"label\"].int2str(idx) for idx in range(6)}\n",
        "id2label"
      ]
    },
    {
      "cell_type": "code",
      "execution_count": 7,
      "metadata": {
        "colab": {
          "base_uri": "https://localhost:8080/"
        },
        "id": "GicNog4UgJf-",
        "outputId": "ce01f7cc-ed4e-423c-dfbf-93e46451590d"
      },
      "outputs": [
        {
          "data": {
            "text/plain": [
              "{'sadness': 0, 'joy': 1, 'love': 2, 'anger': 3, 'fear': 4, 'surprise': 5}"
            ]
          },
          "execution_count": 7,
          "metadata": {},
          "output_type": "execute_result"
        }
      ],
      "source": [
        "label2id = {v:k for k,v in id2label.items()}\n",
        "label2id"
      ]
    },
    {
      "cell_type": "code",
      "execution_count": 8,
      "metadata": {
        "colab": {
          "base_uri": "https://localhost:8080/"
        },
        "id": "sxjYCzcTgMNL",
        "outputId": "49b13fa9-e41e-482f-a734-f8ab23e75271"
      },
      "outputs": [
        {
          "data": {
            "text/plain": [
              "label\n",
              "0    0.291625\n",
              "1    0.335125\n",
              "2    0.081500\n",
              "3    0.134937\n",
              "4    0.121063\n",
              "5    0.035750\n",
              "Name: proportion, dtype: float64"
            ]
          },
          "execution_count": 8,
          "metadata": {},
          "output_type": "execute_result"
        }
      ],
      "source": [
        "dataset_df[\"label\"].value_counts(normalize=True).sort_index()"
      ]
    },
    {
      "cell_type": "code",
      "execution_count": 9,
      "metadata": {
        "colab": {
          "base_uri": "https://localhost:8080/"
        },
        "id": "e63qF1cugQZz",
        "outputId": "459a0120-d0c8-4502-909d-65eca3a529b2"
      },
      "outputs": [
        {
          "data": {
            "text/plain": [
              "tensor([0.7084, 0.6649, 0.9185, 0.8651, 0.8789, 0.9643], device='cuda:0')"
            ]
          },
          "execution_count": 9,
          "metadata": {},
          "output_type": "execute_result"
        }
      ],
      "source": [
        "class_weights = (1 - (dataset_df[\"label\"].value_counts().sort_index() / len(dataset_df))).values #assigning high weight to the rare classes and low weight to the common classes to balance it out as there is an imbalance in the dataset\n",
        "class_weights\n",
        "\n",
        "\n",
        "class_weights = torch.from_numpy(class_weights).float()\n",
        "class_weights = class_weights.to(\"cuda\")\n",
        "class_weights"
      ]
    },
    {
      "cell_type": "code",
      "execution_count": 10,
      "metadata": {
        "id": "bMSQOZIqST2L"
      },
      "outputs": [],
      "source": [
        "X_train = my_dataset[\"train\"].to_pandas()\n",
        "X_test = my_dataset[\"test\"].to_pandas()\n",
        "X_valid = my_dataset[\"validation\"].to_pandas()\n",
        "\n",
        "def generate_prompt(data_point):\n",
        "    return f\"\"\"\n",
        "            Analyze the emotion of the texts in the square brackets,\n",
        "            determine if it is sadness, joy, love, anger, fear, surprise, and return the answer as\n",
        "            the corresponding sentiment label \"sadness\",\"joy\",\"love\",\"anger\", \"fear\", \"surprise\".\n",
        "\n",
        "            [{data_point[\"text\"]}] = {data_point[\"label\"]}\n",
        "            \"\"\".strip()\n",
        "\n",
        "def generate_test_prompt(data_point):\n",
        "    return f\"\"\"\n",
        "            Analyze the emotion of the texts in the square brackets,\n",
        "            determine if it is sadness, joy, love, anger, fear, surprise, and return the answer as\n",
        "            the corresponding sentiment label 'sadness','joy','love','anger', 'fear', 'surprise'.\n",
        "\n",
        "            [{data_point[\"text\"]}] = \"\"\".strip()\n",
        "\n",
        "X_train = pd.DataFrame(X_train.apply(generate_prompt, axis=1),\n",
        "                       columns=[\"text\"])\n",
        "X_valid = pd.DataFrame(X_valid.apply(generate_prompt, axis=1),\n",
        "                      columns=[\"text\"])\n",
        "\n",
        "y_true = X_test.label\n",
        "X_test = pd.DataFrame(X_test.apply(generate_test_prompt, axis=1), columns=[\"text\"])\n",
        "\n",
        "train_data = Dataset.from_pandas(X_train)\n",
        "val_data = Dataset.from_pandas(X_valid)\n"
      ]
    },
    {
      "cell_type": "code",
      "execution_count": 12,
      "metadata": {
        "id": "n7pxcijnbVzn"
      },
      "outputs": [],
      "source": [
        "def evaluate(y_true, y_pred):\n",
        "\n",
        "    # Calculate accuracy\n",
        "    accuracy = accuracy_score(y_true=y_true, y_pred=y_pred)\n",
        "    print(f'Accuracy: {accuracy:.3f}')\n",
        "\n",
        "    # Generate accuracy report\n",
        "    unique_labels = set(y_true)  # Get unique labels output: {0,1,2,3,4,5}\n",
        "\n",
        "    # nested for loops\n",
        "    for label in unique_labels:\n",
        "        # will output a list of the index of one emotion at a time\n",
        "        label_indices = [i for i in range(len(y_true))\n",
        "                         if y_true[i] == label]\n",
        "        # will output the list of one emotion\n",
        "        label_y_true = [y_true[i] for i in label_indices]\n",
        "        # label_y_true = [label for i in range(len(y_true))]\n",
        "        # will output list of the predicted emotion in the same order as label_y_true\n",
        "        label_y_pred = [y_pred[i] for i in label_indices]\n",
        "        accuracy = accuracy_score(label_y_true, label_y_pred)\n",
        "        print(f'Accuracy for label {label}: {accuracy:.3f}')\n",
        "\n",
        "    # Generate classification report\n",
        "    class_report = classification_report(y_true=y_true, y_pred=y_pred)\n",
        "    print('\\nClassification Report:')\n",
        "    print(class_report)\n",
        "\n",
        "    # Generate confusion matrix\n",
        "    conf_matrix = confusion_matrix(y_true=y_true, y_pred=y_pred, labels=[0, 1, 2, 3, 4, 5, 6])\n",
        "    print('\\nConfusion Matrix:')\n",
        "    print(conf_matrix)"
      ]
    },
    {
      "cell_type": "markdown",
      "metadata": {
        "id": "q4cBraUaf4B_"
      },
      "source": [
        "# **Model**"
      ]
    },
    {
      "cell_type": "code",
      "execution_count": 13,
      "metadata": {
        "colab": {
          "base_uri": "https://localhost:8080/",
          "height": 145,
          "referenced_widgets": [
            "d38b20b76f10408aaff8ebc578cb4949",
            "a39d5a22ef914a5f8d5db8424b595bc2",
            "328f1650dfac4ce4af2a266a6fc9cf25",
            "a869d4289e5746e1b83ee67d6d952033",
            "eef1bc152cd840c894adf078cb7030d7",
            "261f05f603144d4bb09e175b89f196a7",
            "2afa38e276844a748f94316c494c8fc6",
            "3933d65dd43f4d658dfbc5b3e2feb073",
            "b5bfb0d3ebb646529378a737624236f2",
            "0b676c7d07b8491ea149ccf83c834628",
            "5bc2c1f98014409f98f0c9c98fc138ab",
            "7b9bbe1e8f24433887d25339028a30bd",
            "8e35bdb8cf2b41709cf781f6e7a5dde3",
            "6d4805afc46a4239a8dad08105797154",
            "92c63962e0cb453fa87084beb1f84468",
            "2bd4030190bd459e9b03407bf4a76b98",
            "29f935ecb5724d7198ed33baafc753b6",
            "7bcea6249ca3403cba39ae019f304466",
            "3d94b4e40810408fb76afe15e5d09284",
            "8adf6aef2f1147bf9760d1d6e6f1b8fd",
            "07eca6123bdc45609803b665e61c3df0",
            "19997f6028c848949dd30cd628f0e95c",
            "6da83cc92206480793ccd70a88278c4d",
            "51242470c37c4b28a2be02a71d8b0569",
            "0eb0b78c58fa485e9333ddeebc9eb6f5",
            "7111bd8a4b0646279846346a05964ec8",
            "37cbecdd58114234912d755f1545ce68",
            "379c176c1c514d90b20a096d2be8bdaf",
            "c27167fcb94c4c839202c3ce150a13f6",
            "2be61e28254e48eb87a7ed79c211421a",
            "e9de2fe13f7b420c88a50677fd24167c",
            "1f0ce64a489047df8a5661947eee8636"
          ]
        },
        "id": "3LR4hTtXmgUx",
        "outputId": "eb1851be-2c92-43bf-edbc-f767f8f41a55"
      },
      "outputs": [
        {
          "data": {
            "application/vnd.jupyter.widget-view+json": {
              "model_id": "9bd93f09c3d44d1e92dd0afce3389d65",
              "version_major": 2,
              "version_minor": 0
            },
            "text/plain": [
              "VBox(children=(HTML(value='<center> <img\\nsrc=https://huggingface.co/front/assets/huggingface_logo-noborder.sv…"
            ]
          },
          "metadata": {},
          "output_type": "display_data"
        }
      ],
      "source": [
        "notebook_login()"
      ]
    },
    {
      "cell_type": "code",
      "execution_count": 14,
      "metadata": {
        "id": "kdplhznffKtq"
      },
      "outputs": [],
      "source": [
        "compute_dtype = getattr(torch, \"float16\")\n",
        "\n",
        "def create_model_and_tokenizer():\n",
        "  # defining a config for less powerful hardware to run the model\n",
        "  bnb_config = BitsAndBytesConfig(\n",
        "      load_in_4bit=True,\n",
        "      bnb_4bit_quant_type=\"nf4\",\n",
        "      bnb_4bit_compute_dtype=compute_dtype,\n",
        "      bnb_4bit_use_double_quant=True,\n",
        "  )\n",
        "\n",
        "  model = AutoModelForCausalLM.from_pretrained(\n",
        "      MODEL_NAME,\n",
        "      use_safetensors=True,\n",
        "      quantization_config=bnb_config,\n",
        "      trust_remote_code=True,\n",
        "      device_map=\"auto\"\n",
        "  )\n",
        "\n",
        "  tokenizer = AutoTokenizer.from_pretrained(MODEL_NAME)\n",
        "  tokenizer.pad_token = tokenizer.eos_token\n",
        "  tokenizer.padding_side = \"right\"\n",
        "\n",
        "  return model, tokenizer"
      ]
    },
    {
      "cell_type": "code",
      "execution_count": 16,
      "metadata": {
        "colab": {
          "base_uri": "https://localhost:8080/",
          "height": 153,
          "referenced_widgets": [
            "d7b5d0a051d04c0ca7cd6275f05f7ad9",
            "249cfdf0dca64e4488a03eab15454828",
            "03a392629e5746259141aa7bf37fc69c",
            "0b34184f284b478b9b7fa21f1d6e44e3",
            "bd8dae66dfec40ac9d6cf99f63874d0e",
            "c538a8e81f6943f8914088d2c73aeb7b",
            "d3c7e1c96d74475b8bae6abf237eb145",
            "722bb4019f874892bc34de575b7e08d8",
            "e8710c4f544645808087531910d62505",
            "41f465104adc42b1a4c6fecd828411b0",
            "0bafbf2bb1be48009f8eca40b23a7bce"
          ]
        },
        "id": "FmxS2d6EkG9j",
        "outputId": "27fc677e-81f3-4628-8c76-40fc3aa14dc3"
      },
      "outputs": [
        {
          "ename": "ImportError",
          "evalue": "Using `bitsandbytes` 8-bit quantization requires Accelerate: `pip install accelerate` and the latest version of bitsandbytes: `pip install -i https://pypi.org/simple/ bitsandbytes`",
          "output_type": "error",
          "traceback": [
            "\u001b[1;31m---------------------------------------------------------------------------\u001b[0m",
            "\u001b[1;31mImportError\u001b[0m                               Traceback (most recent call last)",
            "Cell \u001b[1;32mIn[16], line 1\u001b[0m\n\u001b[1;32m----> 1\u001b[0m model, tokenizer \u001b[38;5;241m=\u001b[39m \u001b[43mcreate_model_and_tokenizer\u001b[49m\u001b[43m(\u001b[49m\u001b[43m)\u001b[49m\n\u001b[0;32m      2\u001b[0m \u001b[38;5;66;03m#model.config.use_cache = False\u001b[39;00m\n\u001b[0;32m      3\u001b[0m \u001b[38;5;66;03m#model.resize_token_embeddings(32000)\u001b[39;00m\n\u001b[0;32m      4\u001b[0m model\u001b[38;5;241m.\u001b[39mconfig\u001b[38;5;241m.\u001b[39mpretraining_tp \u001b[38;5;241m=\u001b[39m \u001b[38;5;241m1\u001b[39m\n",
            "Cell \u001b[1;32mIn[15], line 12\u001b[0m, in \u001b[0;36mcreate_model_and_tokenizer\u001b[1;34m()\u001b[0m\n\u001b[0;32m      3\u001b[0m \u001b[38;5;28;01mdef\u001b[39;00m \u001b[38;5;21mcreate_model_and_tokenizer\u001b[39m():\n\u001b[0;32m      4\u001b[0m   \u001b[38;5;66;03m# defining a config for less powerful hardware to run the model\u001b[39;00m\n\u001b[0;32m      5\u001b[0m   bnb_config \u001b[38;5;241m=\u001b[39m BitsAndBytesConfig(\n\u001b[0;32m      6\u001b[0m       load_in_4bit\u001b[38;5;241m=\u001b[39m\u001b[38;5;28;01mTrue\u001b[39;00m,\n\u001b[0;32m      7\u001b[0m       bnb_4bit_quant_type\u001b[38;5;241m=\u001b[39m\u001b[38;5;124m\"\u001b[39m\u001b[38;5;124mnf4\u001b[39m\u001b[38;5;124m\"\u001b[39m,\n\u001b[0;32m      8\u001b[0m       bnb_4bit_compute_dtype\u001b[38;5;241m=\u001b[39mcompute_dtype,\n\u001b[0;32m      9\u001b[0m       bnb_4bit_use_double_quant\u001b[38;5;241m=\u001b[39m\u001b[38;5;28;01mTrue\u001b[39;00m,\n\u001b[0;32m     10\u001b[0m   )\n\u001b[1;32m---> 12\u001b[0m   model \u001b[38;5;241m=\u001b[39m \u001b[43mAutoModelForCausalLM\u001b[49m\u001b[38;5;241;43m.\u001b[39;49m\u001b[43mfrom_pretrained\u001b[49m\u001b[43m(\u001b[49m\n\u001b[0;32m     13\u001b[0m \u001b[43m      \u001b[49m\u001b[43mMODEL_NAME\u001b[49m\u001b[43m,\u001b[49m\n\u001b[0;32m     14\u001b[0m \u001b[43m      \u001b[49m\u001b[43muse_safetensors\u001b[49m\u001b[38;5;241;43m=\u001b[39;49m\u001b[38;5;28;43;01mTrue\u001b[39;49;00m\u001b[43m,\u001b[49m\n\u001b[0;32m     15\u001b[0m \u001b[43m      \u001b[49m\u001b[43mquantization_config\u001b[49m\u001b[38;5;241;43m=\u001b[39;49m\u001b[43mbnb_config\u001b[49m\u001b[43m,\u001b[49m\n\u001b[0;32m     16\u001b[0m \u001b[43m      \u001b[49m\u001b[43mtrust_remote_code\u001b[49m\u001b[38;5;241;43m=\u001b[39;49m\u001b[38;5;28;43;01mTrue\u001b[39;49;00m\u001b[43m,\u001b[49m\n\u001b[0;32m     17\u001b[0m \u001b[43m      \u001b[49m\u001b[43mdevice_map\u001b[49m\u001b[38;5;241;43m=\u001b[39;49m\u001b[38;5;124;43m\"\u001b[39;49m\u001b[38;5;124;43mauto\u001b[39;49m\u001b[38;5;124;43m\"\u001b[39;49m\n\u001b[0;32m     18\u001b[0m \u001b[43m  \u001b[49m\u001b[43m)\u001b[49m\n\u001b[0;32m     20\u001b[0m   tokenizer \u001b[38;5;241m=\u001b[39m AutoTokenizer\u001b[38;5;241m.\u001b[39mfrom_pretrained(MODEL_NAME)\n\u001b[0;32m     21\u001b[0m   tokenizer\u001b[38;5;241m.\u001b[39mpad_token \u001b[38;5;241m=\u001b[39m tokenizer\u001b[38;5;241m.\u001b[39meos_token\n",
            "File \u001b[1;32mc:\\Users\\alice\\Documents\\Final year project\\Fyp_code\\.venv\\Lib\\site-packages\\transformers\\models\\auto\\auto_factory.py:561\u001b[0m, in \u001b[0;36m_BaseAutoModelClass.from_pretrained\u001b[1;34m(cls, pretrained_model_name_or_path, *model_args, **kwargs)\u001b[0m\n\u001b[0;32m    559\u001b[0m \u001b[38;5;28;01melif\u001b[39;00m \u001b[38;5;28mtype\u001b[39m(config) \u001b[38;5;129;01min\u001b[39;00m \u001b[38;5;28mcls\u001b[39m\u001b[38;5;241m.\u001b[39m_model_mapping\u001b[38;5;241m.\u001b[39mkeys():\n\u001b[0;32m    560\u001b[0m     model_class \u001b[38;5;241m=\u001b[39m _get_model_class(config, \u001b[38;5;28mcls\u001b[39m\u001b[38;5;241m.\u001b[39m_model_mapping)\n\u001b[1;32m--> 561\u001b[0m     \u001b[38;5;28;01mreturn\u001b[39;00m \u001b[43mmodel_class\u001b[49m\u001b[38;5;241;43m.\u001b[39;49m\u001b[43mfrom_pretrained\u001b[49m\u001b[43m(\u001b[49m\n\u001b[0;32m    562\u001b[0m \u001b[43m        \u001b[49m\u001b[43mpretrained_model_name_or_path\u001b[49m\u001b[43m,\u001b[49m\u001b[43m \u001b[49m\u001b[38;5;241;43m*\u001b[39;49m\u001b[43mmodel_args\u001b[49m\u001b[43m,\u001b[49m\u001b[43m \u001b[49m\u001b[43mconfig\u001b[49m\u001b[38;5;241;43m=\u001b[39;49m\u001b[43mconfig\u001b[49m\u001b[43m,\u001b[49m\u001b[43m \u001b[49m\u001b[38;5;241;43m*\u001b[39;49m\u001b[38;5;241;43m*\u001b[39;49m\u001b[43mhub_kwargs\u001b[49m\u001b[43m,\u001b[49m\u001b[43m \u001b[49m\u001b[38;5;241;43m*\u001b[39;49m\u001b[38;5;241;43m*\u001b[39;49m\u001b[43mkwargs\u001b[49m\n\u001b[0;32m    563\u001b[0m \u001b[43m    \u001b[49m\u001b[43m)\u001b[49m\n\u001b[0;32m    564\u001b[0m \u001b[38;5;28;01mraise\u001b[39;00m \u001b[38;5;167;01mValueError\u001b[39;00m(\n\u001b[0;32m    565\u001b[0m     \u001b[38;5;124mf\u001b[39m\u001b[38;5;124m\"\u001b[39m\u001b[38;5;124mUnrecognized configuration class \u001b[39m\u001b[38;5;132;01m{\u001b[39;00mconfig\u001b[38;5;241m.\u001b[39m\u001b[38;5;18m__class__\u001b[39m\u001b[38;5;132;01m}\u001b[39;00m\u001b[38;5;124m for this kind of AutoModel: \u001b[39m\u001b[38;5;132;01m{\u001b[39;00m\u001b[38;5;28mcls\u001b[39m\u001b[38;5;241m.\u001b[39m\u001b[38;5;18m__name__\u001b[39m\u001b[38;5;132;01m}\u001b[39;00m\u001b[38;5;124m.\u001b[39m\u001b[38;5;130;01m\\n\u001b[39;00m\u001b[38;5;124m\"\u001b[39m\n\u001b[0;32m    566\u001b[0m     \u001b[38;5;124mf\u001b[39m\u001b[38;5;124m\"\u001b[39m\u001b[38;5;124mModel type should be one of \u001b[39m\u001b[38;5;132;01m{\u001b[39;00m\u001b[38;5;124m'\u001b[39m\u001b[38;5;124m, \u001b[39m\u001b[38;5;124m'\u001b[39m\u001b[38;5;241m.\u001b[39mjoin(c\u001b[38;5;241m.\u001b[39m\u001b[38;5;18m__name__\u001b[39m\u001b[38;5;250m \u001b[39m\u001b[38;5;28;01mfor\u001b[39;00m\u001b[38;5;250m \u001b[39mc\u001b[38;5;250m \u001b[39m\u001b[38;5;129;01min\u001b[39;00m\u001b[38;5;250m \u001b[39m\u001b[38;5;28mcls\u001b[39m\u001b[38;5;241m.\u001b[39m_model_mapping\u001b[38;5;241m.\u001b[39mkeys())\u001b[38;5;132;01m}\u001b[39;00m\u001b[38;5;124m.\u001b[39m\u001b[38;5;124m\"\u001b[39m\n\u001b[0;32m    567\u001b[0m )\n",
            "File \u001b[1;32mc:\\Users\\alice\\Documents\\Final year project\\Fyp_code\\.venv\\Lib\\site-packages\\transformers\\modeling_utils.py:3024\u001b[0m, in \u001b[0;36mPreTrainedModel.from_pretrained\u001b[1;34m(cls, pretrained_model_name_or_path, config, cache_dir, ignore_mismatched_sizes, force_download, local_files_only, token, revision, use_safetensors, *model_args, **kwargs)\u001b[0m\n\u001b[0;32m   3021\u001b[0m     hf_quantizer \u001b[38;5;241m=\u001b[39m \u001b[38;5;28;01mNone\u001b[39;00m\n\u001b[0;32m   3023\u001b[0m \u001b[38;5;28;01mif\u001b[39;00m hf_quantizer \u001b[38;5;129;01mis\u001b[39;00m \u001b[38;5;129;01mnot\u001b[39;00m \u001b[38;5;28;01mNone\u001b[39;00m:\n\u001b[1;32m-> 3024\u001b[0m     \u001b[43mhf_quantizer\u001b[49m\u001b[38;5;241;43m.\u001b[39;49m\u001b[43mvalidate_environment\u001b[49m\u001b[43m(\u001b[49m\n\u001b[0;32m   3025\u001b[0m \u001b[43m        \u001b[49m\u001b[43mtorch_dtype\u001b[49m\u001b[38;5;241;43m=\u001b[39;49m\u001b[43mtorch_dtype\u001b[49m\u001b[43m,\u001b[49m\u001b[43m \u001b[49m\u001b[43mfrom_tf\u001b[49m\u001b[38;5;241;43m=\u001b[39;49m\u001b[43mfrom_tf\u001b[49m\u001b[43m,\u001b[49m\u001b[43m \u001b[49m\u001b[43mfrom_flax\u001b[49m\u001b[38;5;241;43m=\u001b[39;49m\u001b[43mfrom_flax\u001b[49m\u001b[43m,\u001b[49m\u001b[43m \u001b[49m\u001b[43mdevice_map\u001b[49m\u001b[38;5;241;43m=\u001b[39;49m\u001b[43mdevice_map\u001b[49m\n\u001b[0;32m   3026\u001b[0m \u001b[43m    \u001b[49m\u001b[43m)\u001b[49m\n\u001b[0;32m   3027\u001b[0m     torch_dtype \u001b[38;5;241m=\u001b[39m hf_quantizer\u001b[38;5;241m.\u001b[39mupdate_torch_dtype(torch_dtype)\n\u001b[0;32m   3028\u001b[0m     device_map \u001b[38;5;241m=\u001b[39m hf_quantizer\u001b[38;5;241m.\u001b[39mupdate_device_map(device_map)\n",
            "File \u001b[1;32mc:\\Users\\alice\\Documents\\Final year project\\Fyp_code\\.venv\\Lib\\site-packages\\transformers\\quantizers\\quantizer_bnb_4bit.py:62\u001b[0m, in \u001b[0;36mBnb4BitHfQuantizer.validate_environment\u001b[1;34m(self, *args, **kwargs)\u001b[0m\n\u001b[0;32m     60\u001b[0m \u001b[38;5;28;01mdef\u001b[39;00m \u001b[38;5;21mvalidate_environment\u001b[39m(\u001b[38;5;28mself\u001b[39m, \u001b[38;5;241m*\u001b[39margs, \u001b[38;5;241m*\u001b[39m\u001b[38;5;241m*\u001b[39mkwargs):\n\u001b[0;32m     61\u001b[0m     \u001b[38;5;28;01mif\u001b[39;00m \u001b[38;5;129;01mnot\u001b[39;00m (is_accelerate_available() \u001b[38;5;129;01mand\u001b[39;00m is_bitsandbytes_available()):\n\u001b[1;32m---> 62\u001b[0m         \u001b[38;5;28;01mraise\u001b[39;00m \u001b[38;5;167;01mImportError\u001b[39;00m(\n\u001b[0;32m     63\u001b[0m             \u001b[38;5;124m\"\u001b[39m\u001b[38;5;124mUsing `bitsandbytes` 8-bit quantization requires Accelerate: `pip install accelerate` \u001b[39m\u001b[38;5;124m\"\u001b[39m\n\u001b[0;32m     64\u001b[0m             \u001b[38;5;124m\"\u001b[39m\u001b[38;5;124mand the latest version of bitsandbytes: `pip install -i https://pypi.org/simple/ bitsandbytes`\u001b[39m\u001b[38;5;124m\"\u001b[39m\n\u001b[0;32m     65\u001b[0m         )\n\u001b[0;32m     67\u001b[0m     \u001b[38;5;28;01mif\u001b[39;00m kwargs\u001b[38;5;241m.\u001b[39mget(\u001b[38;5;124m\"\u001b[39m\u001b[38;5;124mfrom_tf\u001b[39m\u001b[38;5;124m\"\u001b[39m, \u001b[38;5;28;01mFalse\u001b[39;00m) \u001b[38;5;129;01mor\u001b[39;00m kwargs\u001b[38;5;241m.\u001b[39mget(\u001b[38;5;124m\"\u001b[39m\u001b[38;5;124mfrom_flax\u001b[39m\u001b[38;5;124m\"\u001b[39m, \u001b[38;5;28;01mFalse\u001b[39;00m):\n\u001b[0;32m     68\u001b[0m         \u001b[38;5;28;01mraise\u001b[39;00m \u001b[38;5;167;01mValueError\u001b[39;00m(\n\u001b[0;32m     69\u001b[0m             \u001b[38;5;124m\"\u001b[39m\u001b[38;5;124mConverting into 4-bit or 8-bit weights from tf/flax weights is currently not supported, please make\u001b[39m\u001b[38;5;124m\"\u001b[39m\n\u001b[0;32m     70\u001b[0m             \u001b[38;5;124m\"\u001b[39m\u001b[38;5;124m sure the weights are in PyTorch format.\u001b[39m\u001b[38;5;124m\"\u001b[39m\n\u001b[0;32m     71\u001b[0m         )\n",
            "\u001b[1;31mImportError\u001b[0m: Using `bitsandbytes` 8-bit quantization requires Accelerate: `pip install accelerate` and the latest version of bitsandbytes: `pip install -i https://pypi.org/simple/ bitsandbytes`"
          ]
        }
      ],
      "source": [
        "model, tokenizer = create_model_and_tokenizer()\n",
        "#model.config.use_cache = False\n",
        "#model.resize_token_embeddings(32000)\n",
        "model.config.pretraining_tp = 1\n",
        "model, tokenizer = setup_chat_format(model, tokenizer)"
      ]
    },
    {
      "cell_type": "code",
      "execution_count": 21,
      "metadata": {
        "colab": {
          "base_uri": "https://localhost:8080/"
        },
        "id": "MiHFD9-GwaYs",
        "outputId": "4092dae7-b34c-4fd9-e2a3-cb7c482d3755"
      },
      "outputs": [
        {
          "data": {
            "text/plain": [
              "{'quant_method': <QuantizationMethod.BITS_AND_BYTES: 'bitsandbytes'>,\n",
              " '_load_in_8bit': False,\n",
              " '_load_in_4bit': True,\n",
              " 'llm_int8_threshold': 6.0,\n",
              " 'llm_int8_skip_modules': None,\n",
              " 'llm_int8_enable_fp32_cpu_offload': False,\n",
              " 'llm_int8_has_fp16_weight': False,\n",
              " 'bnb_4bit_quant_type': 'nf4',\n",
              " 'bnb_4bit_use_double_quant': True,\n",
              " 'bnb_4bit_compute_dtype': 'float16',\n",
              " 'load_in_4bit': True,\n",
              " 'load_in_8bit': False}"
            ]
          },
          "execution_count": 21,
          "metadata": {},
          "output_type": "execute_result"
        }
      ],
      "source": [
        "model.config.quantization_config.to_dict()"
      ]
    },
    {
      "cell_type": "code",
      "execution_count": 15,
      "metadata": {
        "id": "UUm6gCL1ft_x"
      },
      "outputs": [],
      "source": [
        "def predict(model, tokenizer):\n",
        "    y_pred = []\n",
        "    none_pred = []\n",
        "    for i in tqdm(range(len(X_test))):\n",
        "        # prompt = X_test.iloc[i][\"text\"].to(DEVICE)\n",
        "        prompt = X_test.iloc[i][\"text\"]\n",
        "        pipe = pipeline(task=\"text-generation\",\n",
        "                        model=model,\n",
        "                        tokenizer=tokenizer,\n",
        "                        max_new_tokens = 4,\n",
        "                        temperature = 0.1, # lower temp = less random, higher temp = more random or unexpected text\n",
        "                       )\n",
        "        result = pipe(prompt)\n",
        "        answer = result[0]['generated_text'].split(\"=\")[-1]\n",
        "        #print(result)\n",
        "        #print(answer)\n",
        "        if \"sadness\" in answer:\n",
        "            y_pred.append(0)\n",
        "        elif \"joy\" in answer:\n",
        "            y_pred.append(1)\n",
        "        elif \"love\" in answer:\n",
        "            y_pred.append(2)\n",
        "        elif \"anger\" in answer:\n",
        "            y_pred.append(3)\n",
        "        elif \"fear\" in answer:\n",
        "            y_pred.append(4)\n",
        "        elif \"surprise\" in answer:\n",
        "            y_pred.append(5)\n",
        "        else:\n",
        "            y_pred.append(6)\n",
        "            none_pred.append(answer)\n",
        "        # print(none_pred)\n",
        "    return y_pred, none_pred"
      ]
    },
    {
      "cell_type": "code",
      "execution_count": 23,
      "metadata": {
        "colab": {
          "base_uri": "https://localhost:8080/",
          "height": 53
        },
        "id": "9KwbUGW5vUlb",
        "outputId": "63ca2e68-3340-4c8c-ba80-769f3f62d03d"
      },
      "outputs": [
        {
          "data": {
            "text/plain": [
              "\"Analyze the emotion of the texts in the square brackets,\\n            determine if it is sadness, joy, love, anger, fear, surprise, and return the answer as\\n            the corresponding sentiment label 'sadness','joy','love','anger', 'fear', 'surprise'.\\n\\n            [im updating my blog because i feel shitty] =\""
            ]
          },
          "execution_count": 23,
          "metadata": {},
          "output_type": "execute_result"
        }
      ],
      "source": [
        "X_test.iloc[1][\"text\"]"
      ]
    },
    {
      "cell_type": "code",
      "execution_count": 24,
      "metadata": {
        "colab": {
          "base_uri": "https://localhost:8080/"
        },
        "id": "u_4elisSq5Qp",
        "outputId": "7cb81e9d-36d9-48f9-9eb7-63e7264855a0"
      },
      "outputs": [
        {
          "name": "stderr",
          "output_type": "stream",
          "text": [
            "100%|██████████| 2000/2000 [05:03<00:00,  6.59it/s]\n"
          ]
        }
      ],
      "source": [
        "y_pred, none_pred = predict(model, tokenizer)"
      ]
    },
    {
      "cell_type": "code",
      "execution_count": 25,
      "metadata": {
        "colab": {
          "base_uri": "https://localhost:8080/"
        },
        "id": "xL6YoaChuxIU",
        "outputId": "654ac533-5599-41f9-82a6-32fbd099a476"
      },
      "outputs": [
        {
          "name": "stdout",
          "output_type": "stream",
          "text": [
            "Accuracy: 0.496\n",
            "Accuracy for label 0: 0.702\n",
            "Accuracy for label 1: 0.501\n",
            "Accuracy for label 2: 0.434\n",
            "Accuracy for label 3: 0.513\n",
            "Accuracy for label 4: 0.076\n",
            "Accuracy for label 5: 0.152\n",
            "\n",
            "Classification Report:\n",
            "              precision    recall  f1-score   support\n",
            "\n",
            "           0       0.47      0.70      0.56       581\n",
            "           1       0.75      0.50      0.60       695\n",
            "           2       0.27      0.43      0.34       159\n",
            "           3       0.44      0.51      0.47       275\n",
            "           4       0.81      0.08      0.14       224\n",
            "           5       0.28      0.15      0.20        66\n",
            "           6       0.00      0.00      0.00         0\n",
            "\n",
            "    accuracy                           0.50      2000\n",
            "   macro avg       0.43      0.34      0.33      2000\n",
            "weighted avg       0.58      0.50      0.49      2000\n",
            "\n",
            "\n",
            "Confusion Matrix:\n",
            "[[408  46  37  80   1   2   7]\n",
            " [174 348 109  38   3   5  18]\n",
            " [ 52  27  69   9   0   0   2]\n",
            " [ 96  14  17 141   0   2   5]\n",
            " [114  14  11  47  17  17   4]\n",
            " [ 24  16   8   6   0  10   2]\n",
            " [  0   0   0   0   0   0   0]]\n"
          ]
        },
        {
          "name": "stderr",
          "output_type": "stream",
          "text": [
            "/home/liamo/Vscode/FYP_Code/.venv/lib/python3.11/site-packages/sklearn/metrics/_classification.py:1509: UndefinedMetricWarning: Recall is ill-defined and being set to 0.0 in labels with no true samples. Use `zero_division` parameter to control this behavior.\n",
            "  _warn_prf(average, modifier, f\"{metric.capitalize()} is\", len(result))\n",
            "/home/liamo/Vscode/FYP_Code/.venv/lib/python3.11/site-packages/sklearn/metrics/_classification.py:1509: UndefinedMetricWarning: Recall is ill-defined and being set to 0.0 in labels with no true samples. Use `zero_division` parameter to control this behavior.\n",
            "  _warn_prf(average, modifier, f\"{metric.capitalize()} is\", len(result))\n",
            "/home/liamo/Vscode/FYP_Code/.venv/lib/python3.11/site-packages/sklearn/metrics/_classification.py:1509: UndefinedMetricWarning: Recall is ill-defined and being set to 0.0 in labels with no true samples. Use `zero_division` parameter to control this behavior.\n",
            "  _warn_prf(average, modifier, f\"{metric.capitalize()} is\", len(result))\n"
          ]
        }
      ],
      "source": [
        "# none_pred\n",
        "evaluate(y_true, y_pred)"
      ]
    },
    {
      "cell_type": "code",
      "execution_count": 26,
      "metadata": {
        "id": "wJDueMGPwo-u"
      },
      "outputs": [],
      "source": [
        "lora_alpha = 32\n",
        "lora_dropout = 0.05\n",
        "lora_r = 16\n",
        "\n",
        "peft_config = LoraConfig(\n",
        "    lora_alpha = lora_alpha,\n",
        "    lora_dropout = lora_dropout,\n",
        "    r = lora_r,\n",
        "    bias=\"none\",\n",
        "    task_type=\"CAUSAL_LM\"\n",
        ")"
      ]
    },
    {
      "cell_type": "code",
      "execution_count": 27,
      "metadata": {},
      "outputs": [
        {
          "name": "stdout",
          "output_type": "stream",
          "text": [
            "None\n"
          ]
        }
      ],
      "source": [
        "print(model.init_weights())"
      ]
    },
    {
      "cell_type": "markdown",
      "metadata": {
        "id": "BN515jT9xIl0"
      },
      "source": [
        "# **Training**"
      ]
    },
    {
      "cell_type": "code",
      "execution_count": 18,
      "metadata": {
        "colab": {
          "base_uri": "https://localhost:8080/",
          "height": 81,
          "referenced_widgets": [
            "688cb08ee71842fd92da23681819ec95",
            "833343c4089b47859b019d8335a19908",
            "dd9eb7d6b24b48a7bb1b84584174c07a",
            "1dd1b61cc9644421bafd13aafd760071",
            "4062c912660e40b9a2bb5fc37c4f826c",
            "b7a5a778789545afb2f854d9f23173ab",
            "0dacac2b55c3453f9e1bd127f5d4771c",
            "f1510ddb417d47ffad3453510fed63d3",
            "6ece86edcdcf4b7498061922c0195653",
            "fb9f2941ee83469eb148a16e1a274ca2",
            "d7a1f901d5d14cda861e6c1c9b0220cf",
            "d87b3e77b0c047f6bc30898c393fd26a",
            "95d071b123d142acb03f33c375353875",
            "904e249d69ed4cd9beff9101b0414010",
            "c521590484aa40bf866ddffde3df53ca",
            "fea34542a67f4daeaeeca68564f7d36e",
            "9bf08ed61cfa4ee3b5b804b9cdcfdf11",
            "971279c0c0f04eaea5eada5d03519b85",
            "9641926e1d464104ae3d6b0c8292fb49",
            "d49edb180bef47cba2de018f6731ef7c",
            "d03ba541c5424661917f17f2d6a7e320",
            "e52e565de0a74a8380cf87fe9e398db9"
          ]
        },
        "id": "fnPtl3J6xN8o",
        "outputId": "966266c8-6339-42dd-fe40-ea09026b000e"
      },
      "outputs": [
        {
          "ename": "ValueError",
          "evalue": "FP16 Mixed precision training with AMP or APEX (`--fp16`) and FP16 half precision evaluation (`--fp16_full_eval`) can only be used on CUDA or NPU devices or certain XPU devices (with IPEX).",
          "output_type": "error",
          "traceback": [
            "\u001b[1;31m---------------------------------------------------------------------------\u001b[0m",
            "\u001b[1;31mValueError\u001b[0m                                Traceback (most recent call last)",
            "Cell \u001b[1;32mIn[18], line 3\u001b[0m\n\u001b[0;32m      1\u001b[0m output_dir \u001b[38;5;241m=\u001b[39m \u001b[38;5;124m\"\u001b[39m\u001b[38;5;124m./output\u001b[39m\u001b[38;5;124m\"\u001b[39m\n\u001b[1;32m----> 3\u001b[0m training_arguments \u001b[38;5;241m=\u001b[39m \u001b[43mTrainingArguments\u001b[49m\u001b[43m(\u001b[49m\n\u001b[0;32m      4\u001b[0m \u001b[43m    \u001b[49m\u001b[43moutput_dir\u001b[49m\u001b[38;5;241;43m=\u001b[39;49m\u001b[43moutput_dir\u001b[49m\u001b[43m,\u001b[49m\u001b[43m                    \u001b[49m\u001b[38;5;66;43;03m# directory to save and repository id\u001b[39;49;00m\n\u001b[0;32m      5\u001b[0m \u001b[43m    \u001b[49m\u001b[43mnum_train_epochs\u001b[49m\u001b[38;5;241;43m=\u001b[39;49m\u001b[38;5;241;43m3\u001b[39;49m\u001b[43m,\u001b[49m\u001b[43m                       \u001b[49m\u001b[38;5;66;43;03m# number of training epochs\u001b[39;49;00m\n\u001b[0;32m      6\u001b[0m \u001b[43m    \u001b[49m\u001b[43mper_device_train_batch_size\u001b[49m\u001b[38;5;241;43m=\u001b[39;49m\u001b[38;5;241;43m1\u001b[39;49m\u001b[43m,\u001b[49m\u001b[43m            \u001b[49m\u001b[38;5;66;43;03m# batch size per device during training\u001b[39;49;00m\n\u001b[0;32m      7\u001b[0m \u001b[43m    \u001b[49m\u001b[43mgradient_accumulation_steps\u001b[49m\u001b[38;5;241;43m=\u001b[39;49m\u001b[38;5;241;43m8\u001b[39;49m\u001b[43m,\u001b[49m\u001b[43m            \u001b[49m\u001b[38;5;66;43;03m# number of steps before performing a backward/update pass\u001b[39;49;00m\n\u001b[0;32m      8\u001b[0m \u001b[43m    \u001b[49m\u001b[43mgradient_checkpointing\u001b[49m\u001b[38;5;241;43m=\u001b[39;49m\u001b[38;5;28;43;01mTrue\u001b[39;49;00m\u001b[43m,\u001b[49m\u001b[43m              \u001b[49m\u001b[38;5;66;43;03m# use gradient checkpointing to save memory\u001b[39;49;00m\n\u001b[0;32m      9\u001b[0m \u001b[43m    \u001b[49m\u001b[43moptim\u001b[49m\u001b[38;5;241;43m=\u001b[39;49m\u001b[38;5;124;43m\"\u001b[39;49m\u001b[38;5;124;43mpaged_adamw_32bit\u001b[39;49m\u001b[38;5;124;43m\"\u001b[39;49m\u001b[43m,\u001b[49m\n\u001b[0;32m     10\u001b[0m \u001b[43m    \u001b[49m\u001b[43msave_steps\u001b[49m\u001b[38;5;241;43m=\u001b[39;49m\u001b[38;5;241;43m0\u001b[39;49m\u001b[43m,\u001b[49m\n\u001b[0;32m     11\u001b[0m \u001b[43m    \u001b[49m\u001b[43mlogging_steps\u001b[49m\u001b[38;5;241;43m=\u001b[39;49m\u001b[38;5;241;43m25\u001b[39;49m\u001b[43m,\u001b[49m\u001b[43m                         \u001b[49m\u001b[38;5;66;43;03m# log every 10 steps\u001b[39;49;00m\n\u001b[0;32m     12\u001b[0m \u001b[43m    \u001b[49m\u001b[43mlearning_rate\u001b[49m\u001b[38;5;241;43m=\u001b[39;49m\u001b[38;5;241;43m2e-4\u001b[39;49m\u001b[43m,\u001b[49m\u001b[43m                       \u001b[49m\u001b[38;5;66;43;03m# learning rate, based on QLoRA paper\u001b[39;49;00m\n\u001b[0;32m     13\u001b[0m \u001b[43m    \u001b[49m\u001b[43mweight_decay\u001b[49m\u001b[38;5;241;43m=\u001b[39;49m\u001b[38;5;241;43m0.001\u001b[39;49m\u001b[43m,\u001b[49m\n\u001b[0;32m     14\u001b[0m \u001b[43m    \u001b[49m\u001b[43mfp16\u001b[49m\u001b[38;5;241;43m=\u001b[39;49m\u001b[38;5;28;43;01mTrue\u001b[39;49;00m\u001b[43m,\u001b[49m\n\u001b[0;32m     15\u001b[0m \u001b[43m    \u001b[49m\u001b[43mbf16\u001b[49m\u001b[38;5;241;43m=\u001b[39;49m\u001b[38;5;28;43;01mFalse\u001b[39;49;00m\u001b[43m,\u001b[49m\n\u001b[0;32m     16\u001b[0m \u001b[43m    \u001b[49m\u001b[43mmax_grad_norm\u001b[49m\u001b[38;5;241;43m=\u001b[39;49m\u001b[38;5;241;43m0.3\u001b[39;49m\u001b[43m,\u001b[49m\u001b[43m                        \u001b[49m\u001b[38;5;66;43;03m# max gradient norm based on QLoRA paper\u001b[39;49;00m\n\u001b[0;32m     17\u001b[0m \u001b[43m    \u001b[49m\u001b[43mmax_steps\u001b[49m\u001b[38;5;241;43m=\u001b[39;49m\u001b[38;5;241;43m-\u001b[39;49m\u001b[38;5;241;43m1\u001b[39;49m\u001b[43m,\u001b[49m\n\u001b[0;32m     18\u001b[0m \u001b[43m    \u001b[49m\u001b[43mwarmup_ratio\u001b[49m\u001b[38;5;241;43m=\u001b[39;49m\u001b[38;5;241;43m0.03\u001b[39;49m\u001b[43m,\u001b[49m\u001b[43m                        \u001b[49m\u001b[38;5;66;43;03m# warmup ratio based on QLoRA paper\u001b[39;49;00m\n\u001b[0;32m     19\u001b[0m \u001b[43m    \u001b[49m\u001b[43mgroup_by_length\u001b[49m\u001b[38;5;241;43m=\u001b[39;49m\u001b[38;5;28;43;01mTrue\u001b[39;49;00m\u001b[43m,\u001b[49m\n\u001b[0;32m     20\u001b[0m \u001b[43m    \u001b[49m\u001b[43mlr_scheduler_type\u001b[49m\u001b[38;5;241;43m=\u001b[39;49m\u001b[38;5;124;43m\"\u001b[39;49m\u001b[38;5;124;43mcosine\u001b[39;49m\u001b[38;5;124;43m\"\u001b[39;49m\u001b[43m,\u001b[49m\u001b[43m               \u001b[49m\u001b[38;5;66;43;03m# use cosine learning rate scheduler\u001b[39;49;00m\n\u001b[0;32m     21\u001b[0m \u001b[43m    \u001b[49m\u001b[43mreport_to\u001b[49m\u001b[38;5;241;43m=\u001b[39;49m\u001b[38;5;124;43m\"\u001b[39;49m\u001b[38;5;124;43mtensorboard\u001b[39;49m\u001b[38;5;124;43m\"\u001b[39;49m\u001b[43m,\u001b[49m\u001b[43m                  \u001b[49m\u001b[38;5;66;43;03m# report metrics to tensorboard\u001b[39;49;00m\n\u001b[0;32m     22\u001b[0m \u001b[43m    \u001b[49m\u001b[43mevaluation_strategy\u001b[49m\u001b[38;5;241;43m=\u001b[39;49m\u001b[38;5;124;43m\"\u001b[39;49m\u001b[38;5;124;43mepoch\u001b[39;49m\u001b[38;5;124;43m\"\u001b[39;49m\u001b[43m               \u001b[49m\u001b[38;5;66;43;03m# save checkpoint every epoch\u001b[39;49;00m\n\u001b[0;32m     23\u001b[0m \u001b[43m)\u001b[49m\n\u001b[0;32m     24\u001b[0m trainer \u001b[38;5;241m=\u001b[39m SFTTrainer(\n\u001b[0;32m     25\u001b[0m     model\u001b[38;5;241m=\u001b[39mmodel,\n\u001b[0;32m     26\u001b[0m     args\u001b[38;5;241m=\u001b[39mtraining_arguments,\n\u001b[1;32m   (...)\u001b[0m\n\u001b[0;32m     37\u001b[0m     }\n\u001b[0;32m     38\u001b[0m )\n",
            "File \u001b[1;32m<string>:123\u001b[0m, in \u001b[0;36m__init__\u001b[1;34m(self, output_dir, overwrite_output_dir, do_train, do_eval, do_predict, evaluation_strategy, prediction_loss_only, per_device_train_batch_size, per_device_eval_batch_size, per_gpu_train_batch_size, per_gpu_eval_batch_size, gradient_accumulation_steps, eval_accumulation_steps, eval_delay, learning_rate, weight_decay, adam_beta1, adam_beta2, adam_epsilon, max_grad_norm, num_train_epochs, max_steps, lr_scheduler_type, lr_scheduler_kwargs, warmup_ratio, warmup_steps, log_level, log_level_replica, log_on_each_node, logging_dir, logging_strategy, logging_first_step, logging_steps, logging_nan_inf_filter, save_strategy, save_steps, save_total_limit, save_safetensors, save_on_each_node, save_only_model, no_cuda, use_cpu, use_mps_device, seed, data_seed, jit_mode_eval, use_ipex, bf16, fp16, fp16_opt_level, half_precision_backend, bf16_full_eval, fp16_full_eval, tf32, local_rank, ddp_backend, tpu_num_cores, tpu_metrics_debug, debug, dataloader_drop_last, eval_steps, dataloader_num_workers, dataloader_prefetch_factor, past_index, run_name, disable_tqdm, remove_unused_columns, label_names, load_best_model_at_end, metric_for_best_model, greater_is_better, ignore_data_skip, fsdp, fsdp_min_num_params, fsdp_config, fsdp_transformer_layer_cls_to_wrap, accelerator_config, deepspeed, label_smoothing_factor, optim, optim_args, adafactor, group_by_length, length_column_name, report_to, ddp_find_unused_parameters, ddp_bucket_cap_mb, ddp_broadcast_buffers, dataloader_pin_memory, dataloader_persistent_workers, skip_memory_metrics, use_legacy_prediction_loop, push_to_hub, resume_from_checkpoint, hub_model_id, hub_strategy, hub_token, hub_private_repo, hub_always_push, gradient_checkpointing, gradient_checkpointing_kwargs, include_inputs_for_metrics, fp16_backend, push_to_hub_model_id, push_to_hub_organization, push_to_hub_token, mp_parameters, auto_find_batch_size, full_determinism, torchdynamo, ray_scope, ddp_timeout, torch_compile, torch_compile_backend, torch_compile_mode, dispatch_batches, split_batches, include_tokens_per_second, include_num_input_tokens_seen, neftune_noise_alpha)\u001b[0m\n",
            "File \u001b[1;32mc:\\Users\\alice\\Documents\\Final year project\\Fyp_code\\.venv\\Lib\\site-packages\\transformers\\training_args.py:1534\u001b[0m, in \u001b[0;36mTrainingArguments.__post_init__\u001b[1;34m(self)\u001b[0m\n\u001b[0;32m   1523\u001b[0m         \u001b[38;5;28;01mraise\u001b[39;00m \u001b[38;5;167;01mValueError\u001b[39;00m(\u001b[38;5;124m\"\u001b[39m\u001b[38;5;124m--optim adamw_torch_fused with --fp16 requires PyTorch>2.0\u001b[39m\u001b[38;5;124m\"\u001b[39m)\n\u001b[0;32m   1525\u001b[0m \u001b[38;5;28;01mif\u001b[39;00m (\n\u001b[0;32m   1526\u001b[0m     \u001b[38;5;28mself\u001b[39m\u001b[38;5;241m.\u001b[39mframework \u001b[38;5;241m==\u001b[39m \u001b[38;5;124m\"\u001b[39m\u001b[38;5;124mpt\u001b[39m\u001b[38;5;124m\"\u001b[39m\n\u001b[0;32m   1527\u001b[0m     \u001b[38;5;129;01mand\u001b[39;00m is_torch_available()\n\u001b[1;32m   (...)\u001b[0m\n\u001b[0;32m   1532\u001b[0m     \u001b[38;5;129;01mand\u001b[39;00m (\u001b[38;5;28mself\u001b[39m\u001b[38;5;241m.\u001b[39mfp16 \u001b[38;5;129;01mor\u001b[39;00m \u001b[38;5;28mself\u001b[39m\u001b[38;5;241m.\u001b[39mfp16_full_eval)\n\u001b[0;32m   1533\u001b[0m ):\n\u001b[1;32m-> 1534\u001b[0m     \u001b[38;5;28;01mraise\u001b[39;00m \u001b[38;5;167;01mValueError\u001b[39;00m(\n\u001b[0;32m   1535\u001b[0m         \u001b[38;5;124m\"\u001b[39m\u001b[38;5;124mFP16 Mixed precision training with AMP or APEX (`--fp16`) and FP16 half precision evaluation\u001b[39m\u001b[38;5;124m\"\u001b[39m\n\u001b[0;32m   1536\u001b[0m         \u001b[38;5;124m\"\u001b[39m\u001b[38;5;124m (`--fp16_full_eval`) can only be used on CUDA or NPU devices or certain XPU devices (with IPEX).\u001b[39m\u001b[38;5;124m\"\u001b[39m\n\u001b[0;32m   1537\u001b[0m     )\n\u001b[0;32m   1539\u001b[0m \u001b[38;5;28;01mif\u001b[39;00m (\n\u001b[0;32m   1540\u001b[0m     \u001b[38;5;28mself\u001b[39m\u001b[38;5;241m.\u001b[39mframework \u001b[38;5;241m==\u001b[39m \u001b[38;5;124m\"\u001b[39m\u001b[38;5;124mpt\u001b[39m\u001b[38;5;124m\"\u001b[39m\n\u001b[0;32m   1541\u001b[0m     \u001b[38;5;129;01mand\u001b[39;00m is_torch_available()\n\u001b[1;32m   (...)\u001b[0m\n\u001b[0;32m   1548\u001b[0m     \u001b[38;5;129;01mand\u001b[39;00m (\u001b[38;5;28mself\u001b[39m\u001b[38;5;241m.\u001b[39mbf16 \u001b[38;5;129;01mor\u001b[39;00m \u001b[38;5;28mself\u001b[39m\u001b[38;5;241m.\u001b[39mbf16_full_eval)\n\u001b[0;32m   1549\u001b[0m ):\n\u001b[0;32m   1550\u001b[0m     \u001b[38;5;28;01mraise\u001b[39;00m \u001b[38;5;167;01mValueError\u001b[39;00m(\n\u001b[0;32m   1551\u001b[0m         \u001b[38;5;124m\"\u001b[39m\u001b[38;5;124mBF16 Mixed precision training with AMP (`--bf16`) and BF16 half precision evaluation\u001b[39m\u001b[38;5;124m\"\u001b[39m\n\u001b[0;32m   1552\u001b[0m         \u001b[38;5;124m\"\u001b[39m\u001b[38;5;124m (`--bf16_full_eval`) can only be used on CUDA, XPU (with IPEX), NPU or CPU/TPU/NeuronCore devices.\u001b[39m\u001b[38;5;124m\"\u001b[39m\n\u001b[0;32m   1553\u001b[0m     )\n",
            "\u001b[1;31mValueError\u001b[0m: FP16 Mixed precision training with AMP or APEX (`--fp16`) and FP16 half precision evaluation (`--fp16_full_eval`) can only be used on CUDA or NPU devices or certain XPU devices (with IPEX)."
          ]
        }
      ],
      "source": [
        "output_dir = \"./output\"\n",
        "\n",
        "training_arguments = TrainingArguments(\n",
        "    output_dir=output_dir,                    # directory to save and repository id\n",
        "    num_train_epochs=3,                       # number of training epochs\n",
        "    per_device_train_batch_size=1,            # batch size per device during training\n",
        "    gradient_accumulation_steps=8,            # number of steps before performing a backward/update pass\n",
        "    gradient_checkpointing=True,              # use gradient checkpointing to save memory\n",
        "    optim=\"paged_adamw_32bit\",\n",
        "    save_steps=0,\n",
        "    logging_steps=25,                         # log every 10 steps\n",
        "    learning_rate=2e-4,                       # learning rate, based on QLoRA paper\n",
        "    weight_decay=0.001,\n",
        "    fp16=True,\n",
        "    bf16=False,\n",
        "    max_grad_norm=0.3,                        # max gradient norm based on QLoRA paper\n",
        "    max_steps=-1,\n",
        "    warmup_ratio=0.03,                        # warmup ratio based on QLoRA paper\n",
        "    group_by_length=True,\n",
        "    lr_scheduler_type=\"cosine\",               # use cosine learning rate scheduler\n",
        "    report_to=\"tensorboard\",                  # report metrics to tensorboard\n",
        "    evaluation_strategy=\"epoch\"               # save checkpoint every epoch\n",
        ")\n",
        "trainer = SFTTrainer(\n",
        "    model=model,\n",
        "    args=training_arguments,\n",
        "    train_dataset=train_data,\n",
        "    eval_dataset=val_data,\n",
        "    peft_config=peft_config,\n",
        "    dataset_text_field=\"text\",\n",
        "    tokenizer=tokenizer,\n",
        "    max_seq_length=1024,\n",
        "    packing=False,\n",
        "    dataset_kwargs={\n",
        "        \"add_special_tokens\": False,\n",
        "        \"append_concat_token\": False,\n",
        "    }\n",
        ")"
      ]
    },
    {
      "cell_type": "code",
      "execution_count": 31,
      "metadata": {
        "colab": {
          "base_uri": "https://localhost:8080/",
          "height": 487
        },
        "id": "xNaygBAqWAa2",
        "outputId": "a143e299-9439-4638-f54a-ee389162a8b3"
      },
      "outputs": [
        {
          "data": {
            "application/vnd.jupyter.widget-view+json": {
              "model_id": "83d010251ec749eaad3054f9db4a80fb",
              "version_major": 2,
              "version_minor": 0
            },
            "text/plain": [
              "  0%|          | 0/6000 [00:00<?, ?it/s]"
            ]
          },
          "metadata": {},
          "output_type": "display_data"
        },
        {
          "name": "stderr",
          "output_type": "stream",
          "text": [
            "`use_cache=True` is incompatible with gradient checkpointing. Setting `use_cache=False`.\n"
          ]
        },
        {
          "name": "stdout",
          "output_type": "stream",
          "text": [
            "{'loss': 11.8358, 'grad_norm': 2.8238089084625244, 'learning_rate': 2.777777777777778e-05, 'epoch': 0.01}\n",
            "{'loss': 10.0414, 'grad_norm': 5.271797180175781, 'learning_rate': 5.555555555555556e-05, 'epoch': 0.03}\n",
            "{'loss': 8.3994, 'grad_norm': 6.473222732543945, 'learning_rate': 8.111111111111112e-05, 'epoch': 0.04}\n",
            "{'loss': 4.991, 'grad_norm': 2.978912830352783, 'learning_rate': 0.00010888888888888889, 'epoch': 0.05}\n",
            "{'loss': 4.9877, 'grad_norm': 22.552143096923828, 'learning_rate': 0.00013666666666666666, 'epoch': 0.06}\n",
            "{'loss': 2.4083, 'grad_norm': 31.73301887512207, 'learning_rate': 0.00016444444444444444, 'epoch': 0.07}\n",
            "{'loss': 3.1918, 'grad_norm': 8.735989570617676, 'learning_rate': 0.00019222222222222224, 'epoch': 0.09}\n",
            "{'loss': 1.3731, 'grad_norm': 4.475584983825684, 'learning_rate': 0.0001999952797459453, 'epoch': 0.1}\n",
            "{'loss': 2.9402, 'grad_norm': 4.132657527923584, 'learning_rate': 0.00019997306349823693, 'epoch': 0.11}\n",
            "{'loss': 1.3236, 'grad_norm': 1.579614520072937, 'learning_rate': 0.00019993264143226513, 'epoch': 0.12}\n",
            "{'loss': 2.7547, 'grad_norm': 6.546690940856934, 'learning_rate': 0.00019987402090918067, 'epoch': 0.14}\n",
            "{'loss': 1.1307, 'grad_norm': 1.8556327819824219, 'learning_rate': 0.000199797212604205, 'epoch': 0.15}\n",
            "{'loss': 2.9648, 'grad_norm': 1.6392369270324707, 'learning_rate': 0.0001997022305046862, 'epoch': 0.16}\n",
            "{'loss': 1.1268, 'grad_norm': 2.6964499950408936, 'learning_rate': 0.00019958909190755187, 'epoch': 0.17}\n",
            "{'loss': 2.8005, 'grad_norm': 1.4377493858337402, 'learning_rate': 0.0001994578174161592, 'epoch': 0.19}\n",
            "{'loss': 1.0484, 'grad_norm': 1.190782070159912, 'learning_rate': 0.00019930843093654305, 'epoch': 0.2}\n",
            "{'loss': 2.81, 'grad_norm': 2.2035040855407715, 'learning_rate': 0.00019914095967306223, 'epoch': 0.21}\n",
            "{'loss': 1.0765, 'grad_norm': 1.6263129711151123, 'learning_rate': 0.0001989554341234457, 'epoch': 0.23}\n",
            "{'loss': 2.8272, 'grad_norm': 1.4271591901779175, 'learning_rate': 0.00019875188807323842, 'epoch': 0.24}\n",
            "{'loss': 0.9964, 'grad_norm': 0.5339073538780212, 'learning_rate': 0.00019853035858964906, 'epoch': 0.25}\n",
            "{'loss': 2.6833, 'grad_norm': 1.185592532157898, 'learning_rate': 0.0001982908860147995, 'epoch': 0.26}\n",
            "{'loss': 1.0506, 'grad_norm': 0.8347166776657104, 'learning_rate': 0.00019803351395837848, 'epoch': 0.28}\n",
            "{'loss': 2.8469, 'grad_norm': 1.5883582830429077, 'learning_rate': 0.00019775828928969975, 'epoch': 0.29}\n",
            "{'loss': 1.0766, 'grad_norm': 0.723892331123352, 'learning_rate': 0.00019746526212916705, 'epoch': 0.3}\n",
            "{'loss': 2.7816, 'grad_norm': 1.527164340019226, 'learning_rate': 0.00019715448583914659, 'epoch': 0.31}\n",
            "{'loss': 0.9988, 'grad_norm': 0.7480931282043457, 'learning_rate': 0.0001968260170142496, 'epoch': 0.33}\n",
            "{'loss': 2.8169, 'grad_norm': 1.1283786296844482, 'learning_rate': 0.0001964799154710258, 'epoch': 0.34}\n",
            "{'loss': 1.0121, 'grad_norm': 0.8689422607421875, 'learning_rate': 0.0001961162442370707, 'epoch': 0.35}\n",
            "{'loss': 2.6068, 'grad_norm': 1.148510456085205, 'learning_rate': 0.0001957350695395474, 'epoch': 0.36}\n",
            "{'loss': 1.0387, 'grad_norm': 1.1807665824890137, 'learning_rate': 0.00019533646079312656, 'epoch': 0.38}\n",
            "{'loss': 2.7056, 'grad_norm': 1.2647923231124878, 'learning_rate': 0.00019492049058734515, 'epoch': 0.39}\n",
            "{'loss': 1.0375, 'grad_norm': 1.052696704864502, 'learning_rate': 0.00019448723467338763, 'epoch': 0.4}\n",
            "{'loss': 2.6486, 'grad_norm': 1.672978401184082, 'learning_rate': 0.00019403677195029096, 'epoch': 0.41}\n",
            "{'loss': 1.0561, 'grad_norm': 0.9564191699028015, 'learning_rate': 0.0001935691844505765, 'epoch': 0.42}\n",
            "{'loss': 2.6483, 'grad_norm': 1.0902043581008911, 'learning_rate': 0.00019308455732531139, 'epoch': 0.44}\n",
            "{'loss': 0.9724, 'grad_norm': 0.9306860566139221, 'learning_rate': 0.0001925829788286019, 'epoch': 0.45}\n",
            "{'loss': 2.6776, 'grad_norm': 0.9594981670379639, 'learning_rate': 0.0001920645403015217, 'epoch': 0.46}\n",
            "{'loss': 1.0286, 'grad_norm': 0.6773476004600525, 'learning_rate': 0.00019152933615547798, 'epoch': 0.47}\n",
            "{'loss': 2.6916, 'grad_norm': 0.985971212387085, 'learning_rate': 0.00019097746385501836, 'epoch': 0.49}\n",
            "{'loss': 1.0446, 'grad_norm': 0.8193863034248352, 'learning_rate': 0.00019040902390008216, 'epoch': 0.5}\n",
            "{'loss': 2.6745, 'grad_norm': 0.8807603716850281, 'learning_rate': 0.0001898241198076983, 'epoch': 0.51}\n",
            "{'loss': 1.0271, 'grad_norm': 0.5733453035354614, 'learning_rate': 0.00018922285809313443, 'epoch': 0.53}\n",
            "{'loss': 2.6627, 'grad_norm': 1.0445713996887207, 'learning_rate': 0.00018860534825049943, 'epoch': 0.54}\n",
            "{'loss': 1.024, 'grad_norm': 0.7331695556640625, 'learning_rate': 0.00018797170273280388, 'epoch': 0.55}\n",
            "{'loss': 2.6561, 'grad_norm': 0.8189927935600281, 'learning_rate': 0.00018732203693148166, 'epoch': 0.56}\n",
            "{'loss': 0.9853, 'grad_norm': 1.0959393978118896, 'learning_rate': 0.00018665646915537608, 'epoch': 0.57}\n",
            "{'loss': 2.822, 'grad_norm': 3.2924020290374756, 'learning_rate': 0.00018597512060919522, 'epoch': 0.59}\n",
            "{'loss': 0.9552, 'grad_norm': 0.9610075354576111, 'learning_rate': 0.00018527811537143954, 'epoch': 0.6}\n",
            "{'loss': 2.7426, 'grad_norm': 0.9466149806976318, 'learning_rate': 0.00018456558037180628, 'epoch': 0.61}\n",
            "{'loss': 1.0009, 'grad_norm': 0.7042096853256226, 'learning_rate': 0.00018383764536807485, 'epoch': 0.62}\n",
            "{'loss': 2.5133, 'grad_norm': 0.9407896995544434, 'learning_rate': 0.00018309444292247663, 'epoch': 0.64}\n",
            "{'loss': 1.019, 'grad_norm': 0.8287261724472046, 'learning_rate': 0.00018233610837755477, 'epoch': 0.65}\n",
            "{'loss': 2.5292, 'grad_norm': 0.8182482123374939, 'learning_rate': 0.0001815627798315172, 'epoch': 0.66}\n",
            "{'loss': 0.958, 'grad_norm': 0.680690348148346, 'learning_rate': 0.00018077459811308787, 'epoch': 0.68}\n",
            "{'loss': 2.5411, 'grad_norm': 0.8181171417236328, 'learning_rate': 0.00017997170675586102, 'epoch': 0.69}\n",
            "{'loss': 0.962, 'grad_norm': 0.6321369409561157, 'learning_rate': 0.00017915425197216245, 'epoch': 0.7}\n",
            "{'loss': 2.5268, 'grad_norm': 0.8805222511291504, 'learning_rate': 0.00017832238262642335, 'epoch': 0.71}\n",
            "{'loss': 0.9905, 'grad_norm': 0.8233916163444519, 'learning_rate': 0.0001774762502080709, 'epoch': 0.72}\n",
            "{'loss': 2.3339, 'grad_norm': 1.061142921447754, 'learning_rate': 0.0001766160088039411, 'epoch': 0.74}\n",
            "{'loss': 0.9304, 'grad_norm': 0.5955143570899963, 'learning_rate': 0.0001757418150702183, 'epoch': 0.75}\n",
            "{'loss': 2.5956, 'grad_norm': 0.8888558745384216, 'learning_rate': 0.00017485382820390703, 'epoch': 0.76}\n",
            "{'loss': 1.0251, 'grad_norm': 0.8002472519874573, 'learning_rate': 0.0001739522099138411, 'epoch': 0.78}\n",
            "{'loss': 2.5351, 'grad_norm': 0.9217292070388794, 'learning_rate': 0.00017303712439123515, 'epoch': 0.79}\n",
            "{'loss': 1.0613, 'grad_norm': 0.8158687949180603, 'learning_rate': 0.0001721087382797844, 'epoch': 0.8}\n",
            "{'loss': 2.595, 'grad_norm': 0.769171953201294, 'learning_rate': 0.00017116722064531748, 'epoch': 0.81}\n",
            "{'loss': 0.9939, 'grad_norm': 0.6923695206642151, 'learning_rate': 0.00017021274294500843, 'epoch': 0.82}\n",
            "{'loss': 2.3924, 'grad_norm': 0.8599168062210083, 'learning_rate': 0.00016924547899615301, 'epoch': 0.84}\n",
            "{'loss': 0.9598, 'grad_norm': 0.6903747320175171, 'learning_rate': 0.00016826560494451537, 'epoch': 0.85}\n",
            "{'loss': 2.4212, 'grad_norm': 1.0243483781814575, 'learning_rate': 0.00016727329923225067, 'epoch': 0.86}\n",
            "{'loss': 0.9424, 'grad_norm': 0.6694446206092834, 'learning_rate': 0.00016626874256540938, 'epoch': 0.88}\n",
            "{'loss': 2.5547, 'grad_norm': 1.1222357749938965, 'learning_rate': 0.00016525211788102946, 'epoch': 0.89}\n",
            "{'loss': 0.972, 'grad_norm': 0.9906297326087952, 'learning_rate': 0.00016422361031382217, 'epoch': 0.9}\n",
            "{'loss': 2.4616, 'grad_norm': 0.7758091688156128, 'learning_rate': 0.00016318340716245773, 'epoch': 0.91}\n",
            "{'loss': 0.9738, 'grad_norm': 0.8406170010566711, 'learning_rate': 0.0001621316978554569, 'epoch': 0.93}\n",
            "{'loss': 2.4605, 'grad_norm': 0.830352783203125, 'learning_rate': 0.0001610686739166945, 'epoch': 0.94}\n",
            "{'loss': 0.9796, 'grad_norm': 0.6439935564994812, 'learning_rate': 0.00015999452893052189, 'epoch': 0.95}\n",
            "{'loss': 2.4158, 'grad_norm': 0.8919062614440918, 'learning_rate': 0.00015890945850651346, 'epoch': 0.96}\n",
            "{'loss': 1.0198, 'grad_norm': 0.8388983011245728, 'learning_rate': 0.00015781366024384495, 'epoch': 0.97}\n",
            "{'loss': 2.3097, 'grad_norm': 1.0918525457382202, 'learning_rate': 0.00015670733369530914, 'epoch': 0.99}\n",
            "{'loss': 1.0289, 'grad_norm': 0.6136947274208069, 'learning_rate': 0.00015559068033097582, 'epoch': 1.0}\n"
          ]
        },
        {
          "data": {
            "application/vnd.jupyter.widget-view+json": {
              "model_id": "dcff1fe796034362a371bb17221f0778",
              "version_major": 2,
              "version_minor": 0
            },
            "text/plain": [
              "  0%|          | 0/250 [00:00<?, ?it/s]"
            ]
          },
          "metadata": {},
          "output_type": "display_data"
        },
        {
          "name": "stdout",
          "output_type": "stream",
          "text": [
            "{'eval_loss': 2.068474769592285, 'eval_runtime': 89.7455, 'eval_samples_per_second': 22.285, 'eval_steps_per_second': 2.786, 'epoch': 1.0}\n",
            "{'loss': 2.3658, 'grad_norm': 0.9990372061729431, 'learning_rate': 0.00015446390350150273, 'epoch': 1.01}\n",
            "{'loss': 0.9151, 'grad_norm': 0.8260129690170288, 'learning_rate': 0.00015332720840110375, 'epoch': 1.02}\n",
            "{'loss': 2.3677, 'grad_norm': 1.120461106300354, 'learning_rate': 0.00015222684212831035, 'epoch': 1.04}\n",
            "{'loss': 0.9845, 'grad_norm': 0.6420947909355164, 'learning_rate': 0.0001510713093256315, 'epoch': 1.05}\n",
            "{'loss': 2.2497, 'grad_norm': 0.7854980826377869, 'learning_rate': 0.00014990647606797494, 'epoch': 1.06}\n",
            "{'loss': 0.9324, 'grad_norm': 0.7380743026733398, 'learning_rate': 0.00014873255447990546, 'epoch': 1.07}\n",
            "{'loss': 2.4517, 'grad_norm': 0.8384774923324585, 'learning_rate': 0.00014754975834103877, 'epoch': 1.09}\n",
            "{'loss': 0.9802, 'grad_norm': 1.068252682685852, 'learning_rate': 0.00014635830304711038, 'epoch': 1.1}\n",
            "{'loss': 2.2999, 'grad_norm': 0.7684462070465088, 'learning_rate': 0.00014515840557075062, 'epoch': 1.11}\n",
            "{'loss': 0.9461, 'grad_norm': 0.5988368391990662, 'learning_rate': 0.0001439502844219723, 'epoch': 1.12}\n",
            "{'loss': 2.3755, 'grad_norm': 1.476473331451416, 'learning_rate': 0.00014273415960837864, 'epoch': 1.14}\n",
            "{'loss': 0.9282, 'grad_norm': 1.305190920829773, 'learning_rate': 0.0001415102525950979, 'epoch': 1.15}\n",
            "{'loss': 2.2246, 'grad_norm': 0.7410378456115723, 'learning_rate': 0.0001402787862644534, 'epoch': 1.16}\n",
            "{'loss': 0.9417, 'grad_norm': 0.7433485984802246, 'learning_rate': 0.00013903998487537473, 'epoch': 1.18}\n",
            "{'loss': 2.3457, 'grad_norm': 0.8572314381599426, 'learning_rate': 0.00013779407402255878, 'epoch': 1.19}\n",
            "{'loss': 0.9163, 'grad_norm': 0.5822534561157227, 'learning_rate': 0.0001365412805953872, 'epoch': 1.2}\n",
            "{'loss': 2.3208, 'grad_norm': 0.8199520111083984, 'learning_rate': 0.00013528183273660825, 'epoch': 1.21}\n",
            "{'loss': 0.9654, 'grad_norm': 0.9023903012275696, 'learning_rate': 0.00013401595980079025, 'epoch': 1.23}\n",
            "{'loss': 2.3465, 'grad_norm': 0.8081668019294739, 'learning_rate': 0.00013274389231255466, 'epoch': 1.24}\n",
            "{'loss': 0.9307, 'grad_norm': 0.7768173217773438, 'learning_rate': 0.00013146586192459573, 'epoch': 1.25}\n",
            "{'loss': 2.4593, 'grad_norm': 0.8777436017990112, 'learning_rate': 0.0001301821013754948, 'epoch': 1.26}\n",
            "{'loss': 0.9776, 'grad_norm': 0.68784099817276, 'learning_rate': 0.00012889284444733722, 'epoch': 1.27}\n",
            "{'loss': 2.4278, 'grad_norm': 0.9758784770965576, 'learning_rate': 0.0001275983259231385, 'epoch': 1.29}\n",
            "{'loss': 0.8903, 'grad_norm': 0.6666712760925293, 'learning_rate': 0.00012629878154408894, 'epoch': 1.3}\n",
            "{'loss': 2.289, 'grad_norm': 0.8240411877632141, 'learning_rate': 0.00012499444796662353, 'epoch': 1.31}\n",
            "{'loss': 0.9003, 'grad_norm': 0.6538836359977722, 'learning_rate': 0.00012368556271932476, 'epoch': 1.32}\n",
            "{'loss': 2.3178, 'grad_norm': 0.8930516839027405, 'learning_rate': 0.00012237236415966714, 'epoch': 1.34}\n",
            "{'loss': 0.8907, 'grad_norm': 0.6119092106819153, 'learning_rate': 0.00012105509143061071, 'epoch': 1.35}\n",
            "{'loss': 2.3628, 'grad_norm': 1.00584077835083, 'learning_rate': 0.00011973398441705113, 'epoch': 1.36}\n",
            "{'loss': 0.9528, 'grad_norm': 0.7111650109291077, 'learning_rate': 0.00011840928370213502, 'epoch': 1.38}\n",
            "{'loss': 2.3349, 'grad_norm': 0.7745502591133118, 'learning_rate': 0.00011708123052344804, 'epoch': 1.39}\n",
            "{'loss': 0.9257, 'grad_norm': 0.6895947456359863, 'learning_rate': 0.00011575006672908377, 'epoch': 1.4}\n",
            "{'loss': 2.3588, 'grad_norm': 0.9162108898162842, 'learning_rate': 0.00011441603473360141, 'epoch': 1.41}\n",
            "{'loss': 0.9737, 'grad_norm': 0.6539895534515381, 'learning_rate': 0.00011307937747388034, 'epoch': 1.43}\n",
            "{'loss': 2.1962, 'grad_norm': 0.7079065442085266, 'learning_rate': 0.00011174033836487945, 'epoch': 1.44}\n",
            "{'loss': 0.9091, 'grad_norm': 0.6622000336647034, 'learning_rate': 0.00011039916125530984, 'epoch': 1.45}\n",
            "{'loss': 2.2781, 'grad_norm': 0.8214258551597595, 'learning_rate': 0.00010905609038322779, 'epoch': 1.46}\n",
            "{'loss': 0.9035, 'grad_norm': 0.7485325336456299, 'learning_rate': 0.00010771137033155752, 'epoch': 1.48}\n",
            "{'loss': 2.196, 'grad_norm': 0.8867498636245728, 'learning_rate': 0.00010636524598355074, 'epoch': 1.49}\n",
            "{'loss': 0.8922, 'grad_norm': 0.6552522778511047, 'learning_rate': 0.00010501796247819175, 'epoch': 1.5}\n",
            "{'loss': 2.3609, 'grad_norm': 1.045064926147461, 'learning_rate': 0.00010366976516555573, 'epoch': 1.51}\n",
            "{'loss': 0.9289, 'grad_norm': 0.6706432104110718, 'learning_rate': 0.00010232089956212884, 'epoch': 1.52}\n",
            "{'loss': 2.3039, 'grad_norm': 0.8993178606033325, 'learning_rate': 0.00010097161130609773, 'epoch': 1.54}\n",
            "{'loss': 0.9652, 'grad_norm': 0.9045582413673401, 'learning_rate': 9.962214611261729e-05, 'epoch': 1.55}\n",
            "{'loss': 2.3077, 'grad_norm': 0.8352663516998291, 'learning_rate': 9.827274972906386e-05, 'epoch': 1.56}\n",
            "{'loss': 0.9114, 'grad_norm': 0.6857467293739319, 'learning_rate': 9.692366789028307e-05, 'epoch': 1.57}\n",
            "{'loss': 2.2645, 'grad_norm': 0.8059840202331543, 'learning_rate': 9.557514627383967e-05, 'epoch': 1.59}\n",
            "{'loss': 0.9006, 'grad_norm': 0.6695148348808289, 'learning_rate': 9.422743045527778e-05, 'epoch': 1.6}\n",
            "{'loss': 2.2418, 'grad_norm': 0.9695141315460205, 'learning_rate': 9.288076586340006e-05, 'epoch': 1.61}\n",
            "{'loss': 0.9359, 'grad_norm': 0.6476872563362122, 'learning_rate': 9.153539773557306e-05, 'epoch': 1.62}\n",
            "{'loss': 2.3384, 'grad_norm': 0.8986688852310181, 'learning_rate': 9.019157107306787e-05, 'epoch': 1.64}\n",
            "{'loss': 0.9329, 'grad_norm': 0.5995466709136963, 'learning_rate': 8.88495305964436e-05, 'epoch': 1.65}\n",
            "{'loss': 2.2422, 'grad_norm': 0.9057276844978333, 'learning_rate': 8.7509520700982e-05, 'epoch': 1.66}\n",
            "{'loss': 0.9923, 'grad_norm': 0.6306586861610413, 'learning_rate': 8.617178541218125e-05, 'epoch': 1.68}\n",
            "{'loss': 2.2696, 'grad_norm': 1.0313096046447754, 'learning_rate': 8.48365683413172e-05, 'epoch': 1.69}\n",
            "{'loss': 0.9037, 'grad_norm': 0.5543045401573181, 'learning_rate': 8.350411264108012e-05, 'epoch': 1.7}\n",
            "{'loss': 2.2627, 'grad_norm': 0.7936171889305115, 'learning_rate': 8.217466096129456e-05, 'epoch': 1.71}\n",
            "{'loss': 0.9714, 'grad_norm': 0.6349301934242249, 'learning_rate': 8.084845540473126e-05, 'epoch': 1.73}\n",
            "{'loss': 2.2588, 'grad_norm': 0.9208158254623413, 'learning_rate': 7.952573748301841e-05, 'epoch': 1.74}\n",
            "{'loss': 0.9397, 'grad_norm': 0.5975069999694824, 'learning_rate': 7.82067480726607e-05, 'epoch': 1.75}\n",
            "{'loss': 2.2181, 'grad_norm': 0.9550027251243591, 'learning_rate': 7.689172737117389e-05, 'epoch': 1.76}\n",
            "{'loss': 0.9352, 'grad_norm': 0.6875531077384949, 'learning_rate': 7.558091485334314e-05, 'epoch': 1.77}\n",
            "{'loss': 2.2645, 'grad_norm': 0.7624541521072388, 'learning_rate': 7.427454922761296e-05, 'epoch': 1.79}\n",
            "{'loss': 0.9669, 'grad_norm': 0.6973865032196045, 'learning_rate': 7.297286839261658e-05, 'epoch': 1.8}\n",
            "{'loss': 2.1836, 'grad_norm': 0.7660413980484009, 'learning_rate': 7.167610939385294e-05, 'epoch': 1.81}\n",
            "{'loss': 0.9079, 'grad_norm': 0.6776097416877747, 'learning_rate': 7.038450838051899e-05, 'epoch': 1.82}\n",
            "{'loss': 2.2067, 'grad_norm': 0.8679568767547607, 'learning_rate': 6.909830056250527e-05, 'epoch': 1.84}\n",
            "{'loss': 0.9618, 'grad_norm': 0.6518661379814148, 'learning_rate': 6.781772016756234e-05, 'epoch': 1.85}\n",
            "{'loss': 2.2182, 'grad_norm': 0.80401611328125, 'learning_rate': 6.654300039864634e-05, 'epoch': 1.86}\n",
            "{'loss': 0.9239, 'grad_norm': 0.6516435742378235, 'learning_rate': 6.527437339145098e-05, 'epoch': 1.88}\n",
            "{'loss': 2.1503, 'grad_norm': 0.905971348285675, 'learning_rate': 6.401207017213406e-05, 'epoch': 1.89}\n",
            "{'loss': 0.8996, 'grad_norm': 0.6205732822418213, 'learning_rate': 6.275632061524574e-05, 'epoch': 1.9}\n",
            "{'loss': 2.1369, 'grad_norm': 0.8141642808914185, 'learning_rate': 6.15073534018669e-05, 'epoch': 1.91}\n",
            "{'loss': 0.9565, 'grad_norm': 0.6357636451721191, 'learning_rate': 6.026539597796452e-05, 'epoch': 1.93}\n",
            "{'loss': 2.1451, 'grad_norm': 1.1994637250900269, 'learning_rate': 5.9030674512972287e-05, 'epoch': 1.94}\n",
            "{'loss': 0.926, 'grad_norm': 0.5568553805351257, 'learning_rate': 5.780341385860333e-05, 'epoch': 1.95}\n",
            "{'loss': 2.2146, 'grad_norm': 0.773015558719635, 'learning_rate': 5.658383750790317e-05, 'epoch': 1.96}\n",
            "{'loss': 0.9159, 'grad_norm': 0.590376615524292, 'learning_rate': 5.537216755455015e-05, 'epoch': 1.98}\n",
            "{'loss': 2.192, 'grad_norm': 0.7745198607444763, 'learning_rate': 5.416862465241033e-05, 'epoch': 1.99}\n",
            "{'loss': 0.9541, 'grad_norm': 0.5644339919090271, 'learning_rate': 5.297342797535496e-05, 'epoch': 2.0}\n"
          ]
        },
        {
          "data": {
            "application/vnd.jupyter.widget-view+json": {
              "model_id": "ce009f835c6c4fbe96661cebdcc8d9bc",
              "version_major": 2,
              "version_minor": 0
            },
            "text/plain": [
              "  0%|          | 0/250 [00:00<?, ?it/s]"
            ]
          },
          "metadata": {},
          "output_type": "display_data"
        },
        {
          "name": "stdout",
          "output_type": "stream",
          "text": [
            "{'eval_loss': 1.6289544105529785, 'eval_runtime': 88.0216, 'eval_samples_per_second': 22.722, 'eval_steps_per_second': 2.84, 'epoch': 2.0}\n",
            "{'loss': 2.0649, 'grad_norm': 0.866041362285614, 'learning_rate': 5.178679517734732e-05, 'epoch': 2.01}\n",
            "{'loss': 0.8842, 'grad_norm': 0.7030267119407654, 'learning_rate': 5.0608942352806364e-05, 'epoch': 2.02}\n",
            "{'loss': 2.0753, 'grad_norm': 0.8355334997177124, 'learning_rate': 4.94400839972543e-05, 'epoch': 2.04}\n",
            "{'loss': 0.8754, 'grad_norm': 0.6408353447914124, 'learning_rate': 4.8280432968255465e-05, 'epoch': 2.05}\n",
            "{'loss': 2.1862, 'grad_norm': 0.8217812776565552, 'learning_rate': 4.7130200446653475e-05, 'epoch': 2.06}\n",
            "{'loss': 0.9527, 'grad_norm': 0.6685816049575806, 'learning_rate': 4.5989595898113504e-05, 'epoch': 2.08}\n",
            "{'loss': 2.054, 'grad_norm': 0.7966955900192261, 'learning_rate': 4.4858827034977215e-05, 'epoch': 2.09}\n",
            "{'loss': 0.9063, 'grad_norm': 0.6241710782051086, 'learning_rate': 4.373809977843676e-05, 'epoch': 2.1}\n",
            "{'loss': 2.2124, 'grad_norm': 0.892493486404419, 'learning_rate': 4.2627618221035105e-05, 'epoch': 2.11}\n",
            "{'loss': 0.9613, 'grad_norm': 0.6104325652122498, 'learning_rate': 4.152758458949922e-05, 'epoch': 2.12}\n",
            "{'loss': 2.1944, 'grad_norm': 1.007736086845398, 'learning_rate': 4.043819920791322e-05, 'epoch': 2.14}\n",
            "{'loss': 0.9645, 'grad_norm': 0.6496056318283081, 'learning_rate': 3.935966046123779e-05, 'epoch': 2.15}\n",
            "{'loss': 2.1135, 'grad_norm': 0.8337017297744751, 'learning_rate': 3.829216475918303e-05, 'epoch': 2.16}\n",
            "{'loss': 0.9015, 'grad_norm': 0.6998183131217957, 'learning_rate': 3.7235906500440574e-05, 'epoch': 2.17}\n",
            "{'loss': 2.0986, 'grad_norm': 0.822704017162323, 'learning_rate': 3.61910780372824e-05, 'epoch': 2.19}\n",
            "{'loss': 0.9433, 'grad_norm': 0.6233546137809753, 'learning_rate': 3.515786964053197e-05, 'epoch': 2.2}\n",
            "{'loss': 2.2095, 'grad_norm': 0.930420994758606, 'learning_rate': 3.4136469464914575e-05, 'epoch': 2.21}\n",
            "{'loss': 0.9373, 'grad_norm': 0.7303626537322998, 'learning_rate': 3.3127063514792977e-05, 'epoch': 2.23}\n",
            "{'loss': 2.0864, 'grad_norm': 0.7438799142837524, 'learning_rate': 3.2129835610294754e-05, 'epoch': 2.24}\n",
            "{'loss': 0.9064, 'grad_norm': 0.6880577802658081, 'learning_rate': 3.1144967353837196e-05, 'epoch': 2.25}\n",
            "{'loss': 2.0771, 'grad_norm': 0.9527718424797058, 'learning_rate': 3.017263809705625e-05, 'epoch': 2.26}\n",
            "{'loss': 0.872, 'grad_norm': 0.766592800617218, 'learning_rate': 2.921302490814527e-05, 'epoch': 2.27}\n",
            "{'loss': 2.1936, 'grad_norm': 0.9450253844261169, 'learning_rate': 2.8266302539609745e-05, 'epoch': 2.29}\n",
            "{'loss': 0.9734, 'grad_norm': 0.7134530544281006, 'learning_rate': 2.7332643396443404e-05, 'epoch': 2.3}\n",
            "{'loss': 2.0371, 'grad_norm': 0.7666832804679871, 'learning_rate': 2.6412217504732094e-05, 'epoch': 2.31}\n",
            "{'loss': 0.9339, 'grad_norm': 0.6251257061958313, 'learning_rate': 2.5505192480690865e-05, 'epoch': 2.33}\n",
            "{'loss': 2.1189, 'grad_norm': 0.7931661009788513, 'learning_rate': 2.461173350013981e-05, 'epoch': 2.34}\n",
            "{'loss': 0.921, 'grad_norm': 0.7200169563293457, 'learning_rate': 2.3732003268424308e-05, 'epoch': 2.35}\n",
            "{'loss': 2.0175, 'grad_norm': 0.8303097486495972, 'learning_rate': 2.2866161990785228e-05, 'epoch': 2.36}\n",
            "{'loss': 0.853, 'grad_norm': 0.7278888821601868, 'learning_rate': 2.2014367343184428e-05, 'epoch': 2.38}\n",
            "{'loss': 2.0076, 'grad_norm': 0.8138520121574402, 'learning_rate': 2.1176774443590764e-05, 'epoch': 2.39}\n",
            "{'loss': 0.9282, 'grad_norm': 0.8269999027252197, 'learning_rate': 2.035353582373205e-05, 'epoch': 2.4}\n",
            "{'loss': 2.0874, 'grad_norm': 1.045068621635437, 'learning_rate': 1.9544801401317836e-05, 'epoch': 2.41}\n",
            "{'loss': 0.9296, 'grad_norm': 0.7480137944221497, 'learning_rate': 1.875071845273848e-05, 'epoch': 2.42}\n",
            "{'loss': 2.0555, 'grad_norm': 0.8506528735160828, 'learning_rate': 1.7971431586244815e-05, 'epoch': 2.44}\n",
            "{'loss': 0.9193, 'grad_norm': 0.7059131860733032, 'learning_rate': 1.7207082715614133e-05, 'epoch': 2.45}\n",
            "{'loss': 2.046, 'grad_norm': 0.830784797668457, 'learning_rate': 1.645781103430656e-05, 'epoch': 2.46}\n",
            "{'loss': 0.8867, 'grad_norm': 0.7653886079788208, 'learning_rate': 1.5723752990116947e-05, 'epoch': 2.48}\n",
            "{'loss': 2.092, 'grad_norm': 0.7911098003387451, 'learning_rate': 1.5005042260326763e-05, 'epoch': 2.49}\n",
            "{'loss': 0.8689, 'grad_norm': 0.7510771155357361, 'learning_rate': 1.430180972736046e-05, 'epoch': 2.5}\n",
            "{'loss': 2.054, 'grad_norm': 0.8404288291931152, 'learning_rate': 1.3614183454950824e-05, 'epoch': 2.51}\n",
            "{'loss': 0.9111, 'grad_norm': 0.7650853395462036, 'learning_rate': 1.2942288664817726e-05, 'epoch': 2.52}\n",
            "{'loss': 2.0636, 'grad_norm': 0.9871229529380798, 'learning_rate': 1.2286247713864241e-05, 'epoch': 2.54}\n",
            "{'loss': 0.879, 'grad_norm': 0.782530665397644, 'learning_rate': 1.1646180071894607e-05, 'epoch': 2.55}\n",
            "{'loss': 2.1419, 'grad_norm': 0.7859998941421509, 'learning_rate': 1.1022202299857942e-05, 'epoch': 2.56}\n",
            "{'loss': 0.9358, 'grad_norm': 0.7904551029205322, 'learning_rate': 1.0414428028621582e-05, 'epoch': 2.58}\n",
            "{'loss': 2.0038, 'grad_norm': 0.7547972202301025, 'learning_rate': 9.822967938278171e-06, 'epoch': 2.59}\n",
            "{'loss': 0.8274, 'grad_norm': 0.6912491321563721, 'learning_rate': 9.247929737989903e-06, 'epoch': 2.6}\n",
            "{'loss': 2.17, 'grad_norm': 0.9027577638626099, 'learning_rate': 8.68941814637404e-06, 'epoch': 2.61}\n",
            "{'loss': 0.9568, 'grad_norm': 0.8131372332572937, 'learning_rate': 8.14753487243276e-06, 'epoch': 2.62}\n",
            "{'loss': 2.1067, 'grad_norm': 0.8339914679527283, 'learning_rate': 7.622378597031288e-06, 'epoch': 2.64}\n",
            "{'loss': 0.8899, 'grad_norm': 0.9001095294952393, 'learning_rate': 7.11404495492739e-06, 'epoch': 2.65}\n",
            "{'loss': 2.1078, 'grad_norm': 0.7370076775550842, 'learning_rate': 6.622626517355557e-06, 'epoch': 2.66}\n",
            "{'loss': 0.9364, 'grad_norm': 0.7237553596496582, 'learning_rate': 6.14821277516916e-06, 'epoch': 2.67}\n",
            "{'loss': 2.042, 'grad_norm': 0.8375844955444336, 'learning_rate': 5.690890122543469e-06, 'epoch': 2.69}\n",
            "{'loss': 0.8904, 'grad_norm': 0.7638957500457764, 'learning_rate': 5.250741841242734e-06, 'epoch': 2.7}\n",
            "{'loss': 2.0476, 'grad_norm': 0.7930683493614197, 'learning_rate': 4.827848085453835e-06, 'epoch': 2.71}\n",
            "{'loss': 0.8906, 'grad_norm': 0.8201788067817688, 'learning_rate': 4.422285867189757e-06, 'epoch': 2.73}\n",
            "{'loss': 1.9807, 'grad_norm': 0.7938538193702698, 'learning_rate': 4.034129042265066e-06, 'epoch': 2.74}\n",
            "{'loss': 0.8427, 'grad_norm': 0.761037290096283, 'learning_rate': 3.6634482968462725e-06, 'epoch': 2.75}\n",
            "{'loss': 2.0833, 'grad_norm': 0.7907624840736389, 'learning_rate': 3.3103111345793356e-06, 'epoch': 2.76}\n",
            "{'loss': 0.9591, 'grad_norm': 0.7185233235359192, 'learning_rate': 2.9747818642967827e-06, 'epoch': 2.77}\n",
            "{'loss': 2.1067, 'grad_norm': 0.8332339525222778, 'learning_rate': 2.6569215883066377e-06, 'epoch': 2.79}\n",
            "{'loss': 0.9305, 'grad_norm': 0.705187976360321, 'learning_rate': 2.356788191265147e-06, 'epoch': 2.8}\n",
            "{'loss': 2.0014, 'grad_norm': 0.8951261043548584, 'learning_rate': 2.074436329635687e-06, 'epoch': 2.81}\n",
            "{'loss': 0.9027, 'grad_norm': 0.7131997346878052, 'learning_rate': 1.8099174217353299e-06, 'epoch': 2.83}\n",
            "{'loss': 2.0405, 'grad_norm': 0.8295466899871826, 'learning_rate': 1.5632796383712511e-06, 'epoch': 2.84}\n",
            "{'loss': 0.8561, 'grad_norm': 0.754248321056366, 'learning_rate': 1.3345678940684613e-06, 'epoch': 2.85}\n",
            "{'loss': 2.1356, 'grad_norm': 0.9499291777610779, 'learning_rate': 1.1238238388905586e-06, 'epoch': 2.86}\n",
            "{'loss': 0.9227, 'grad_norm': 0.8197903633117676, 'learning_rate': 9.31085850854907e-07, 'epoch': 2.88}\n",
            "{'loss': 2.0935, 'grad_norm': 0.850418210029602, 'learning_rate': 7.563890289437825e-07, 'epoch': 2.89}\n",
            "{'loss': 0.8608, 'grad_norm': 0.8901548385620117, 'learning_rate': 5.99765186712542e-07, 'epoch': 2.9}\n",
            "{'loss': 2.1041, 'grad_norm': 0.8076590895652771, 'learning_rate': 4.612428464961793e-07, 'epoch': 2.91}\n",
            "{'loss': 0.9613, 'grad_norm': 0.752053439617157, 'learning_rate': 3.4084723421521356e-07, 'epoch': 2.92}\n",
            "{'loss': 2.0238, 'grad_norm': 0.8627640008926392, 'learning_rate': 2.386002747817861e-07, 'epoch': 2.94}\n",
            "{'loss': 0.9099, 'grad_norm': 0.6923006772994995, 'learning_rate': 1.545205881070877e-07, 'epoch': 2.95}\n",
            "{'loss': 1.9817, 'grad_norm': 0.8610402345657349, 'learning_rate': 8.862348571043733e-08, 'epoch': 2.96}\n",
            "{'loss': 0.8783, 'grad_norm': 0.766733705997467, 'learning_rate': 4.0920967931024065e-08, 'epoch': 2.98}\n",
            "{'loss': 2.0279, 'grad_norm': 0.7969403862953186, 'learning_rate': 1.1421721742499447e-08, 'epoch': 2.99}\n",
            "{'loss': 0.9096, 'grad_norm': 0.7901583909988403, 'learning_rate': 1.311191710651194e-10, 'epoch': 3.0}\n"
          ]
        },
        {
          "data": {
            "application/vnd.jupyter.widget-view+json": {
              "model_id": "b735668079bf4ea4922d984e11e69ca8",
              "version_major": 2,
              "version_minor": 0
            },
            "text/plain": [
              "  0%|          | 0/250 [00:00<?, ?it/s]"
            ]
          },
          "metadata": {},
          "output_type": "display_data"
        },
        {
          "name": "stdout",
          "output_type": "stream",
          "text": [
            "{'eval_loss': 1.549712896347046, 'eval_runtime': 87.258, 'eval_samples_per_second': 22.921, 'eval_steps_per_second': 2.865, 'epoch': 3.0}\n",
            "{'train_runtime': 15882.0716, 'train_samples_per_second': 3.022, 'train_steps_per_second': 0.378, 'train_loss': 1.781057985941569, 'epoch': 3.0}\n"
          ]
        },
        {
          "data": {
            "text/plain": [
              "('./output/tokenizer_config.json',\n",
              " './output/special_tokens_map.json',\n",
              " './output/tokenizer.json')"
            ]
          },
          "execution_count": 31,
          "metadata": {},
          "output_type": "execute_result"
        }
      ],
      "source": [
        "# Train model\n",
        "trainer.train()\n",
        "\n",
        "# Save trained model and tokenizer\n",
        "trainer.save_model()\n",
        "tokenizer.save_pretrained(output_dir)"
      ]
    },
    {
      "cell_type": "code",
      "execution_count": 32,
      "metadata": {
        "id": "4XlrHnbdWFes"
      },
      "outputs": [
        {
          "ename": "ModuleNotFoundError",
          "evalue": "No module named 'tensorboard'",
          "output_type": "error",
          "traceback": [
            "\u001b[0;31m---------------------------------------------------------------------------\u001b[0m",
            "\u001b[0;31mModuleNotFoundError\u001b[0m                       Traceback (most recent call last)",
            "Cell \u001b[0;32mIn[32], line 1\u001b[0m\n\u001b[0;32m----> 1\u001b[0m \u001b[43mget_ipython\u001b[49m\u001b[43m(\u001b[49m\u001b[43m)\u001b[49m\u001b[38;5;241;43m.\u001b[39;49m\u001b[43mrun_line_magic\u001b[49m\u001b[43m(\u001b[49m\u001b[38;5;124;43m'\u001b[39;49m\u001b[38;5;124;43mload_ext\u001b[39;49m\u001b[38;5;124;43m'\u001b[39;49m\u001b[43m,\u001b[49m\u001b[43m \u001b[49m\u001b[38;5;124;43m'\u001b[39;49m\u001b[38;5;124;43mtensorboard\u001b[39;49m\u001b[38;5;124;43m'\u001b[39;49m\u001b[43m)\u001b[49m\n\u001b[1;32m      2\u001b[0m get_ipython()\u001b[38;5;241m.\u001b[39mrun_line_magic(\u001b[38;5;124m'\u001b[39m\u001b[38;5;124mtensorboard\u001b[39m\u001b[38;5;124m'\u001b[39m, \u001b[38;5;124m'\u001b[39m\u001b[38;5;124m--logdir logs/runs\u001b[39m\u001b[38;5;124m'\u001b[39m)\n",
            "File \u001b[0;32m~/Vscode/FYP_Code/.venv/lib/python3.11/site-packages/IPython/core/interactiveshell.py:2480\u001b[0m, in \u001b[0;36mInteractiveShell.run_line_magic\u001b[0;34m(self, magic_name, line, _stack_depth)\u001b[0m\n\u001b[1;32m   2478\u001b[0m     kwargs[\u001b[38;5;124m'\u001b[39m\u001b[38;5;124mlocal_ns\u001b[39m\u001b[38;5;124m'\u001b[39m] \u001b[38;5;241m=\u001b[39m \u001b[38;5;28mself\u001b[39m\u001b[38;5;241m.\u001b[39mget_local_scope(stack_depth)\n\u001b[1;32m   2479\u001b[0m \u001b[38;5;28;01mwith\u001b[39;00m \u001b[38;5;28mself\u001b[39m\u001b[38;5;241m.\u001b[39mbuiltin_trap:\n\u001b[0;32m-> 2480\u001b[0m     result \u001b[38;5;241m=\u001b[39m \u001b[43mfn\u001b[49m\u001b[43m(\u001b[49m\u001b[38;5;241;43m*\u001b[39;49m\u001b[43margs\u001b[49m\u001b[43m,\u001b[49m\u001b[43m \u001b[49m\u001b[38;5;241;43m*\u001b[39;49m\u001b[38;5;241;43m*\u001b[39;49m\u001b[43mkwargs\u001b[49m\u001b[43m)\u001b[49m\n\u001b[1;32m   2482\u001b[0m \u001b[38;5;66;03m# The code below prevents the output from being displayed\u001b[39;00m\n\u001b[1;32m   2483\u001b[0m \u001b[38;5;66;03m# when using magics with decorator @output_can_be_silenced\u001b[39;00m\n\u001b[1;32m   2484\u001b[0m \u001b[38;5;66;03m# when the last Python token in the expression is a ';'.\u001b[39;00m\n\u001b[1;32m   2485\u001b[0m \u001b[38;5;28;01mif\u001b[39;00m \u001b[38;5;28mgetattr\u001b[39m(fn, magic\u001b[38;5;241m.\u001b[39mMAGIC_OUTPUT_CAN_BE_SILENCED, \u001b[38;5;28;01mFalse\u001b[39;00m):\n",
            "File \u001b[0;32m~/Vscode/FYP_Code/.venv/lib/python3.11/site-packages/IPython/core/magics/extension.py:33\u001b[0m, in \u001b[0;36mExtensionMagics.load_ext\u001b[0;34m(self, module_str)\u001b[0m\n\u001b[1;32m     31\u001b[0m \u001b[38;5;28;01mif\u001b[39;00m \u001b[38;5;129;01mnot\u001b[39;00m module_str:\n\u001b[1;32m     32\u001b[0m     \u001b[38;5;28;01mraise\u001b[39;00m UsageError(\u001b[38;5;124m'\u001b[39m\u001b[38;5;124mMissing module name.\u001b[39m\u001b[38;5;124m'\u001b[39m)\n\u001b[0;32m---> 33\u001b[0m res \u001b[38;5;241m=\u001b[39m \u001b[38;5;28;43mself\u001b[39;49m\u001b[38;5;241;43m.\u001b[39;49m\u001b[43mshell\u001b[49m\u001b[38;5;241;43m.\u001b[39;49m\u001b[43mextension_manager\u001b[49m\u001b[38;5;241;43m.\u001b[39;49m\u001b[43mload_extension\u001b[49m\u001b[43m(\u001b[49m\u001b[43mmodule_str\u001b[49m\u001b[43m)\u001b[49m\n\u001b[1;32m     35\u001b[0m \u001b[38;5;28;01mif\u001b[39;00m res \u001b[38;5;241m==\u001b[39m \u001b[38;5;124m'\u001b[39m\u001b[38;5;124malready loaded\u001b[39m\u001b[38;5;124m'\u001b[39m:\n\u001b[1;32m     36\u001b[0m     \u001b[38;5;28mprint\u001b[39m(\u001b[38;5;124m\"\u001b[39m\u001b[38;5;124mThe \u001b[39m\u001b[38;5;132;01m%s\u001b[39;00m\u001b[38;5;124m extension is already loaded. To reload it, use:\u001b[39m\u001b[38;5;124m\"\u001b[39m \u001b[38;5;241m%\u001b[39m module_str)\n",
            "File \u001b[0;32m~/Vscode/FYP_Code/.venv/lib/python3.11/site-packages/IPython/core/extensions.py:62\u001b[0m, in \u001b[0;36mExtensionManager.load_extension\u001b[0;34m(self, module_str)\u001b[0m\n\u001b[1;32m     55\u001b[0m \u001b[38;5;250m\u001b[39m\u001b[38;5;124;03m\"\"\"Load an IPython extension by its module name.\u001b[39;00m\n\u001b[1;32m     56\u001b[0m \n\u001b[1;32m     57\u001b[0m \u001b[38;5;124;03mReturns the string \"already loaded\" if the extension is already loaded,\u001b[39;00m\n\u001b[1;32m     58\u001b[0m \u001b[38;5;124;03m\"no load function\" if the module doesn't have a load_ipython_extension\u001b[39;00m\n\u001b[1;32m     59\u001b[0m \u001b[38;5;124;03mfunction, or None if it succeeded.\u001b[39;00m\n\u001b[1;32m     60\u001b[0m \u001b[38;5;124;03m\"\"\"\u001b[39;00m\n\u001b[1;32m     61\u001b[0m \u001b[38;5;28;01mtry\u001b[39;00m:\n\u001b[0;32m---> 62\u001b[0m     \u001b[38;5;28;01mreturn\u001b[39;00m \u001b[38;5;28;43mself\u001b[39;49m\u001b[38;5;241;43m.\u001b[39;49m\u001b[43m_load_extension\u001b[49m\u001b[43m(\u001b[49m\u001b[43mmodule_str\u001b[49m\u001b[43m)\u001b[49m\n\u001b[1;32m     63\u001b[0m \u001b[38;5;28;01mexcept\u001b[39;00m \u001b[38;5;167;01mModuleNotFoundError\u001b[39;00m:\n\u001b[1;32m     64\u001b[0m     \u001b[38;5;28;01mif\u001b[39;00m module_str \u001b[38;5;129;01min\u001b[39;00m BUILTINS_EXTS:\n",
            "File \u001b[0;32m~/Vscode/FYP_Code/.venv/lib/python3.11/site-packages/IPython/core/extensions.py:77\u001b[0m, in \u001b[0;36mExtensionManager._load_extension\u001b[0;34m(self, module_str)\u001b[0m\n\u001b[1;32m     75\u001b[0m \u001b[38;5;28;01mwith\u001b[39;00m \u001b[38;5;28mself\u001b[39m\u001b[38;5;241m.\u001b[39mshell\u001b[38;5;241m.\u001b[39mbuiltin_trap:\n\u001b[1;32m     76\u001b[0m     \u001b[38;5;28;01mif\u001b[39;00m module_str \u001b[38;5;129;01mnot\u001b[39;00m \u001b[38;5;129;01min\u001b[39;00m sys\u001b[38;5;241m.\u001b[39mmodules:\n\u001b[0;32m---> 77\u001b[0m         mod \u001b[38;5;241m=\u001b[39m \u001b[43mimport_module\u001b[49m\u001b[43m(\u001b[49m\u001b[43mmodule_str\u001b[49m\u001b[43m)\u001b[49m\n\u001b[1;32m     78\u001b[0m     mod \u001b[38;5;241m=\u001b[39m sys\u001b[38;5;241m.\u001b[39mmodules[module_str]\n\u001b[1;32m     79\u001b[0m     \u001b[38;5;28;01mif\u001b[39;00m \u001b[38;5;28mself\u001b[39m\u001b[38;5;241m.\u001b[39m_call_load_ipython_extension(mod):\n",
            "File \u001b[0;32m/usr/lib/python3.11/importlib/__init__.py:126\u001b[0m, in \u001b[0;36mimport_module\u001b[0;34m(name, package)\u001b[0m\n\u001b[1;32m    124\u001b[0m             \u001b[38;5;28;01mbreak\u001b[39;00m\n\u001b[1;32m    125\u001b[0m         level \u001b[38;5;241m+\u001b[39m\u001b[38;5;241m=\u001b[39m \u001b[38;5;241m1\u001b[39m\n\u001b[0;32m--> 126\u001b[0m \u001b[38;5;28;01mreturn\u001b[39;00m \u001b[43m_bootstrap\u001b[49m\u001b[38;5;241;43m.\u001b[39;49m\u001b[43m_gcd_import\u001b[49m\u001b[43m(\u001b[49m\u001b[43mname\u001b[49m\u001b[43m[\u001b[49m\u001b[43mlevel\u001b[49m\u001b[43m:\u001b[49m\u001b[43m]\u001b[49m\u001b[43m,\u001b[49m\u001b[43m \u001b[49m\u001b[43mpackage\u001b[49m\u001b[43m,\u001b[49m\u001b[43m \u001b[49m\u001b[43mlevel\u001b[49m\u001b[43m)\u001b[49m\n",
            "File \u001b[0;32m<frozen importlib._bootstrap>:1204\u001b[0m, in \u001b[0;36m_gcd_import\u001b[0;34m(name, package, level)\u001b[0m\n",
            "File \u001b[0;32m<frozen importlib._bootstrap>:1176\u001b[0m, in \u001b[0;36m_find_and_load\u001b[0;34m(name, import_)\u001b[0m\n",
            "File \u001b[0;32m<frozen importlib._bootstrap>:1140\u001b[0m, in \u001b[0;36m_find_and_load_unlocked\u001b[0;34m(name, import_)\u001b[0m\n",
            "\u001b[0;31mModuleNotFoundError\u001b[0m: No module named 'tensorboard'"
          ]
        }
      ],
      "source": [
        "%load_ext tensorboard\n",
        "%tensorboard --logdir logs/runs"
      ]
    },
    {
      "cell_type": "code",
      "execution_count": 16,
      "metadata": {},
      "outputs": [
        {
          "data": {
            "application/vnd.jupyter.widget-view+json": {
              "model_id": "b1056eea9c15424e94ad056667ea6348",
              "version_major": 2,
              "version_minor": 0
            },
            "text/plain": [
              "Loading checkpoint shards:   0%|          | 0/2 [00:00<?, ?it/s]"
            ]
          },
          "metadata": {},
          "output_type": "display_data"
        }
      ],
      "source": [
        "model = AutoModelForCausalLM.from_pretrained(\"./Trained_Model\")\n",
        "tokenizer = AutoTokenizer.from_pretrained(\"./Trained_Model\")"
      ]
    },
    {
      "cell_type": "code",
      "execution_count": null,
      "metadata": {
        "id": "AgtrenA1WGEP"
      },
      "outputs": [],
      "source": [
        "y_pred = predict(model, tokenizer)\n",
        "evaluate(y_true, y_pred)"
      ]
    }
  ],
  "metadata": {
    "accelerator": "GPU",
    "colab": {
      "gpuType": "T4",
      "provenance": []
    },
    "kernelspec": {
      "display_name": "Python 3",
      "name": "python3"
    },
    "language_info": {
      "codemirror_mode": {
        "name": "ipython",
        "version": 3
      },
      "file_extension": ".py",
      "mimetype": "text/x-python",
      "name": "python",
      "nbconvert_exporter": "python",
      "pygments_lexer": "ipython3",
      "version": "3.12.2"
    },
    "widgets": {
      "application/vnd.jupyter.widget-state+json": {
        "03a392629e5746259141aa7bf37fc69c": {
          "model_module": "@jupyter-widgets/controls",
          "model_module_version": "1.5.0",
          "model_name": "FloatProgressModel",
          "state": {
            "_dom_classes": [],
            "_model_module": "@jupyter-widgets/controls",
            "_model_module_version": "1.5.0",
            "_model_name": "FloatProgressModel",
            "_view_count": null,
            "_view_module": "@jupyter-widgets/controls",
            "_view_module_version": "1.5.0",
            "_view_name": "ProgressView",
            "bar_style": "success",
            "description": "",
            "description_tooltip": null,
            "layout": "IPY_MODEL_722bb4019f874892bc34de575b7e08d8",
            "max": 2,
            "min": 0,
            "orientation": "horizontal",
            "style": "IPY_MODEL_e8710c4f544645808087531910d62505",
            "value": 2
          }
        },
        "07eca6123bdc45609803b665e61c3df0": {
          "model_module": "@jupyter-widgets/controls",
          "model_module_version": "1.5.0",
          "model_name": "LabelModel",
          "state": {
            "_dom_classes": [],
            "_model_module": "@jupyter-widgets/controls",
            "_model_module_version": "1.5.0",
            "_model_name": "LabelModel",
            "_view_count": null,
            "_view_module": "@jupyter-widgets/controls",
            "_view_module_version": "1.5.0",
            "_view_name": "LabelView",
            "description": "",
            "description_tooltip": null,
            "layout": "IPY_MODEL_0eb0b78c58fa485e9333ddeebc9eb6f5",
            "placeholder": "​",
            "style": "IPY_MODEL_7111bd8a4b0646279846346a05964ec8",
            "value": "Token is valid (permission: write)."
          }
        },
        "0b34184f284b478b9b7fa21f1d6e44e3": {
          "model_module": "@jupyter-widgets/controls",
          "model_module_version": "1.5.0",
          "model_name": "HTMLModel",
          "state": {
            "_dom_classes": [],
            "_model_module": "@jupyter-widgets/controls",
            "_model_module_version": "1.5.0",
            "_model_name": "HTMLModel",
            "_view_count": null,
            "_view_module": "@jupyter-widgets/controls",
            "_view_module_version": "1.5.0",
            "_view_name": "HTMLView",
            "description": "",
            "description_tooltip": null,
            "layout": "IPY_MODEL_41f465104adc42b1a4c6fecd828411b0",
            "placeholder": "​",
            "style": "IPY_MODEL_0bafbf2bb1be48009f8eca40b23a7bce",
            "value": " 2/2 [01:08&lt;00:00, 31.47s/it]"
          }
        },
        "0b676c7d07b8491ea149ccf83c834628": {
          "model_module": "@jupyter-widgets/base",
          "model_module_version": "1.2.0",
          "model_name": "LayoutModel",
          "state": {
            "_model_module": "@jupyter-widgets/base",
            "_model_module_version": "1.2.0",
            "_model_name": "LayoutModel",
            "_view_count": null,
            "_view_module": "@jupyter-widgets/base",
            "_view_module_version": "1.2.0",
            "_view_name": "LayoutView",
            "align_content": null,
            "align_items": null,
            "align_self": null,
            "border": null,
            "bottom": null,
            "display": null,
            "flex": null,
            "flex_flow": null,
            "grid_area": null,
            "grid_auto_columns": null,
            "grid_auto_flow": null,
            "grid_auto_rows": null,
            "grid_column": null,
            "grid_gap": null,
            "grid_row": null,
            "grid_template_areas": null,
            "grid_template_columns": null,
            "grid_template_rows": null,
            "height": null,
            "justify_content": null,
            "justify_items": null,
            "left": null,
            "margin": null,
            "max_height": null,
            "max_width": null,
            "min_height": null,
            "min_width": null,
            "object_fit": null,
            "object_position": null,
            "order": null,
            "overflow": null,
            "overflow_x": null,
            "overflow_y": null,
            "padding": null,
            "right": null,
            "top": null,
            "visibility": null,
            "width": null
          }
        },
        "0bafbf2bb1be48009f8eca40b23a7bce": {
          "model_module": "@jupyter-widgets/controls",
          "model_module_version": "1.5.0",
          "model_name": "DescriptionStyleModel",
          "state": {
            "_model_module": "@jupyter-widgets/controls",
            "_model_module_version": "1.5.0",
            "_model_name": "DescriptionStyleModel",
            "_view_count": null,
            "_view_module": "@jupyter-widgets/base",
            "_view_module_version": "1.2.0",
            "_view_name": "StyleView",
            "description_width": ""
          }
        },
        "0dacac2b55c3453f9e1bd127f5d4771c": {
          "model_module": "@jupyter-widgets/controls",
          "model_module_version": "1.5.0",
          "model_name": "DescriptionStyleModel",
          "state": {
            "_model_module": "@jupyter-widgets/controls",
            "_model_module_version": "1.5.0",
            "_model_name": "DescriptionStyleModel",
            "_view_count": null,
            "_view_module": "@jupyter-widgets/base",
            "_view_module_version": "1.2.0",
            "_view_name": "StyleView",
            "description_width": ""
          }
        },
        "0eb0b78c58fa485e9333ddeebc9eb6f5": {
          "model_module": "@jupyter-widgets/base",
          "model_module_version": "1.2.0",
          "model_name": "LayoutModel",
          "state": {
            "_model_module": "@jupyter-widgets/base",
            "_model_module_version": "1.2.0",
            "_model_name": "LayoutModel",
            "_view_count": null,
            "_view_module": "@jupyter-widgets/base",
            "_view_module_version": "1.2.0",
            "_view_name": "LayoutView",
            "align_content": null,
            "align_items": null,
            "align_self": null,
            "border": null,
            "bottom": null,
            "display": null,
            "flex": null,
            "flex_flow": null,
            "grid_area": null,
            "grid_auto_columns": null,
            "grid_auto_flow": null,
            "grid_auto_rows": null,
            "grid_column": null,
            "grid_gap": null,
            "grid_row": null,
            "grid_template_areas": null,
            "grid_template_columns": null,
            "grid_template_rows": null,
            "height": null,
            "justify_content": null,
            "justify_items": null,
            "left": null,
            "margin": null,
            "max_height": null,
            "max_width": null,
            "min_height": null,
            "min_width": null,
            "object_fit": null,
            "object_position": null,
            "order": null,
            "overflow": null,
            "overflow_x": null,
            "overflow_y": null,
            "padding": null,
            "right": null,
            "top": null,
            "visibility": null,
            "width": null
          }
        },
        "19997f6028c848949dd30cd628f0e95c": {
          "model_module": "@jupyter-widgets/controls",
          "model_module_version": "1.5.0",
          "model_name": "LabelModel",
          "state": {
            "_dom_classes": [],
            "_model_module": "@jupyter-widgets/controls",
            "_model_module_version": "1.5.0",
            "_model_name": "LabelModel",
            "_view_count": null,
            "_view_module": "@jupyter-widgets/controls",
            "_view_module_version": "1.5.0",
            "_view_name": "LabelView",
            "description": "",
            "description_tooltip": null,
            "layout": "IPY_MODEL_37cbecdd58114234912d755f1545ce68",
            "placeholder": "​",
            "style": "IPY_MODEL_379c176c1c514d90b20a096d2be8bdaf",
            "value": "Your token has been saved in your configured git credential helpers (store)."
          }
        },
        "1dd1b61cc9644421bafd13aafd760071": {
          "model_module": "@jupyter-widgets/controls",
          "model_module_version": "1.5.0",
          "model_name": "HTMLModel",
          "state": {
            "_dom_classes": [],
            "_model_module": "@jupyter-widgets/controls",
            "_model_module_version": "1.5.0",
            "_model_name": "HTMLModel",
            "_view_count": null,
            "_view_module": "@jupyter-widgets/controls",
            "_view_module_version": "1.5.0",
            "_view_name": "HTMLView",
            "description": "",
            "description_tooltip": null,
            "layout": "IPY_MODEL_fb9f2941ee83469eb148a16e1a274ca2",
            "placeholder": "​",
            "style": "IPY_MODEL_d7a1f901d5d14cda861e6c1c9b0220cf",
            "value": " 16000/16000 [00:04&lt;00:00, 3790.94 examples/s]"
          }
        },
        "1f0ce64a489047df8a5661947eee8636": {
          "model_module": "@jupyter-widgets/controls",
          "model_module_version": "1.5.0",
          "model_name": "DescriptionStyleModel",
          "state": {
            "_model_module": "@jupyter-widgets/controls",
            "_model_module_version": "1.5.0",
            "_model_name": "DescriptionStyleModel",
            "_view_count": null,
            "_view_module": "@jupyter-widgets/base",
            "_view_module_version": "1.2.0",
            "_view_name": "StyleView",
            "description_width": ""
          }
        },
        "249cfdf0dca64e4488a03eab15454828": {
          "model_module": "@jupyter-widgets/controls",
          "model_module_version": "1.5.0",
          "model_name": "HTMLModel",
          "state": {
            "_dom_classes": [],
            "_model_module": "@jupyter-widgets/controls",
            "_model_module_version": "1.5.0",
            "_model_name": "HTMLModel",
            "_view_count": null,
            "_view_module": "@jupyter-widgets/controls",
            "_view_module_version": "1.5.0",
            "_view_name": "HTMLView",
            "description": "",
            "description_tooltip": null,
            "layout": "IPY_MODEL_c538a8e81f6943f8914088d2c73aeb7b",
            "placeholder": "​",
            "style": "IPY_MODEL_d3c7e1c96d74475b8bae6abf237eb145",
            "value": "Loading checkpoint shards: 100%"
          }
        },
        "261f05f603144d4bb09e175b89f196a7": {
          "model_module": "@jupyter-widgets/controls",
          "model_module_version": "1.5.0",
          "model_name": "HTMLModel",
          "state": {
            "_dom_classes": [],
            "_model_module": "@jupyter-widgets/controls",
            "_model_module_version": "1.5.0",
            "_model_name": "HTMLModel",
            "_view_count": null,
            "_view_module": "@jupyter-widgets/controls",
            "_view_module_version": "1.5.0",
            "_view_name": "HTMLView",
            "description": "",
            "description_tooltip": null,
            "layout": "IPY_MODEL_2bd4030190bd459e9b03407bf4a76b98",
            "placeholder": "​",
            "style": "IPY_MODEL_29f935ecb5724d7198ed33baafc753b6",
            "value": "\n<b>Pro Tip:</b> If you don't already have one, you can create a dedicated\n'notebooks' token with 'write' access, that you can then easily reuse for all\nnotebooks. </center>"
          }
        },
        "29f935ecb5724d7198ed33baafc753b6": {
          "model_module": "@jupyter-widgets/controls",
          "model_module_version": "1.5.0",
          "model_name": "DescriptionStyleModel",
          "state": {
            "_model_module": "@jupyter-widgets/controls",
            "_model_module_version": "1.5.0",
            "_model_name": "DescriptionStyleModel",
            "_view_count": null,
            "_view_module": "@jupyter-widgets/base",
            "_view_module_version": "1.2.0",
            "_view_name": "StyleView",
            "description_width": ""
          }
        },
        "2afa38e276844a748f94316c494c8fc6": {
          "model_module": "@jupyter-widgets/base",
          "model_module_version": "1.2.0",
          "model_name": "LayoutModel",
          "state": {
            "_model_module": "@jupyter-widgets/base",
            "_model_module_version": "1.2.0",
            "_model_name": "LayoutModel",
            "_view_count": null,
            "_view_module": "@jupyter-widgets/base",
            "_view_module_version": "1.2.0",
            "_view_name": "LayoutView",
            "align_content": null,
            "align_items": "center",
            "align_self": null,
            "border": null,
            "bottom": null,
            "display": "flex",
            "flex": null,
            "flex_flow": "column",
            "grid_area": null,
            "grid_auto_columns": null,
            "grid_auto_flow": null,
            "grid_auto_rows": null,
            "grid_column": null,
            "grid_gap": null,
            "grid_row": null,
            "grid_template_areas": null,
            "grid_template_columns": null,
            "grid_template_rows": null,
            "height": null,
            "justify_content": null,
            "justify_items": null,
            "left": null,
            "margin": null,
            "max_height": null,
            "max_width": null,
            "min_height": null,
            "min_width": null,
            "object_fit": null,
            "object_position": null,
            "order": null,
            "overflow": null,
            "overflow_x": null,
            "overflow_y": null,
            "padding": null,
            "right": null,
            "top": null,
            "visibility": null,
            "width": "50%"
          }
        },
        "2bd4030190bd459e9b03407bf4a76b98": {
          "model_module": "@jupyter-widgets/base",
          "model_module_version": "1.2.0",
          "model_name": "LayoutModel",
          "state": {
            "_model_module": "@jupyter-widgets/base",
            "_model_module_version": "1.2.0",
            "_model_name": "LayoutModel",
            "_view_count": null,
            "_view_module": "@jupyter-widgets/base",
            "_view_module_version": "1.2.0",
            "_view_name": "LayoutView",
            "align_content": null,
            "align_items": null,
            "align_self": null,
            "border": null,
            "bottom": null,
            "display": null,
            "flex": null,
            "flex_flow": null,
            "grid_area": null,
            "grid_auto_columns": null,
            "grid_auto_flow": null,
            "grid_auto_rows": null,
            "grid_column": null,
            "grid_gap": null,
            "grid_row": null,
            "grid_template_areas": null,
            "grid_template_columns": null,
            "grid_template_rows": null,
            "height": null,
            "justify_content": null,
            "justify_items": null,
            "left": null,
            "margin": null,
            "max_height": null,
            "max_width": null,
            "min_height": null,
            "min_width": null,
            "object_fit": null,
            "object_position": null,
            "order": null,
            "overflow": null,
            "overflow_x": null,
            "overflow_y": null,
            "padding": null,
            "right": null,
            "top": null,
            "visibility": null,
            "width": null
          }
        },
        "2be61e28254e48eb87a7ed79c211421a": {
          "model_module": "@jupyter-widgets/controls",
          "model_module_version": "1.5.0",
          "model_name": "DescriptionStyleModel",
          "state": {
            "_model_module": "@jupyter-widgets/controls",
            "_model_module_version": "1.5.0",
            "_model_name": "DescriptionStyleModel",
            "_view_count": null,
            "_view_module": "@jupyter-widgets/base",
            "_view_module_version": "1.2.0",
            "_view_name": "StyleView",
            "description_width": ""
          }
        },
        "328f1650dfac4ce4af2a266a6fc9cf25": {
          "model_module": "@jupyter-widgets/controls",
          "model_module_version": "1.5.0",
          "model_name": "PasswordModel",
          "state": {
            "_dom_classes": [],
            "_model_module": "@jupyter-widgets/controls",
            "_model_module_version": "1.5.0",
            "_model_name": "PasswordModel",
            "_view_count": null,
            "_view_module": "@jupyter-widgets/controls",
            "_view_module_version": "1.5.0",
            "_view_name": "PasswordView",
            "continuous_update": true,
            "description": "Token:",
            "description_tooltip": null,
            "disabled": false,
            "layout": "IPY_MODEL_0b676c7d07b8491ea149ccf83c834628",
            "placeholder": "​",
            "style": "IPY_MODEL_5bc2c1f98014409f98f0c9c98fc138ab",
            "value": ""
          }
        },
        "379c176c1c514d90b20a096d2be8bdaf": {
          "model_module": "@jupyter-widgets/controls",
          "model_module_version": "1.5.0",
          "model_name": "DescriptionStyleModel",
          "state": {
            "_model_module": "@jupyter-widgets/controls",
            "_model_module_version": "1.5.0",
            "_model_name": "DescriptionStyleModel",
            "_view_count": null,
            "_view_module": "@jupyter-widgets/base",
            "_view_module_version": "1.2.0",
            "_view_name": "StyleView",
            "description_width": ""
          }
        },
        "37cbecdd58114234912d755f1545ce68": {
          "model_module": "@jupyter-widgets/base",
          "model_module_version": "1.2.0",
          "model_name": "LayoutModel",
          "state": {
            "_model_module": "@jupyter-widgets/base",
            "_model_module_version": "1.2.0",
            "_model_name": "LayoutModel",
            "_view_count": null,
            "_view_module": "@jupyter-widgets/base",
            "_view_module_version": "1.2.0",
            "_view_name": "LayoutView",
            "align_content": null,
            "align_items": null,
            "align_self": null,
            "border": null,
            "bottom": null,
            "display": null,
            "flex": null,
            "flex_flow": null,
            "grid_area": null,
            "grid_auto_columns": null,
            "grid_auto_flow": null,
            "grid_auto_rows": null,
            "grid_column": null,
            "grid_gap": null,
            "grid_row": null,
            "grid_template_areas": null,
            "grid_template_columns": null,
            "grid_template_rows": null,
            "height": null,
            "justify_content": null,
            "justify_items": null,
            "left": null,
            "margin": null,
            "max_height": null,
            "max_width": null,
            "min_height": null,
            "min_width": null,
            "object_fit": null,
            "object_position": null,
            "order": null,
            "overflow": null,
            "overflow_x": null,
            "overflow_y": null,
            "padding": null,
            "right": null,
            "top": null,
            "visibility": null,
            "width": null
          }
        },
        "3933d65dd43f4d658dfbc5b3e2feb073": {
          "model_module": "@jupyter-widgets/base",
          "model_module_version": "1.2.0",
          "model_name": "LayoutModel",
          "state": {
            "_model_module": "@jupyter-widgets/base",
            "_model_module_version": "1.2.0",
            "_model_name": "LayoutModel",
            "_view_count": null,
            "_view_module": "@jupyter-widgets/base",
            "_view_module_version": "1.2.0",
            "_view_name": "LayoutView",
            "align_content": null,
            "align_items": null,
            "align_self": null,
            "border": null,
            "bottom": null,
            "display": null,
            "flex": null,
            "flex_flow": null,
            "grid_area": null,
            "grid_auto_columns": null,
            "grid_auto_flow": null,
            "grid_auto_rows": null,
            "grid_column": null,
            "grid_gap": null,
            "grid_row": null,
            "grid_template_areas": null,
            "grid_template_columns": null,
            "grid_template_rows": null,
            "height": null,
            "justify_content": null,
            "justify_items": null,
            "left": null,
            "margin": null,
            "max_height": null,
            "max_width": null,
            "min_height": null,
            "min_width": null,
            "object_fit": null,
            "object_position": null,
            "order": null,
            "overflow": null,
            "overflow_x": null,
            "overflow_y": null,
            "padding": null,
            "right": null,
            "top": null,
            "visibility": null,
            "width": null
          }
        },
        "3d94b4e40810408fb76afe15e5d09284": {
          "model_module": "@jupyter-widgets/base",
          "model_module_version": "1.2.0",
          "model_name": "LayoutModel",
          "state": {
            "_model_module": "@jupyter-widgets/base",
            "_model_module_version": "1.2.0",
            "_model_name": "LayoutModel",
            "_view_count": null,
            "_view_module": "@jupyter-widgets/base",
            "_view_module_version": "1.2.0",
            "_view_name": "LayoutView",
            "align_content": null,
            "align_items": null,
            "align_self": null,
            "border": null,
            "bottom": null,
            "display": null,
            "flex": null,
            "flex_flow": null,
            "grid_area": null,
            "grid_auto_columns": null,
            "grid_auto_flow": null,
            "grid_auto_rows": null,
            "grid_column": null,
            "grid_gap": null,
            "grid_row": null,
            "grid_template_areas": null,
            "grid_template_columns": null,
            "grid_template_rows": null,
            "height": null,
            "justify_content": null,
            "justify_items": null,
            "left": null,
            "margin": null,
            "max_height": null,
            "max_width": null,
            "min_height": null,
            "min_width": null,
            "object_fit": null,
            "object_position": null,
            "order": null,
            "overflow": null,
            "overflow_x": null,
            "overflow_y": null,
            "padding": null,
            "right": null,
            "top": null,
            "visibility": null,
            "width": null
          }
        },
        "4062c912660e40b9a2bb5fc37c4f826c": {
          "model_module": "@jupyter-widgets/base",
          "model_module_version": "1.2.0",
          "model_name": "LayoutModel",
          "state": {
            "_model_module": "@jupyter-widgets/base",
            "_model_module_version": "1.2.0",
            "_model_name": "LayoutModel",
            "_view_count": null,
            "_view_module": "@jupyter-widgets/base",
            "_view_module_version": "1.2.0",
            "_view_name": "LayoutView",
            "align_content": null,
            "align_items": null,
            "align_self": null,
            "border": null,
            "bottom": null,
            "display": null,
            "flex": null,
            "flex_flow": null,
            "grid_area": null,
            "grid_auto_columns": null,
            "grid_auto_flow": null,
            "grid_auto_rows": null,
            "grid_column": null,
            "grid_gap": null,
            "grid_row": null,
            "grid_template_areas": null,
            "grid_template_columns": null,
            "grid_template_rows": null,
            "height": null,
            "justify_content": null,
            "justify_items": null,
            "left": null,
            "margin": null,
            "max_height": null,
            "max_width": null,
            "min_height": null,
            "min_width": null,
            "object_fit": null,
            "object_position": null,
            "order": null,
            "overflow": null,
            "overflow_x": null,
            "overflow_y": null,
            "padding": null,
            "right": null,
            "top": null,
            "visibility": null,
            "width": null
          }
        },
        "41f465104adc42b1a4c6fecd828411b0": {
          "model_module": "@jupyter-widgets/base",
          "model_module_version": "1.2.0",
          "model_name": "LayoutModel",
          "state": {
            "_model_module": "@jupyter-widgets/base",
            "_model_module_version": "1.2.0",
            "_model_name": "LayoutModel",
            "_view_count": null,
            "_view_module": "@jupyter-widgets/base",
            "_view_module_version": "1.2.0",
            "_view_name": "LayoutView",
            "align_content": null,
            "align_items": null,
            "align_self": null,
            "border": null,
            "bottom": null,
            "display": null,
            "flex": null,
            "flex_flow": null,
            "grid_area": null,
            "grid_auto_columns": null,
            "grid_auto_flow": null,
            "grid_auto_rows": null,
            "grid_column": null,
            "grid_gap": null,
            "grid_row": null,
            "grid_template_areas": null,
            "grid_template_columns": null,
            "grid_template_rows": null,
            "height": null,
            "justify_content": null,
            "justify_items": null,
            "left": null,
            "margin": null,
            "max_height": null,
            "max_width": null,
            "min_height": null,
            "min_width": null,
            "object_fit": null,
            "object_position": null,
            "order": null,
            "overflow": null,
            "overflow_x": null,
            "overflow_y": null,
            "padding": null,
            "right": null,
            "top": null,
            "visibility": null,
            "width": null
          }
        },
        "51242470c37c4b28a2be02a71d8b0569": {
          "model_module": "@jupyter-widgets/controls",
          "model_module_version": "1.5.0",
          "model_name": "LabelModel",
          "state": {
            "_dom_classes": [],
            "_model_module": "@jupyter-widgets/controls",
            "_model_module_version": "1.5.0",
            "_model_name": "LabelModel",
            "_view_count": null,
            "_view_module": "@jupyter-widgets/controls",
            "_view_module_version": "1.5.0",
            "_view_name": "LabelView",
            "description": "",
            "description_tooltip": null,
            "layout": "IPY_MODEL_e9de2fe13f7b420c88a50677fd24167c",
            "placeholder": "​",
            "style": "IPY_MODEL_1f0ce64a489047df8a5661947eee8636",
            "value": "Login successful"
          }
        },
        "5bc2c1f98014409f98f0c9c98fc138ab": {
          "model_module": "@jupyter-widgets/controls",
          "model_module_version": "1.5.0",
          "model_name": "DescriptionStyleModel",
          "state": {
            "_model_module": "@jupyter-widgets/controls",
            "_model_module_version": "1.5.0",
            "_model_name": "DescriptionStyleModel",
            "_view_count": null,
            "_view_module": "@jupyter-widgets/base",
            "_view_module_version": "1.2.0",
            "_view_name": "StyleView",
            "description_width": ""
          }
        },
        "688cb08ee71842fd92da23681819ec95": {
          "model_module": "@jupyter-widgets/controls",
          "model_module_version": "1.5.0",
          "model_name": "HBoxModel",
          "state": {
            "_dom_classes": [],
            "_model_module": "@jupyter-widgets/controls",
            "_model_module_version": "1.5.0",
            "_model_name": "HBoxModel",
            "_view_count": null,
            "_view_module": "@jupyter-widgets/controls",
            "_view_module_version": "1.5.0",
            "_view_name": "HBoxView",
            "box_style": "",
            "children": [
              "IPY_MODEL_833343c4089b47859b019d8335a19908",
              "IPY_MODEL_dd9eb7d6b24b48a7bb1b84584174c07a",
              "IPY_MODEL_1dd1b61cc9644421bafd13aafd760071"
            ],
            "layout": "IPY_MODEL_4062c912660e40b9a2bb5fc37c4f826c"
          }
        },
        "6d4805afc46a4239a8dad08105797154": {
          "model_module": "@jupyter-widgets/base",
          "model_module_version": "1.2.0",
          "model_name": "LayoutModel",
          "state": {
            "_model_module": "@jupyter-widgets/base",
            "_model_module_version": "1.2.0",
            "_model_name": "LayoutModel",
            "_view_count": null,
            "_view_module": "@jupyter-widgets/base",
            "_view_module_version": "1.2.0",
            "_view_name": "LayoutView",
            "align_content": null,
            "align_items": null,
            "align_self": null,
            "border": null,
            "bottom": null,
            "display": null,
            "flex": null,
            "flex_flow": null,
            "grid_area": null,
            "grid_auto_columns": null,
            "grid_auto_flow": null,
            "grid_auto_rows": null,
            "grid_column": null,
            "grid_gap": null,
            "grid_row": null,
            "grid_template_areas": null,
            "grid_template_columns": null,
            "grid_template_rows": null,
            "height": null,
            "justify_content": null,
            "justify_items": null,
            "left": null,
            "margin": null,
            "max_height": null,
            "max_width": null,
            "min_height": null,
            "min_width": null,
            "object_fit": null,
            "object_position": null,
            "order": null,
            "overflow": null,
            "overflow_x": null,
            "overflow_y": null,
            "padding": null,
            "right": null,
            "top": null,
            "visibility": null,
            "width": null
          }
        },
        "6da83cc92206480793ccd70a88278c4d": {
          "model_module": "@jupyter-widgets/controls",
          "model_module_version": "1.5.0",
          "model_name": "LabelModel",
          "state": {
            "_dom_classes": [],
            "_model_module": "@jupyter-widgets/controls",
            "_model_module_version": "1.5.0",
            "_model_name": "LabelModel",
            "_view_count": null,
            "_view_module": "@jupyter-widgets/controls",
            "_view_module_version": "1.5.0",
            "_view_name": "LabelView",
            "description": "",
            "description_tooltip": null,
            "layout": "IPY_MODEL_c27167fcb94c4c839202c3ce150a13f6",
            "placeholder": "​",
            "style": "IPY_MODEL_2be61e28254e48eb87a7ed79c211421a",
            "value": "Your token has been saved to /root/.cache/huggingface/token"
          }
        },
        "6ece86edcdcf4b7498061922c0195653": {
          "model_module": "@jupyter-widgets/controls",
          "model_module_version": "1.5.0",
          "model_name": "ProgressStyleModel",
          "state": {
            "_model_module": "@jupyter-widgets/controls",
            "_model_module_version": "1.5.0",
            "_model_name": "ProgressStyleModel",
            "_view_count": null,
            "_view_module": "@jupyter-widgets/base",
            "_view_module_version": "1.2.0",
            "_view_name": "StyleView",
            "bar_color": null,
            "description_width": ""
          }
        },
        "7111bd8a4b0646279846346a05964ec8": {
          "model_module": "@jupyter-widgets/controls",
          "model_module_version": "1.5.0",
          "model_name": "DescriptionStyleModel",
          "state": {
            "_model_module": "@jupyter-widgets/controls",
            "_model_module_version": "1.5.0",
            "_model_name": "DescriptionStyleModel",
            "_view_count": null,
            "_view_module": "@jupyter-widgets/base",
            "_view_module_version": "1.2.0",
            "_view_name": "StyleView",
            "description_width": ""
          }
        },
        "722bb4019f874892bc34de575b7e08d8": {
          "model_module": "@jupyter-widgets/base",
          "model_module_version": "1.2.0",
          "model_name": "LayoutModel",
          "state": {
            "_model_module": "@jupyter-widgets/base",
            "_model_module_version": "1.2.0",
            "_model_name": "LayoutModel",
            "_view_count": null,
            "_view_module": "@jupyter-widgets/base",
            "_view_module_version": "1.2.0",
            "_view_name": "LayoutView",
            "align_content": null,
            "align_items": null,
            "align_self": null,
            "border": null,
            "bottom": null,
            "display": null,
            "flex": null,
            "flex_flow": null,
            "grid_area": null,
            "grid_auto_columns": null,
            "grid_auto_flow": null,
            "grid_auto_rows": null,
            "grid_column": null,
            "grid_gap": null,
            "grid_row": null,
            "grid_template_areas": null,
            "grid_template_columns": null,
            "grid_template_rows": null,
            "height": null,
            "justify_content": null,
            "justify_items": null,
            "left": null,
            "margin": null,
            "max_height": null,
            "max_width": null,
            "min_height": null,
            "min_width": null,
            "object_fit": null,
            "object_position": null,
            "order": null,
            "overflow": null,
            "overflow_x": null,
            "overflow_y": null,
            "padding": null,
            "right": null,
            "top": null,
            "visibility": null,
            "width": null
          }
        },
        "7b9bbe1e8f24433887d25339028a30bd": {
          "model_module": "@jupyter-widgets/base",
          "model_module_version": "1.2.0",
          "model_name": "LayoutModel",
          "state": {
            "_model_module": "@jupyter-widgets/base",
            "_model_module_version": "1.2.0",
            "_model_name": "LayoutModel",
            "_view_count": null,
            "_view_module": "@jupyter-widgets/base",
            "_view_module_version": "1.2.0",
            "_view_name": "LayoutView",
            "align_content": null,
            "align_items": null,
            "align_self": null,
            "border": null,
            "bottom": null,
            "display": null,
            "flex": null,
            "flex_flow": null,
            "grid_area": null,
            "grid_auto_columns": null,
            "grid_auto_flow": null,
            "grid_auto_rows": null,
            "grid_column": null,
            "grid_gap": null,
            "grid_row": null,
            "grid_template_areas": null,
            "grid_template_columns": null,
            "grid_template_rows": null,
            "height": null,
            "justify_content": null,
            "justify_items": null,
            "left": null,
            "margin": null,
            "max_height": null,
            "max_width": null,
            "min_height": null,
            "min_width": null,
            "object_fit": null,
            "object_position": null,
            "order": null,
            "overflow": null,
            "overflow_x": null,
            "overflow_y": null,
            "padding": null,
            "right": null,
            "top": null,
            "visibility": null,
            "width": null
          }
        },
        "7bcea6249ca3403cba39ae019f304466": {
          "model_module": "@jupyter-widgets/controls",
          "model_module_version": "1.5.0",
          "model_name": "LabelModel",
          "state": {
            "_dom_classes": [],
            "_model_module": "@jupyter-widgets/controls",
            "_model_module_version": "1.5.0",
            "_model_name": "LabelModel",
            "_view_count": null,
            "_view_module": "@jupyter-widgets/controls",
            "_view_module_version": "1.5.0",
            "_view_name": "LabelView",
            "description": "",
            "description_tooltip": null,
            "layout": "IPY_MODEL_3d94b4e40810408fb76afe15e5d09284",
            "placeholder": "​",
            "style": "IPY_MODEL_8adf6aef2f1147bf9760d1d6e6f1b8fd",
            "value": "Connecting..."
          }
        },
        "833343c4089b47859b019d8335a19908": {
          "model_module": "@jupyter-widgets/controls",
          "model_module_version": "1.5.0",
          "model_name": "HTMLModel",
          "state": {
            "_dom_classes": [],
            "_model_module": "@jupyter-widgets/controls",
            "_model_module_version": "1.5.0",
            "_model_name": "HTMLModel",
            "_view_count": null,
            "_view_module": "@jupyter-widgets/controls",
            "_view_module_version": "1.5.0",
            "_view_name": "HTMLView",
            "description": "",
            "description_tooltip": null,
            "layout": "IPY_MODEL_b7a5a778789545afb2f854d9f23173ab",
            "placeholder": "​",
            "style": "IPY_MODEL_0dacac2b55c3453f9e1bd127f5d4771c",
            "value": "Map: 100%"
          }
        },
        "8adf6aef2f1147bf9760d1d6e6f1b8fd": {
          "model_module": "@jupyter-widgets/controls",
          "model_module_version": "1.5.0",
          "model_name": "DescriptionStyleModel",
          "state": {
            "_model_module": "@jupyter-widgets/controls",
            "_model_module_version": "1.5.0",
            "_model_name": "DescriptionStyleModel",
            "_view_count": null,
            "_view_module": "@jupyter-widgets/base",
            "_view_module_version": "1.2.0",
            "_view_name": "StyleView",
            "description_width": ""
          }
        },
        "8e35bdb8cf2b41709cf781f6e7a5dde3": {
          "model_module": "@jupyter-widgets/controls",
          "model_module_version": "1.5.0",
          "model_name": "DescriptionStyleModel",
          "state": {
            "_model_module": "@jupyter-widgets/controls",
            "_model_module_version": "1.5.0",
            "_model_name": "DescriptionStyleModel",
            "_view_count": null,
            "_view_module": "@jupyter-widgets/base",
            "_view_module_version": "1.2.0",
            "_view_name": "StyleView",
            "description_width": ""
          }
        },
        "904e249d69ed4cd9beff9101b0414010": {
          "model_module": "@jupyter-widgets/controls",
          "model_module_version": "1.5.0",
          "model_name": "FloatProgressModel",
          "state": {
            "_dom_classes": [],
            "_model_module": "@jupyter-widgets/controls",
            "_model_module_version": "1.5.0",
            "_model_name": "FloatProgressModel",
            "_view_count": null,
            "_view_module": "@jupyter-widgets/controls",
            "_view_module_version": "1.5.0",
            "_view_name": "ProgressView",
            "bar_style": "success",
            "description": "",
            "description_tooltip": null,
            "layout": "IPY_MODEL_9641926e1d464104ae3d6b0c8292fb49",
            "max": 2000,
            "min": 0,
            "orientation": "horizontal",
            "style": "IPY_MODEL_d49edb180bef47cba2de018f6731ef7c",
            "value": 2000
          }
        },
        "92c63962e0cb453fa87084beb1f84468": {
          "model_module": "@jupyter-widgets/controls",
          "model_module_version": "1.5.0",
          "model_name": "ButtonStyleModel",
          "state": {
            "_model_module": "@jupyter-widgets/controls",
            "_model_module_version": "1.5.0",
            "_model_name": "ButtonStyleModel",
            "_view_count": null,
            "_view_module": "@jupyter-widgets/base",
            "_view_module_version": "1.2.0",
            "_view_name": "StyleView",
            "button_color": null,
            "font_weight": ""
          }
        },
        "95d071b123d142acb03f33c375353875": {
          "model_module": "@jupyter-widgets/controls",
          "model_module_version": "1.5.0",
          "model_name": "HTMLModel",
          "state": {
            "_dom_classes": [],
            "_model_module": "@jupyter-widgets/controls",
            "_model_module_version": "1.5.0",
            "_model_name": "HTMLModel",
            "_view_count": null,
            "_view_module": "@jupyter-widgets/controls",
            "_view_module_version": "1.5.0",
            "_view_name": "HTMLView",
            "description": "",
            "description_tooltip": null,
            "layout": "IPY_MODEL_9bf08ed61cfa4ee3b5b804b9cdcfdf11",
            "placeholder": "​",
            "style": "IPY_MODEL_971279c0c0f04eaea5eada5d03519b85",
            "value": "Map: 100%"
          }
        },
        "9641926e1d464104ae3d6b0c8292fb49": {
          "model_module": "@jupyter-widgets/base",
          "model_module_version": "1.2.0",
          "model_name": "LayoutModel",
          "state": {
            "_model_module": "@jupyter-widgets/base",
            "_model_module_version": "1.2.0",
            "_model_name": "LayoutModel",
            "_view_count": null,
            "_view_module": "@jupyter-widgets/base",
            "_view_module_version": "1.2.0",
            "_view_name": "LayoutView",
            "align_content": null,
            "align_items": null,
            "align_self": null,
            "border": null,
            "bottom": null,
            "display": null,
            "flex": null,
            "flex_flow": null,
            "grid_area": null,
            "grid_auto_columns": null,
            "grid_auto_flow": null,
            "grid_auto_rows": null,
            "grid_column": null,
            "grid_gap": null,
            "grid_row": null,
            "grid_template_areas": null,
            "grid_template_columns": null,
            "grid_template_rows": null,
            "height": null,
            "justify_content": null,
            "justify_items": null,
            "left": null,
            "margin": null,
            "max_height": null,
            "max_width": null,
            "min_height": null,
            "min_width": null,
            "object_fit": null,
            "object_position": null,
            "order": null,
            "overflow": null,
            "overflow_x": null,
            "overflow_y": null,
            "padding": null,
            "right": null,
            "top": null,
            "visibility": null,
            "width": null
          }
        },
        "971279c0c0f04eaea5eada5d03519b85": {
          "model_module": "@jupyter-widgets/controls",
          "model_module_version": "1.5.0",
          "model_name": "DescriptionStyleModel",
          "state": {
            "_model_module": "@jupyter-widgets/controls",
            "_model_module_version": "1.5.0",
            "_model_name": "DescriptionStyleModel",
            "_view_count": null,
            "_view_module": "@jupyter-widgets/base",
            "_view_module_version": "1.2.0",
            "_view_name": "StyleView",
            "description_width": ""
          }
        },
        "9bf08ed61cfa4ee3b5b804b9cdcfdf11": {
          "model_module": "@jupyter-widgets/base",
          "model_module_version": "1.2.0",
          "model_name": "LayoutModel",
          "state": {
            "_model_module": "@jupyter-widgets/base",
            "_model_module_version": "1.2.0",
            "_model_name": "LayoutModel",
            "_view_count": null,
            "_view_module": "@jupyter-widgets/base",
            "_view_module_version": "1.2.0",
            "_view_name": "LayoutView",
            "align_content": null,
            "align_items": null,
            "align_self": null,
            "border": null,
            "bottom": null,
            "display": null,
            "flex": null,
            "flex_flow": null,
            "grid_area": null,
            "grid_auto_columns": null,
            "grid_auto_flow": null,
            "grid_auto_rows": null,
            "grid_column": null,
            "grid_gap": null,
            "grid_row": null,
            "grid_template_areas": null,
            "grid_template_columns": null,
            "grid_template_rows": null,
            "height": null,
            "justify_content": null,
            "justify_items": null,
            "left": null,
            "margin": null,
            "max_height": null,
            "max_width": null,
            "min_height": null,
            "min_width": null,
            "object_fit": null,
            "object_position": null,
            "order": null,
            "overflow": null,
            "overflow_x": null,
            "overflow_y": null,
            "padding": null,
            "right": null,
            "top": null,
            "visibility": null,
            "width": null
          }
        },
        "a39d5a22ef914a5f8d5db8424b595bc2": {
          "model_module": "@jupyter-widgets/controls",
          "model_module_version": "1.5.0",
          "model_name": "HTMLModel",
          "state": {
            "_dom_classes": [],
            "_model_module": "@jupyter-widgets/controls",
            "_model_module_version": "1.5.0",
            "_model_name": "HTMLModel",
            "_view_count": null,
            "_view_module": "@jupyter-widgets/controls",
            "_view_module_version": "1.5.0",
            "_view_name": "HTMLView",
            "description": "",
            "description_tooltip": null,
            "layout": "IPY_MODEL_3933d65dd43f4d658dfbc5b3e2feb073",
            "placeholder": "​",
            "style": "IPY_MODEL_b5bfb0d3ebb646529378a737624236f2",
            "value": "<center> <img\nsrc=https://huggingface.co/front/assets/huggingface_logo-noborder.svg\nalt='Hugging Face'> <br> Copy a token from <a\nhref=\"https://huggingface.co/settings/tokens\" target=\"_blank\">your Hugging Face\ntokens page</a> and paste it below. <br> Immediately click login after copying\nyour token or it might be stored in plain text in this notebook file. </center>"
          }
        },
        "a869d4289e5746e1b83ee67d6d952033": {
          "model_module": "@jupyter-widgets/controls",
          "model_module_version": "1.5.0",
          "model_name": "CheckboxModel",
          "state": {
            "_dom_classes": [],
            "_model_module": "@jupyter-widgets/controls",
            "_model_module_version": "1.5.0",
            "_model_name": "CheckboxModel",
            "_view_count": null,
            "_view_module": "@jupyter-widgets/controls",
            "_view_module_version": "1.5.0",
            "_view_name": "CheckboxView",
            "description": "Add token as git credential?",
            "description_tooltip": null,
            "disabled": false,
            "indent": true,
            "layout": "IPY_MODEL_7b9bbe1e8f24433887d25339028a30bd",
            "style": "IPY_MODEL_8e35bdb8cf2b41709cf781f6e7a5dde3",
            "value": true
          }
        },
        "b5bfb0d3ebb646529378a737624236f2": {
          "model_module": "@jupyter-widgets/controls",
          "model_module_version": "1.5.0",
          "model_name": "DescriptionStyleModel",
          "state": {
            "_model_module": "@jupyter-widgets/controls",
            "_model_module_version": "1.5.0",
            "_model_name": "DescriptionStyleModel",
            "_view_count": null,
            "_view_module": "@jupyter-widgets/base",
            "_view_module_version": "1.2.0",
            "_view_name": "StyleView",
            "description_width": ""
          }
        },
        "b7a5a778789545afb2f854d9f23173ab": {
          "model_module": "@jupyter-widgets/base",
          "model_module_version": "1.2.0",
          "model_name": "LayoutModel",
          "state": {
            "_model_module": "@jupyter-widgets/base",
            "_model_module_version": "1.2.0",
            "_model_name": "LayoutModel",
            "_view_count": null,
            "_view_module": "@jupyter-widgets/base",
            "_view_module_version": "1.2.0",
            "_view_name": "LayoutView",
            "align_content": null,
            "align_items": null,
            "align_self": null,
            "border": null,
            "bottom": null,
            "display": null,
            "flex": null,
            "flex_flow": null,
            "grid_area": null,
            "grid_auto_columns": null,
            "grid_auto_flow": null,
            "grid_auto_rows": null,
            "grid_column": null,
            "grid_gap": null,
            "grid_row": null,
            "grid_template_areas": null,
            "grid_template_columns": null,
            "grid_template_rows": null,
            "height": null,
            "justify_content": null,
            "justify_items": null,
            "left": null,
            "margin": null,
            "max_height": null,
            "max_width": null,
            "min_height": null,
            "min_width": null,
            "object_fit": null,
            "object_position": null,
            "order": null,
            "overflow": null,
            "overflow_x": null,
            "overflow_y": null,
            "padding": null,
            "right": null,
            "top": null,
            "visibility": null,
            "width": null
          }
        },
        "bd8dae66dfec40ac9d6cf99f63874d0e": {
          "model_module": "@jupyter-widgets/base",
          "model_module_version": "1.2.0",
          "model_name": "LayoutModel",
          "state": {
            "_model_module": "@jupyter-widgets/base",
            "_model_module_version": "1.2.0",
            "_model_name": "LayoutModel",
            "_view_count": null,
            "_view_module": "@jupyter-widgets/base",
            "_view_module_version": "1.2.0",
            "_view_name": "LayoutView",
            "align_content": null,
            "align_items": null,
            "align_self": null,
            "border": null,
            "bottom": null,
            "display": null,
            "flex": null,
            "flex_flow": null,
            "grid_area": null,
            "grid_auto_columns": null,
            "grid_auto_flow": null,
            "grid_auto_rows": null,
            "grid_column": null,
            "grid_gap": null,
            "grid_row": null,
            "grid_template_areas": null,
            "grid_template_columns": null,
            "grid_template_rows": null,
            "height": null,
            "justify_content": null,
            "justify_items": null,
            "left": null,
            "margin": null,
            "max_height": null,
            "max_width": null,
            "min_height": null,
            "min_width": null,
            "object_fit": null,
            "object_position": null,
            "order": null,
            "overflow": null,
            "overflow_x": null,
            "overflow_y": null,
            "padding": null,
            "right": null,
            "top": null,
            "visibility": null,
            "width": null
          }
        },
        "c27167fcb94c4c839202c3ce150a13f6": {
          "model_module": "@jupyter-widgets/base",
          "model_module_version": "1.2.0",
          "model_name": "LayoutModel",
          "state": {
            "_model_module": "@jupyter-widgets/base",
            "_model_module_version": "1.2.0",
            "_model_name": "LayoutModel",
            "_view_count": null,
            "_view_module": "@jupyter-widgets/base",
            "_view_module_version": "1.2.0",
            "_view_name": "LayoutView",
            "align_content": null,
            "align_items": null,
            "align_self": null,
            "border": null,
            "bottom": null,
            "display": null,
            "flex": null,
            "flex_flow": null,
            "grid_area": null,
            "grid_auto_columns": null,
            "grid_auto_flow": null,
            "grid_auto_rows": null,
            "grid_column": null,
            "grid_gap": null,
            "grid_row": null,
            "grid_template_areas": null,
            "grid_template_columns": null,
            "grid_template_rows": null,
            "height": null,
            "justify_content": null,
            "justify_items": null,
            "left": null,
            "margin": null,
            "max_height": null,
            "max_width": null,
            "min_height": null,
            "min_width": null,
            "object_fit": null,
            "object_position": null,
            "order": null,
            "overflow": null,
            "overflow_x": null,
            "overflow_y": null,
            "padding": null,
            "right": null,
            "top": null,
            "visibility": null,
            "width": null
          }
        },
        "c521590484aa40bf866ddffde3df53ca": {
          "model_module": "@jupyter-widgets/controls",
          "model_module_version": "1.5.0",
          "model_name": "HTMLModel",
          "state": {
            "_dom_classes": [],
            "_model_module": "@jupyter-widgets/controls",
            "_model_module_version": "1.5.0",
            "_model_name": "HTMLModel",
            "_view_count": null,
            "_view_module": "@jupyter-widgets/controls",
            "_view_module_version": "1.5.0",
            "_view_name": "HTMLView",
            "description": "",
            "description_tooltip": null,
            "layout": "IPY_MODEL_d03ba541c5424661917f17f2d6a7e320",
            "placeholder": "​",
            "style": "IPY_MODEL_e52e565de0a74a8380cf87fe9e398db9",
            "value": " 2000/2000 [00:00&lt;00:00, 3643.19 examples/s]"
          }
        },
        "c538a8e81f6943f8914088d2c73aeb7b": {
          "model_module": "@jupyter-widgets/base",
          "model_module_version": "1.2.0",
          "model_name": "LayoutModel",
          "state": {
            "_model_module": "@jupyter-widgets/base",
            "_model_module_version": "1.2.0",
            "_model_name": "LayoutModel",
            "_view_count": null,
            "_view_module": "@jupyter-widgets/base",
            "_view_module_version": "1.2.0",
            "_view_name": "LayoutView",
            "align_content": null,
            "align_items": null,
            "align_self": null,
            "border": null,
            "bottom": null,
            "display": null,
            "flex": null,
            "flex_flow": null,
            "grid_area": null,
            "grid_auto_columns": null,
            "grid_auto_flow": null,
            "grid_auto_rows": null,
            "grid_column": null,
            "grid_gap": null,
            "grid_row": null,
            "grid_template_areas": null,
            "grid_template_columns": null,
            "grid_template_rows": null,
            "height": null,
            "justify_content": null,
            "justify_items": null,
            "left": null,
            "margin": null,
            "max_height": null,
            "max_width": null,
            "min_height": null,
            "min_width": null,
            "object_fit": null,
            "object_position": null,
            "order": null,
            "overflow": null,
            "overflow_x": null,
            "overflow_y": null,
            "padding": null,
            "right": null,
            "top": null,
            "visibility": null,
            "width": null
          }
        },
        "d03ba541c5424661917f17f2d6a7e320": {
          "model_module": "@jupyter-widgets/base",
          "model_module_version": "1.2.0",
          "model_name": "LayoutModel",
          "state": {
            "_model_module": "@jupyter-widgets/base",
            "_model_module_version": "1.2.0",
            "_model_name": "LayoutModel",
            "_view_count": null,
            "_view_module": "@jupyter-widgets/base",
            "_view_module_version": "1.2.0",
            "_view_name": "LayoutView",
            "align_content": null,
            "align_items": null,
            "align_self": null,
            "border": null,
            "bottom": null,
            "display": null,
            "flex": null,
            "flex_flow": null,
            "grid_area": null,
            "grid_auto_columns": null,
            "grid_auto_flow": null,
            "grid_auto_rows": null,
            "grid_column": null,
            "grid_gap": null,
            "grid_row": null,
            "grid_template_areas": null,
            "grid_template_columns": null,
            "grid_template_rows": null,
            "height": null,
            "justify_content": null,
            "justify_items": null,
            "left": null,
            "margin": null,
            "max_height": null,
            "max_width": null,
            "min_height": null,
            "min_width": null,
            "object_fit": null,
            "object_position": null,
            "order": null,
            "overflow": null,
            "overflow_x": null,
            "overflow_y": null,
            "padding": null,
            "right": null,
            "top": null,
            "visibility": null,
            "width": null
          }
        },
        "d38b20b76f10408aaff8ebc578cb4949": {
          "model_module": "@jupyter-widgets/controls",
          "model_module_version": "1.5.0",
          "model_name": "VBoxModel",
          "state": {
            "_dom_classes": [],
            "_model_module": "@jupyter-widgets/controls",
            "_model_module_version": "1.5.0",
            "_model_name": "VBoxModel",
            "_view_count": null,
            "_view_module": "@jupyter-widgets/controls",
            "_view_module_version": "1.5.0",
            "_view_name": "VBoxView",
            "box_style": "",
            "children": [
              "IPY_MODEL_07eca6123bdc45609803b665e61c3df0",
              "IPY_MODEL_19997f6028c848949dd30cd628f0e95c",
              "IPY_MODEL_6da83cc92206480793ccd70a88278c4d",
              "IPY_MODEL_51242470c37c4b28a2be02a71d8b0569"
            ],
            "layout": "IPY_MODEL_2afa38e276844a748f94316c494c8fc6"
          }
        },
        "d3c7e1c96d74475b8bae6abf237eb145": {
          "model_module": "@jupyter-widgets/controls",
          "model_module_version": "1.5.0",
          "model_name": "DescriptionStyleModel",
          "state": {
            "_model_module": "@jupyter-widgets/controls",
            "_model_module_version": "1.5.0",
            "_model_name": "DescriptionStyleModel",
            "_view_count": null,
            "_view_module": "@jupyter-widgets/base",
            "_view_module_version": "1.2.0",
            "_view_name": "StyleView",
            "description_width": ""
          }
        },
        "d49edb180bef47cba2de018f6731ef7c": {
          "model_module": "@jupyter-widgets/controls",
          "model_module_version": "1.5.0",
          "model_name": "ProgressStyleModel",
          "state": {
            "_model_module": "@jupyter-widgets/controls",
            "_model_module_version": "1.5.0",
            "_model_name": "ProgressStyleModel",
            "_view_count": null,
            "_view_module": "@jupyter-widgets/base",
            "_view_module_version": "1.2.0",
            "_view_name": "StyleView",
            "bar_color": null,
            "description_width": ""
          }
        },
        "d7a1f901d5d14cda861e6c1c9b0220cf": {
          "model_module": "@jupyter-widgets/controls",
          "model_module_version": "1.5.0",
          "model_name": "DescriptionStyleModel",
          "state": {
            "_model_module": "@jupyter-widgets/controls",
            "_model_module_version": "1.5.0",
            "_model_name": "DescriptionStyleModel",
            "_view_count": null,
            "_view_module": "@jupyter-widgets/base",
            "_view_module_version": "1.2.0",
            "_view_name": "StyleView",
            "description_width": ""
          }
        },
        "d7b5d0a051d04c0ca7cd6275f05f7ad9": {
          "model_module": "@jupyter-widgets/controls",
          "model_module_version": "1.5.0",
          "model_name": "HBoxModel",
          "state": {
            "_dom_classes": [],
            "_model_module": "@jupyter-widgets/controls",
            "_model_module_version": "1.5.0",
            "_model_name": "HBoxModel",
            "_view_count": null,
            "_view_module": "@jupyter-widgets/controls",
            "_view_module_version": "1.5.0",
            "_view_name": "HBoxView",
            "box_style": "",
            "children": [
              "IPY_MODEL_249cfdf0dca64e4488a03eab15454828",
              "IPY_MODEL_03a392629e5746259141aa7bf37fc69c",
              "IPY_MODEL_0b34184f284b478b9b7fa21f1d6e44e3"
            ],
            "layout": "IPY_MODEL_bd8dae66dfec40ac9d6cf99f63874d0e"
          }
        },
        "d87b3e77b0c047f6bc30898c393fd26a": {
          "model_module": "@jupyter-widgets/controls",
          "model_module_version": "1.5.0",
          "model_name": "HBoxModel",
          "state": {
            "_dom_classes": [],
            "_model_module": "@jupyter-widgets/controls",
            "_model_module_version": "1.5.0",
            "_model_name": "HBoxModel",
            "_view_count": null,
            "_view_module": "@jupyter-widgets/controls",
            "_view_module_version": "1.5.0",
            "_view_name": "HBoxView",
            "box_style": "",
            "children": [
              "IPY_MODEL_95d071b123d142acb03f33c375353875",
              "IPY_MODEL_904e249d69ed4cd9beff9101b0414010",
              "IPY_MODEL_c521590484aa40bf866ddffde3df53ca"
            ],
            "layout": "IPY_MODEL_fea34542a67f4daeaeeca68564f7d36e"
          }
        },
        "dd9eb7d6b24b48a7bb1b84584174c07a": {
          "model_module": "@jupyter-widgets/controls",
          "model_module_version": "1.5.0",
          "model_name": "FloatProgressModel",
          "state": {
            "_dom_classes": [],
            "_model_module": "@jupyter-widgets/controls",
            "_model_module_version": "1.5.0",
            "_model_name": "FloatProgressModel",
            "_view_count": null,
            "_view_module": "@jupyter-widgets/controls",
            "_view_module_version": "1.5.0",
            "_view_name": "ProgressView",
            "bar_style": "success",
            "description": "",
            "description_tooltip": null,
            "layout": "IPY_MODEL_f1510ddb417d47ffad3453510fed63d3",
            "max": 16000,
            "min": 0,
            "orientation": "horizontal",
            "style": "IPY_MODEL_6ece86edcdcf4b7498061922c0195653",
            "value": 16000
          }
        },
        "e52e565de0a74a8380cf87fe9e398db9": {
          "model_module": "@jupyter-widgets/controls",
          "model_module_version": "1.5.0",
          "model_name": "DescriptionStyleModel",
          "state": {
            "_model_module": "@jupyter-widgets/controls",
            "_model_module_version": "1.5.0",
            "_model_name": "DescriptionStyleModel",
            "_view_count": null,
            "_view_module": "@jupyter-widgets/base",
            "_view_module_version": "1.2.0",
            "_view_name": "StyleView",
            "description_width": ""
          }
        },
        "e8710c4f544645808087531910d62505": {
          "model_module": "@jupyter-widgets/controls",
          "model_module_version": "1.5.0",
          "model_name": "ProgressStyleModel",
          "state": {
            "_model_module": "@jupyter-widgets/controls",
            "_model_module_version": "1.5.0",
            "_model_name": "ProgressStyleModel",
            "_view_count": null,
            "_view_module": "@jupyter-widgets/base",
            "_view_module_version": "1.2.0",
            "_view_name": "StyleView",
            "bar_color": null,
            "description_width": ""
          }
        },
        "e9de2fe13f7b420c88a50677fd24167c": {
          "model_module": "@jupyter-widgets/base",
          "model_module_version": "1.2.0",
          "model_name": "LayoutModel",
          "state": {
            "_model_module": "@jupyter-widgets/base",
            "_model_module_version": "1.2.0",
            "_model_name": "LayoutModel",
            "_view_count": null,
            "_view_module": "@jupyter-widgets/base",
            "_view_module_version": "1.2.0",
            "_view_name": "LayoutView",
            "align_content": null,
            "align_items": null,
            "align_self": null,
            "border": null,
            "bottom": null,
            "display": null,
            "flex": null,
            "flex_flow": null,
            "grid_area": null,
            "grid_auto_columns": null,
            "grid_auto_flow": null,
            "grid_auto_rows": null,
            "grid_column": null,
            "grid_gap": null,
            "grid_row": null,
            "grid_template_areas": null,
            "grid_template_columns": null,
            "grid_template_rows": null,
            "height": null,
            "justify_content": null,
            "justify_items": null,
            "left": null,
            "margin": null,
            "max_height": null,
            "max_width": null,
            "min_height": null,
            "min_width": null,
            "object_fit": null,
            "object_position": null,
            "order": null,
            "overflow": null,
            "overflow_x": null,
            "overflow_y": null,
            "padding": null,
            "right": null,
            "top": null,
            "visibility": null,
            "width": null
          }
        },
        "eef1bc152cd840c894adf078cb7030d7": {
          "model_module": "@jupyter-widgets/controls",
          "model_module_version": "1.5.0",
          "model_name": "ButtonModel",
          "state": {
            "_dom_classes": [],
            "_model_module": "@jupyter-widgets/controls",
            "_model_module_version": "1.5.0",
            "_model_name": "ButtonModel",
            "_view_count": null,
            "_view_module": "@jupyter-widgets/controls",
            "_view_module_version": "1.5.0",
            "_view_name": "ButtonView",
            "button_style": "",
            "description": "Login",
            "disabled": false,
            "icon": "",
            "layout": "IPY_MODEL_6d4805afc46a4239a8dad08105797154",
            "style": "IPY_MODEL_92c63962e0cb453fa87084beb1f84468",
            "tooltip": ""
          }
        },
        "f1510ddb417d47ffad3453510fed63d3": {
          "model_module": "@jupyter-widgets/base",
          "model_module_version": "1.2.0",
          "model_name": "LayoutModel",
          "state": {
            "_model_module": "@jupyter-widgets/base",
            "_model_module_version": "1.2.0",
            "_model_name": "LayoutModel",
            "_view_count": null,
            "_view_module": "@jupyter-widgets/base",
            "_view_module_version": "1.2.0",
            "_view_name": "LayoutView",
            "align_content": null,
            "align_items": null,
            "align_self": null,
            "border": null,
            "bottom": null,
            "display": null,
            "flex": null,
            "flex_flow": null,
            "grid_area": null,
            "grid_auto_columns": null,
            "grid_auto_flow": null,
            "grid_auto_rows": null,
            "grid_column": null,
            "grid_gap": null,
            "grid_row": null,
            "grid_template_areas": null,
            "grid_template_columns": null,
            "grid_template_rows": null,
            "height": null,
            "justify_content": null,
            "justify_items": null,
            "left": null,
            "margin": null,
            "max_height": null,
            "max_width": null,
            "min_height": null,
            "min_width": null,
            "object_fit": null,
            "object_position": null,
            "order": null,
            "overflow": null,
            "overflow_x": null,
            "overflow_y": null,
            "padding": null,
            "right": null,
            "top": null,
            "visibility": null,
            "width": null
          }
        },
        "fb9f2941ee83469eb148a16e1a274ca2": {
          "model_module": "@jupyter-widgets/base",
          "model_module_version": "1.2.0",
          "model_name": "LayoutModel",
          "state": {
            "_model_module": "@jupyter-widgets/base",
            "_model_module_version": "1.2.0",
            "_model_name": "LayoutModel",
            "_view_count": null,
            "_view_module": "@jupyter-widgets/base",
            "_view_module_version": "1.2.0",
            "_view_name": "LayoutView",
            "align_content": null,
            "align_items": null,
            "align_self": null,
            "border": null,
            "bottom": null,
            "display": null,
            "flex": null,
            "flex_flow": null,
            "grid_area": null,
            "grid_auto_columns": null,
            "grid_auto_flow": null,
            "grid_auto_rows": null,
            "grid_column": null,
            "grid_gap": null,
            "grid_row": null,
            "grid_template_areas": null,
            "grid_template_columns": null,
            "grid_template_rows": null,
            "height": null,
            "justify_content": null,
            "justify_items": null,
            "left": null,
            "margin": null,
            "max_height": null,
            "max_width": null,
            "min_height": null,
            "min_width": null,
            "object_fit": null,
            "object_position": null,
            "order": null,
            "overflow": null,
            "overflow_x": null,
            "overflow_y": null,
            "padding": null,
            "right": null,
            "top": null,
            "visibility": null,
            "width": null
          }
        },
        "fea34542a67f4daeaeeca68564f7d36e": {
          "model_module": "@jupyter-widgets/base",
          "model_module_version": "1.2.0",
          "model_name": "LayoutModel",
          "state": {
            "_model_module": "@jupyter-widgets/base",
            "_model_module_version": "1.2.0",
            "_model_name": "LayoutModel",
            "_view_count": null,
            "_view_module": "@jupyter-widgets/base",
            "_view_module_version": "1.2.0",
            "_view_name": "LayoutView",
            "align_content": null,
            "align_items": null,
            "align_self": null,
            "border": null,
            "bottom": null,
            "display": null,
            "flex": null,
            "flex_flow": null,
            "grid_area": null,
            "grid_auto_columns": null,
            "grid_auto_flow": null,
            "grid_auto_rows": null,
            "grid_column": null,
            "grid_gap": null,
            "grid_row": null,
            "grid_template_areas": null,
            "grid_template_columns": null,
            "grid_template_rows": null,
            "height": null,
            "justify_content": null,
            "justify_items": null,
            "left": null,
            "margin": null,
            "max_height": null,
            "max_width": null,
            "min_height": null,
            "min_width": null,
            "object_fit": null,
            "object_position": null,
            "order": null,
            "overflow": null,
            "overflow_x": null,
            "overflow_y": null,
            "padding": null,
            "right": null,
            "top": null,
            "visibility": null,
            "width": null
          }
        }
      }
    }
  },
  "nbformat": 4,
  "nbformat_minor": 0
}
